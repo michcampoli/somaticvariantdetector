{
  "cells": [
    {
      "cell_type": "markdown",
      "metadata": {
        "id": "aQwCXPzUNAJs"
      },
      "source": [
        "ML4fungen Final Project Fall 2022 \\\\\n",
        "Michelle Campoli \\\\\n",
        "mec2308"
      ]
    },
    {
      "cell_type": "markdown",
      "source": [
        "***Abstract*** \\\\\n",
        "**For this project, a classification algorithm was built to detect somatic variants within a reading frame of aligned whole genome sequencing reads. The model is trained on 2,000 image representations of high-confidence somatic variants. The algorithm performance is poor and architecture needs refining, but the outline stands as a proof of concept. When compared against DeepVariant, a variant caller developed by Google, this algorithm works without use of a reference strand.**"
      ],
      "metadata": {
        "id": "tAZX8u1fsH39"
      }
    },
    {
      "cell_type": "markdown",
      "source": [
        "[Final report](https://drive.google.com/file/d/1ZoEY_eDMALE5MhUIBStE6se4_nN_VgtH/view?usp=sharing) \\\\\n",
        "[Final slides](https://docs.google.com/presentation/d/1x7siB532GSpiX_9bIlUFi9F9iHLyTWUzVFSBr0IscGI/edit?usp=sharing) \\\\\n",
        "[Final video](https://youtu.be/bzzxItNY_xY)"
      ],
      "metadata": {
        "id": "8Kg4b5PzLe6P"
      }
    },
    {
      "cell_type": "markdown",
      "source": [
        "This notebook was authored using Colab Pro.\n",
        "All packages used in this notebook can be downloaded through this colab notebook. No external downloads are needed."
      ],
      "metadata": {
        "id": "FOCAHCkvsqau"
      }
    },
    {
      "cell_type": "markdown",
      "metadata": {
        "id": "2Q4rk9UBaAge"
      },
      "source": [
        "#Preprocessing Steps\n",
        "\n",
        "Mount your Google drive. You can view files in the sidebar on the left under \"Files\". "
      ]
    },
    {
      "cell_type": "code",
      "execution_count": null,
      "metadata": {
        "colab": {
          "base_uri": "https://localhost:8080/"
        },
        "id": "lzkqFNhaY5i7",
        "outputId": "8c9dbfc5-9e6c-4712-b2c5-2a493f37fd34"
      },
      "outputs": [
        {
          "output_type": "stream",
          "name": "stdout",
          "text": [
            "Mounted at /content/drive\n"
          ]
        }
      ],
      "source": [
        "from google.colab import drive\n",
        "drive.mount('/content/drive')"
      ]
    },
    {
      "cell_type": "markdown",
      "source": [
        "Define some directories below:"
      ],
      "metadata": {
        "id": "6csjaTEHtBA9"
      }
    },
    {
      "cell_type": "code",
      "source": [
        "# define directories\n",
        "DATADIR = \"/content/drive/MyDrive/COMS4762_ML_for_Genomics/Platinum_Genomes/\" # this must lead to the Platinum_Genomes folder owned by Prof Knowles on Google Drive\n",
        "DATAOUT = \"/content/drive/MyDrive/COMS4762_ML_for_Genomics/\" # where you will save outputs\n",
        "\n",
        "# bam file being used\n",
        "NA12878_S1_Plat_Genome_bam_file_path = \"/content/drive/MyDrive/COMS4762_ML_for_Genomics/Platinum_Genomes/NA12878_S1.bam\"\n",
        "\n",
        "# reference genome file. Given in Assignment 2 data folder.\n",
        "ref_file = '/content/drive/MyDrive/COMS4762_ML_for_Genomics/Assignment_2/Assignment 2/hg19.pickle'"
      ],
      "metadata": {
        "id": "4sNx_ffls_7y"
      },
      "execution_count": null,
      "outputs": []
    },
    {
      "cell_type": "markdown",
      "metadata": {
        "id": "1ig-_Nmr-_5M"
      },
      "source": [
        "### Pysam\n",
        "Pysam is a python module that makes it easy to read and manipulate mapped short read sequence data stored in SAM/BAM files. It is a lightweight wrapper of the htslib C-API.\n",
        "\n",
        "[pysam](https://pysam.readthedocs.io/en/latest/glossary.html#term-region)\n",
        "\n",
        "To use the module to read a file in BAM format, create a AlignmentFile object:"
      ]
    },
    {
      "cell_type": "markdown",
      "metadata": {
        "id": "KygKHZYPlqYA"
      },
      "source": [
        "Using [Illumina Platinum Genomes](https://www.illumina.com/platinumgenomes.html) NA12878 data."
      ]
    },
    {
      "cell_type": "code",
      "execution_count": null,
      "metadata": {
        "id": "tX2393R9VyDu",
        "colab": {
          "base_uri": "https://localhost:8080/"
        },
        "outputId": "436f9e14-b6c4-4e46-a469-532e20bdc3d6"
      },
      "outputs": [
        {
          "output_type": "stream",
          "name": "stdout",
          "text": [
            "Looking in indexes: https://pypi.org/simple, https://us-python.pkg.dev/colab-wheels/public/simple/\n",
            "Collecting pysam\n",
            "  Downloading pysam-0.20.0-cp38-cp38-manylinux_2_24_x86_64.whl (16.1 MB)\n",
            "\u001b[2K     \u001b[90m━━━━━━━━━━━━━━━━━━━━━━━━━━━━━━━━━━━━━━━━\u001b[0m \u001b[32m16.1/16.1 MB\u001b[0m \u001b[31m87.8 MB/s\u001b[0m eta \u001b[36m0:00:00\u001b[0m\n",
            "\u001b[?25hInstalling collected packages: pysam\n",
            "Successfully installed pysam-0.20.0\n",
            "Looking in indexes: https://pypi.org/simple, https://us-python.pkg.dev/colab-wheels/public/simple/\n",
            "Collecting pybedtools\n",
            "  Downloading pybedtools-0.9.0.tar.gz (12.5 MB)\n",
            "\u001b[2K     \u001b[90m━━━━━━━━━━━━━━━━━━━━━━━━━━━━━━━━━━━━━━━━\u001b[0m \u001b[32m12.5/12.5 MB\u001b[0m \u001b[31m99.0 MB/s\u001b[0m eta \u001b[36m0:00:00\u001b[0m\n",
            "\u001b[?25h  Preparing metadata (setup.py) ... \u001b[?25l\u001b[?25hdone\n",
            "Requirement already satisfied: six in /usr/local/lib/python3.8/dist-packages (from pybedtools) (1.15.0)\n",
            "Requirement already satisfied: pysam in /usr/local/lib/python3.8/dist-packages (from pybedtools) (0.20.0)\n",
            "Building wheels for collected packages: pybedtools\n",
            "  Building wheel for pybedtools (setup.py) ... \u001b[?25l\u001b[?25hdone\n",
            "  Created wheel for pybedtools: filename=pybedtools-0.9.0-cp38-cp38-linux_x86_64.whl size=14295464 sha256=6fa99d956822cb21e6aa9ae1820aed52a11321df0d01ee92e3eb9673ac9a591a\n",
            "  Stored in directory: /root/.cache/pip/wheels/7b/10/cc/219c98e11fc3cbf65aa83bfe028d72b24043d6c921a3c19b50\n",
            "Successfully built pybedtools\n",
            "Installing collected packages: pybedtools\n",
            "Successfully installed pybedtools-0.9.0\n"
          ]
        }
      ],
      "source": [
        "!pip install pysam\n",
        "!pip install pybedtools\n",
        "import pysam\n",
        "import pandas as pd\n",
        "import pybedtools\n",
        "from matplotlib import pyplot as plt"
      ]
    },
    {
      "cell_type": "code",
      "execution_count": null,
      "metadata": {
        "id": "Bt8gxVJV_KLq"
      },
      "outputs": [],
      "source": [
        "# turn bam into sam file\n",
        "NA12878_S1_samfile = pysam.AlignmentFile(NA12878_S1_Plat_Genome_bam_file_path, \"rb\")"
      ]
    },
    {
      "cell_type": "code",
      "source": [
        "# import reference genome file\n",
        "import pickle\n",
        "#genome = pickle.load(open(DATADIR+\"hg38.pkl\",\"rb\")) # this is here in case there's hg38 data you want to analyze\n",
        "ref = pickle.load(open(ref_file,\"rb\"))"
      ],
      "metadata": {
        "id": "XBjodm6-fpyy"
      },
      "execution_count": null,
      "outputs": []
    },
    {
      "cell_type": "code",
      "execution_count": null,
      "metadata": {
        "id": "aRwiylRyV0As"
      },
      "outputs": [],
      "source": [
        "# one way to load file, output not really intuitive, \n",
        "# SKIP THIS\n",
        "\n",
        "# for read in NA12878_S1_samfile.fetch(\"chr2\",10000,11000):\n",
        "#     print(read)\n",
        "\n",
        "# #samfile.close()"
      ]
    },
    {
      "cell_type": "code",
      "execution_count": null,
      "metadata": {
        "id": "puqzSFC16WLW"
      },
      "outputs": [],
      "source": [
        "# pileup method, better way to read bam file\n",
        "# chromosome, start, stop\n",
        "# just reading a small portion to see what the structure is\n",
        "\n",
        "for pileupcolumn in NA12878_S1_samfile.pileup(\"chr1\",21527922,21527923):\n",
        "    print(\"\\ncoverage at base %s = %s\" % (pileupcolumn.pos, pileupcolumn.n))\n",
        "    for pileupread in pileupcolumn.pileups:\n",
        "        if not pileupread.is_del and not pileupread.is_refskip:\n",
        "            # query position is None if is_del or is_refskip is set.\n",
        "            print('\\tbase in read %s = %s' %\n",
        "                  (pileupread.alignment.query_name,\n",
        "                   pileupread.alignment.query_sequence[pileupread.query_position]))\n"
      ]
    },
    {
      "cell_type": "markdown",
      "metadata": {
        "id": "S6EbJMGcnArU"
      },
      "source": [
        "Variant Call Format (VCF) is a common file format developed by the genomics scientific community. It contains information about variants found at specific positions in a reference genome.\n",
        "VCF files use the file naming format SampleName_S#.vcf, where # is the sample number determined by the order that samples are listed for the run.\n",
        "\n",
        "Whole Genome Sequencing v5.0 is multinode only and uses the file naming format SampleName_S1.vcf.\n",
        "\n",
        "The VCF file header includes the VCF file format version and the variant caller version and lists the annotations used in the remainder of the file. The VCF header also includes the reference genome file and BAM file. The last line in the header contains the column headings for the data lines. Each of the VCF file data lines contains information about 1 variant."
      ]
    },
    {
      "cell_type": "markdown",
      "metadata": {
        "id": "IK8WGGM_mE56"
      },
      "source": [
        "Using [PyVCF](https://pyvcf.readthedocs.io/en/latest/INTRO.html) to read .vcf files. \n",
        "\n",
        "Additional [info](https://github.com/jamescasbon/PyVCF) on PyVCF.\n",
        "\n",
        "Additional [info](https://samtools.github.io/hts-specs/VCFv4.2.pdf) on VCF files."
      ]
    },
    {
      "cell_type": "code",
      "execution_count": null,
      "metadata": {
        "id": "IhB9tnvBayrt"
      },
      "outputs": [],
      "source": [
        "# # unzip VCF file, save output to DATAOUT path\n",
        "\n",
        "# # UN-COMMENT THIS CELL AND ONLY RUN THIS ONCE TO UNZIP FILE\n",
        "\n",
        "# import gzip, shutil\n",
        "\n",
        "# # saves to DATAOUT directory\n",
        "# with gzip.open(DATADIR+'NA12878_S1.vcf.gz', 'r') as f_in, open(DATAOUT+'NA12878_S1.vcf', 'wb') as f_out:\n",
        "#   shutil.copyfileobj(f_in, f_out)\n",
        "\n",
        "# VCF file and path\n",
        "vcf_file = DATAOUT+'NA12878_S1.vcf'"
      ]
    },
    {
      "cell_type": "code",
      "execution_count": null,
      "metadata": {
        "colab": {
          "base_uri": "https://localhost:8080/"
        },
        "id": "l7WoSmG8TtXm",
        "outputId": "5a77cf37-0b62-4547-c3d4-7284b375eae5"
      },
      "outputs": [
        {
          "output_type": "stream",
          "name": "stdout",
          "text": [
            "Looking in indexes: https://pypi.org/simple, https://us-python.pkg.dev/colab-wheels/public/simple/\n",
            "Collecting PyVCF\n",
            "  Downloading PyVCF-0.6.8.tar.gz (34 kB)\n",
            "  Preparing metadata (setup.py) ... \u001b[?25l\u001b[?25hdone\n",
            "Requirement already satisfied: setuptools in /usr/local/lib/python3.8/dist-packages (from PyVCF) (57.4.0)\n",
            "Building wheels for collected packages: PyVCF\n",
            "  Building wheel for PyVCF (setup.py) ... \u001b[?25l\u001b[?25hdone\n",
            "  Created wheel for PyVCF: filename=PyVCF-0.6.8-cp38-cp38-linux_x86_64.whl size=163635 sha256=b58e6be1c9188f5375da4ee8e78e0e167789f325d4cac6aa1899f61331d646b5\n",
            "  Stored in directory: /root/.cache/pip/wheels/f0/3e/15/c1865f9a071eacc7fc702e9c7d25fc752fe5e30a82d0dd405d\n",
            "Successfully built PyVCF\n",
            "Installing collected packages: PyVCF\n",
            "Successfully installed PyVCF-0.6.8\n"
          ]
        }
      ],
      "source": [
        "# read VCF file\n",
        "# In the Platinum Genomes folder there are two vcf files:\n",
        "# when reading NA12878_S1.genome.vcf.gz there are ALT=[None]'s,\n",
        "# therefore using NA12878_S1.vcf.gz\n",
        "\n",
        "!pip install PyVCF\n",
        "import vcf\n",
        "vcf_reader = vcf.Reader(open(vcf_file, 'r'))"
      ]
    },
    {
      "cell_type": "code",
      "source": [
        "# for reading VCF file into a pandas dataframe\n",
        "# this is abt 20gb in size. Colab can handle this.\n",
        "\n",
        "import io\n",
        "import os\n",
        "import pandas as pd\n",
        "\n",
        "\n",
        "def read_vcf(path):\n",
        "    with open(path, 'r') as f:\n",
        "        lines = [l for l in f if not l.startswith('##')]\n",
        "    return pd.read_csv(\n",
        "        io.StringIO(''.join(lines)),\n",
        "        dtype={'#CHROM': str, 'POS': int, 'ID': str, 'REF': str, 'ALT': str,\n",
        "               'QUAL': str, 'FILTER': str, 'INFO': str},\n",
        "        sep='\\t'\n",
        "    ).rename(columns={'#CHROM': 'CHROM'})"
      ],
      "metadata": {
        "id": "fBhnAqEdX5Nq"
      },
      "execution_count": null,
      "outputs": []
    },
    {
      "cell_type": "code",
      "source": [
        "vcf_dataframe = read_vcf(vcf_file)"
      ],
      "metadata": {
        "id": "wyEdauoWWuVA"
      },
      "execution_count": null,
      "outputs": []
    },
    {
      "cell_type": "code",
      "source": [
        "# check what dataframe looks like\n",
        "vcf_dataframe[400000:400010]"
      ],
      "metadata": {
        "colab": {
          "base_uri": "https://localhost:8080/",
          "height": 416
        },
        "id": "5ztMShw0VP9L",
        "outputId": "a8d6bf51-f8f6-4c54-aa56-238acd8c8569"
      },
      "execution_count": null,
      "outputs": [
        {
          "output_type": "execute_result",
          "data": {
            "text/plain": [
              "       CHROM        POS                                  ID REF ALT QUAL  \\\n",
              "400000  chr1  243715964                            rs959208   C   G  609   \n",
              "400001  chr1  243718643               rs398103911;rs5782266   A  AT  791   \n",
              "400002  chr1  243718762                           rs1809247   C   T  568   \n",
              "400003  chr1  243720429  rs561072270;rs66716743;rs759262418  TA   T  360   \n",
              "400004  chr1  243720575                          rs12144546   T   G  582   \n",
              "400005  chr1  243722993                           rs1458022   C   T  716   \n",
              "400006  chr1  243724245                                   .   G  GA  276   \n",
              "400007  chr1  243728025                           rs7514510   A   G  577   \n",
              "400008  chr1  243728268                           rs7548254   C   T  585   \n",
              "400009  chr1  243731480                          rs10803155   A   G  725   \n",
              "\n",
              "        FILTER                                               INFO  \\\n",
              "400000    PASS  SNVHPOL=2;MQ=60;GMAF=C|0.2171;AF1000G=0.618011...   \n",
              "400001    PASS  CIGAR=1M1I;RU=T;REFREP=10;IDREP=11;MQ=60;AF100...   \n",
              "400002    PASS  SNVHPOL=2;MQ=60;GMAF=T|0.4006;AF1000G=0.400559...   \n",
              "400003  LowGQX  CIGAR=1M1D;RU=A;REFREP=22;IDREP=21;MQ=60;AF100...   \n",
              "400004    PASS  SNVHPOL=3;MQ=60;GMAF=G|0.4008;AF1000G=0.400759...   \n",
              "400005    PASS  SNVHPOL=4;MQ=60;GMAF=C|0.2782;AF1000G=0.721845...   \n",
              "400006    PASS  CIGAR=1M1I;RU=A;REFREP=14;IDREP=15;MQ=60;CSQT=...   \n",
              "400007    PASS  SNVHPOL=2;MQ=60;GMAF=A|0.1797;AF1000G=0.820288...   \n",
              "400008    PASS  SNVHPOL=3;MQ=60;GMAF=T|0.3986;AF1000G=0.398562...   \n",
              "400009    PASS  SNVHPOL=3;MQ=60;GMAF=A|0.221;AF1000G=0.778954;...   \n",
              "\n",
              "                                      FORMAT  \\\n",
              "400000  GT:GQ:GQX:DP:DPF:AD:ADF:ADR:SB:FT:PL   \n",
              "400001        GT:GQ:GQX:DPI:AD:ADF:ADR:FT:PL   \n",
              "400002  GT:GQ:GQX:DP:DPF:AD:ADF:ADR:SB:FT:PL   \n",
              "400003        GT:GQ:GQX:DPI:AD:ADF:ADR:FT:PL   \n",
              "400004  GT:GQ:GQX:DP:DPF:AD:ADF:ADR:SB:FT:PL   \n",
              "400005  GT:GQ:GQX:DP:DPF:AD:ADF:ADR:SB:FT:PL   \n",
              "400006        GT:GQ:GQX:DPI:AD:ADF:ADR:FT:PL   \n",
              "400007  GT:GQ:GQX:DP:DPF:AD:ADF:ADR:SB:FT:PL   \n",
              "400008  GT:GQ:GQX:DP:DPF:AD:ADF:ADR:SB:FT:PL   \n",
              "400009  GT:GQ:GQX:DP:DPF:AD:ADF:ADR:SB:FT:PL   \n",
              "\n",
              "                                                  NA12878  \n",
              "400000  1/1:129:60:44:0:0,44:0,19:0,25:-64.7:PASS:370,...  \n",
              "400001        1/1:116:60:54:1,45:0,26:1,19:PASS:816,119,0  \n",
              "400002  1/1:120:60:41:0:0,41:0,13:0,28:-49.9:PASS:370,...  \n",
              "400003         1/1:51:2:42:3,29:1,14:2,15:LowGQX:383,54,0  \n",
              "400004  1/1:120:60:41:0:0,41:0,25:0,16:-58.2:PASS:370,...  \n",
              "400005  1/1:153:60:52:1:0,52:0,26:0,26:-85.4:PASS:370,...  \n",
              "400006     0/1:179:60:64:24,27:11,17:13,10:PASS:296,0,176  \n",
              "400007  1/1:117:60:40:1:0,40:0,22:0,18:-64.6:PASS:370,...  \n",
              "400008  1/1:126:60:43:0:0,43:0,28:0,15:-52.3:PASS:370,...  \n",
              "400009  1/1:160:60:54:0:0,54:0,18:0,36:-63:PASS:370,163,0  "
            ],
            "text/html": [
              "\n",
              "  <div id=\"df-d7e24fda-6dc9-42b7-a300-e5ef2976f542\">\n",
              "    <div class=\"colab-df-container\">\n",
              "      <div>\n",
              "<style scoped>\n",
              "    .dataframe tbody tr th:only-of-type {\n",
              "        vertical-align: middle;\n",
              "    }\n",
              "\n",
              "    .dataframe tbody tr th {\n",
              "        vertical-align: top;\n",
              "    }\n",
              "\n",
              "    .dataframe thead th {\n",
              "        text-align: right;\n",
              "    }\n",
              "</style>\n",
              "<table border=\"1\" class=\"dataframe\">\n",
              "  <thead>\n",
              "    <tr style=\"text-align: right;\">\n",
              "      <th></th>\n",
              "      <th>CHROM</th>\n",
              "      <th>POS</th>\n",
              "      <th>ID</th>\n",
              "      <th>REF</th>\n",
              "      <th>ALT</th>\n",
              "      <th>QUAL</th>\n",
              "      <th>FILTER</th>\n",
              "      <th>INFO</th>\n",
              "      <th>FORMAT</th>\n",
              "      <th>NA12878</th>\n",
              "    </tr>\n",
              "  </thead>\n",
              "  <tbody>\n",
              "    <tr>\n",
              "      <th>400000</th>\n",
              "      <td>chr1</td>\n",
              "      <td>243715964</td>\n",
              "      <td>rs959208</td>\n",
              "      <td>C</td>\n",
              "      <td>G</td>\n",
              "      <td>609</td>\n",
              "      <td>PASS</td>\n",
              "      <td>SNVHPOL=2;MQ=60;GMAF=C|0.2171;AF1000G=0.618011...</td>\n",
              "      <td>GT:GQ:GQX:DP:DPF:AD:ADF:ADR:SB:FT:PL</td>\n",
              "      <td>1/1:129:60:44:0:0,44:0,19:0,25:-64.7:PASS:370,...</td>\n",
              "    </tr>\n",
              "    <tr>\n",
              "      <th>400001</th>\n",
              "      <td>chr1</td>\n",
              "      <td>243718643</td>\n",
              "      <td>rs398103911;rs5782266</td>\n",
              "      <td>A</td>\n",
              "      <td>AT</td>\n",
              "      <td>791</td>\n",
              "      <td>PASS</td>\n",
              "      <td>CIGAR=1M1I;RU=T;REFREP=10;IDREP=11;MQ=60;AF100...</td>\n",
              "      <td>GT:GQ:GQX:DPI:AD:ADF:ADR:FT:PL</td>\n",
              "      <td>1/1:116:60:54:1,45:0,26:1,19:PASS:816,119,0</td>\n",
              "    </tr>\n",
              "    <tr>\n",
              "      <th>400002</th>\n",
              "      <td>chr1</td>\n",
              "      <td>243718762</td>\n",
              "      <td>rs1809247</td>\n",
              "      <td>C</td>\n",
              "      <td>T</td>\n",
              "      <td>568</td>\n",
              "      <td>PASS</td>\n",
              "      <td>SNVHPOL=2;MQ=60;GMAF=T|0.4006;AF1000G=0.400559...</td>\n",
              "      <td>GT:GQ:GQX:DP:DPF:AD:ADF:ADR:SB:FT:PL</td>\n",
              "      <td>1/1:120:60:41:0:0,41:0,13:0,28:-49.9:PASS:370,...</td>\n",
              "    </tr>\n",
              "    <tr>\n",
              "      <th>400003</th>\n",
              "      <td>chr1</td>\n",
              "      <td>243720429</td>\n",
              "      <td>rs561072270;rs66716743;rs759262418</td>\n",
              "      <td>TA</td>\n",
              "      <td>T</td>\n",
              "      <td>360</td>\n",
              "      <td>LowGQX</td>\n",
              "      <td>CIGAR=1M1D;RU=A;REFREP=22;IDREP=21;MQ=60;AF100...</td>\n",
              "      <td>GT:GQ:GQX:DPI:AD:ADF:ADR:FT:PL</td>\n",
              "      <td>1/1:51:2:42:3,29:1,14:2,15:LowGQX:383,54,0</td>\n",
              "    </tr>\n",
              "    <tr>\n",
              "      <th>400004</th>\n",
              "      <td>chr1</td>\n",
              "      <td>243720575</td>\n",
              "      <td>rs12144546</td>\n",
              "      <td>T</td>\n",
              "      <td>G</td>\n",
              "      <td>582</td>\n",
              "      <td>PASS</td>\n",
              "      <td>SNVHPOL=3;MQ=60;GMAF=G|0.4008;AF1000G=0.400759...</td>\n",
              "      <td>GT:GQ:GQX:DP:DPF:AD:ADF:ADR:SB:FT:PL</td>\n",
              "      <td>1/1:120:60:41:0:0,41:0,25:0,16:-58.2:PASS:370,...</td>\n",
              "    </tr>\n",
              "    <tr>\n",
              "      <th>400005</th>\n",
              "      <td>chr1</td>\n",
              "      <td>243722993</td>\n",
              "      <td>rs1458022</td>\n",
              "      <td>C</td>\n",
              "      <td>T</td>\n",
              "      <td>716</td>\n",
              "      <td>PASS</td>\n",
              "      <td>SNVHPOL=4;MQ=60;GMAF=C|0.2782;AF1000G=0.721845...</td>\n",
              "      <td>GT:GQ:GQX:DP:DPF:AD:ADF:ADR:SB:FT:PL</td>\n",
              "      <td>1/1:153:60:52:1:0,52:0,26:0,26:-85.4:PASS:370,...</td>\n",
              "    </tr>\n",
              "    <tr>\n",
              "      <th>400006</th>\n",
              "      <td>chr1</td>\n",
              "      <td>243724245</td>\n",
              "      <td>.</td>\n",
              "      <td>G</td>\n",
              "      <td>GA</td>\n",
              "      <td>276</td>\n",
              "      <td>PASS</td>\n",
              "      <td>CIGAR=1M1I;RU=A;REFREP=14;IDREP=15;MQ=60;CSQT=...</td>\n",
              "      <td>GT:GQ:GQX:DPI:AD:ADF:ADR:FT:PL</td>\n",
              "      <td>0/1:179:60:64:24,27:11,17:13,10:PASS:296,0,176</td>\n",
              "    </tr>\n",
              "    <tr>\n",
              "      <th>400007</th>\n",
              "      <td>chr1</td>\n",
              "      <td>243728025</td>\n",
              "      <td>rs7514510</td>\n",
              "      <td>A</td>\n",
              "      <td>G</td>\n",
              "      <td>577</td>\n",
              "      <td>PASS</td>\n",
              "      <td>SNVHPOL=2;MQ=60;GMAF=A|0.1797;AF1000G=0.820288...</td>\n",
              "      <td>GT:GQ:GQX:DP:DPF:AD:ADF:ADR:SB:FT:PL</td>\n",
              "      <td>1/1:117:60:40:1:0,40:0,22:0,18:-64.6:PASS:370,...</td>\n",
              "    </tr>\n",
              "    <tr>\n",
              "      <th>400008</th>\n",
              "      <td>chr1</td>\n",
              "      <td>243728268</td>\n",
              "      <td>rs7548254</td>\n",
              "      <td>C</td>\n",
              "      <td>T</td>\n",
              "      <td>585</td>\n",
              "      <td>PASS</td>\n",
              "      <td>SNVHPOL=3;MQ=60;GMAF=T|0.3986;AF1000G=0.398562...</td>\n",
              "      <td>GT:GQ:GQX:DP:DPF:AD:ADF:ADR:SB:FT:PL</td>\n",
              "      <td>1/1:126:60:43:0:0,43:0,28:0,15:-52.3:PASS:370,...</td>\n",
              "    </tr>\n",
              "    <tr>\n",
              "      <th>400009</th>\n",
              "      <td>chr1</td>\n",
              "      <td>243731480</td>\n",
              "      <td>rs10803155</td>\n",
              "      <td>A</td>\n",
              "      <td>G</td>\n",
              "      <td>725</td>\n",
              "      <td>PASS</td>\n",
              "      <td>SNVHPOL=3;MQ=60;GMAF=A|0.221;AF1000G=0.778954;...</td>\n",
              "      <td>GT:GQ:GQX:DP:DPF:AD:ADF:ADR:SB:FT:PL</td>\n",
              "      <td>1/1:160:60:54:0:0,54:0,18:0,36:-63:PASS:370,163,0</td>\n",
              "    </tr>\n",
              "  </tbody>\n",
              "</table>\n",
              "</div>\n",
              "      <button class=\"colab-df-convert\" onclick=\"convertToInteractive('df-d7e24fda-6dc9-42b7-a300-e5ef2976f542')\"\n",
              "              title=\"Convert this dataframe to an interactive table.\"\n",
              "              style=\"display:none;\">\n",
              "        \n",
              "  <svg xmlns=\"http://www.w3.org/2000/svg\" height=\"24px\"viewBox=\"0 0 24 24\"\n",
              "       width=\"24px\">\n",
              "    <path d=\"M0 0h24v24H0V0z\" fill=\"none\"/>\n",
              "    <path d=\"M18.56 5.44l.94 2.06.94-2.06 2.06-.94-2.06-.94-.94-2.06-.94 2.06-2.06.94zm-11 1L8.5 8.5l.94-2.06 2.06-.94-2.06-.94L8.5 2.5l-.94 2.06-2.06.94zm10 10l.94 2.06.94-2.06 2.06-.94-2.06-.94-.94-2.06-.94 2.06-2.06.94z\"/><path d=\"M17.41 7.96l-1.37-1.37c-.4-.4-.92-.59-1.43-.59-.52 0-1.04.2-1.43.59L10.3 9.45l-7.72 7.72c-.78.78-.78 2.05 0 2.83L4 21.41c.39.39.9.59 1.41.59.51 0 1.02-.2 1.41-.59l7.78-7.78 2.81-2.81c.8-.78.8-2.07 0-2.86zM5.41 20L4 18.59l7.72-7.72 1.47 1.35L5.41 20z\"/>\n",
              "  </svg>\n",
              "      </button>\n",
              "      \n",
              "  <style>\n",
              "    .colab-df-container {\n",
              "      display:flex;\n",
              "      flex-wrap:wrap;\n",
              "      gap: 12px;\n",
              "    }\n",
              "\n",
              "    .colab-df-convert {\n",
              "      background-color: #E8F0FE;\n",
              "      border: none;\n",
              "      border-radius: 50%;\n",
              "      cursor: pointer;\n",
              "      display: none;\n",
              "      fill: #1967D2;\n",
              "      height: 32px;\n",
              "      padding: 0 0 0 0;\n",
              "      width: 32px;\n",
              "    }\n",
              "\n",
              "    .colab-df-convert:hover {\n",
              "      background-color: #E2EBFA;\n",
              "      box-shadow: 0px 1px 2px rgba(60, 64, 67, 0.3), 0px 1px 3px 1px rgba(60, 64, 67, 0.15);\n",
              "      fill: #174EA6;\n",
              "    }\n",
              "\n",
              "    [theme=dark] .colab-df-convert {\n",
              "      background-color: #3B4455;\n",
              "      fill: #D2E3FC;\n",
              "    }\n",
              "\n",
              "    [theme=dark] .colab-df-convert:hover {\n",
              "      background-color: #434B5C;\n",
              "      box-shadow: 0px 1px 3px 1px rgba(0, 0, 0, 0.15);\n",
              "      filter: drop-shadow(0px 1px 2px rgba(0, 0, 0, 0.3));\n",
              "      fill: #FFFFFF;\n",
              "    }\n",
              "  </style>\n",
              "\n",
              "      <script>\n",
              "        const buttonEl =\n",
              "          document.querySelector('#df-d7e24fda-6dc9-42b7-a300-e5ef2976f542 button.colab-df-convert');\n",
              "        buttonEl.style.display =\n",
              "          google.colab.kernel.accessAllowed ? 'block' : 'none';\n",
              "\n",
              "        async function convertToInteractive(key) {\n",
              "          const element = document.querySelector('#df-d7e24fda-6dc9-42b7-a300-e5ef2976f542');\n",
              "          const dataTable =\n",
              "            await google.colab.kernel.invokeFunction('convertToInteractive',\n",
              "                                                     [key], {});\n",
              "          if (!dataTable) return;\n",
              "\n",
              "          const docLinkHtml = 'Like what you see? Visit the ' +\n",
              "            '<a target=\"_blank\" href=https://colab.research.google.com/notebooks/data_table.ipynb>data table notebook</a>'\n",
              "            + ' to learn more about interactive tables.';\n",
              "          element.innerHTML = '';\n",
              "          dataTable['output_type'] = 'display_data';\n",
              "          await google.colab.output.renderOutput(dataTable, element);\n",
              "          const docLink = document.createElement('div');\n",
              "          docLink.innerHTML = docLinkHtml;\n",
              "          element.appendChild(docLink);\n",
              "        }\n",
              "      </script>\n",
              "    </div>\n",
              "  </div>\n",
              "  "
            ]
          },
          "metadata": {},
          "execution_count": 10
        }
      ]
    },
    {
      "cell_type": "code",
      "execution_count": null,
      "metadata": {
        "id": "WkpUDW1cMx8j"
      },
      "outputs": [],
      "source": [
        "# No need to do this anymore! I found how to parse through the big file and only take the chunks I need.\n",
        "# leaving this code here though in case it is useful in the future/ just for reference if needed.\n",
        "\n",
        "# Cell for parsing bam file into smaller chromosome files\n",
        "\n",
        "# ! /content/drive/My Drive/COMS4762_ML_for_Genomics/\n",
        "\n",
        "# with pysam.AlignmentFile(NA12878_S1_Plat_Genome_bam_file_path) as inf:\n",
        "#     chromosomes = zip(inf.references, inf.lengths)\n",
        "\n",
        "# def split_PySam_test_by_chromosome(info):\n",
        "#     chromosome, length = info\n",
        "#     with pysam.AlignmentFile(NA12878_S1_Plat_Genome_bam_file_path) as inf:\n",
        "#         with pysam.AlignmentFile(\n",
        "#                 \"test_%s.bam\" % chromosome,\n",
        "#                 \"wb\",\n",
        "#                 template=inf) as outf:\n",
        "#             for alignment in inf.fetch(reference=chromosome):\n",
        "#                 outf.write(alignment)\n",
        "\n",
        "# list(map(split_PySam_test_by_chromosome, chromosomes))\n",
        "\n",
        "\n",
        "# After parsing 4-5 chromosomes (only 107gb of disk space so cant do all of them) save them to drive.\n",
        "\n",
        "# move files from colab drive to google drive\n",
        "# import shutil\n",
        "# shutil.move(\"/content/test_chr1.bam\", \"/content/drive/MyDrive/COMS4762_ML_for_Genomics/NA12878_S1__chr1.bam\")\n",
        "# shutil.move(\"/content/test_chr2.bam\", \"/content/drive/MyDrive/COMS4762_ML_for_Genomics/NA12878_S1__chr2.bam\")\n",
        "# shutil.move(\"/content/test_chr3.bam\", \"/content/drive/MyDrive/COMS4762_ML_for_Genomics/NA12878_S1__chr3.bam\")\n",
        "# shutil.move(\"/content/test_chr4.bam\", \"/content/drive/MyDrive/COMS4762_ML_for_Genomics/NA12878_S1__chr4.bam\")\n",
        "\n",
        "# After splitting these into smaller files, the small files then need to be indexed (the .bam.bai file) \n",
        "# can use pysam for this."
      ]
    },
    {
      "cell_type": "code",
      "execution_count": null,
      "metadata": {
        "id": "Njb2zfc7o7v6"
      },
      "outputs": [],
      "source": [
        "# # check file size with this cell\n",
        "# import os\n",
        "\n",
        "# file_size = os.path.getsize('/content/drive/MyDrive/COMS4762_ML_for_Genomics/NA12878_S1__chr4.bam')\n",
        "# print(\"File size in GB:\",file_size*10**(-9))"
      ]
    },
    {
      "cell_type": "markdown",
      "source": [
        "See data stats for the bam/sam (same thing seems like, compressed/uncompressed) file.  Outputs a cumulative count of mapped reads per chromosome."
      ],
      "metadata": {
        "id": "l5weH6rTqmzs"
      }
    },
    {
      "cell_type": "code",
      "execution_count": null,
      "metadata": {
        "id": "H1KPcySJB4p2",
        "colab": {
          "base_uri": "https://localhost:8080/"
        },
        "outputId": "e9e14a92-ae7e-4d9a-dd2f-13b4644fac07"
      },
      "outputs": [
        {
          "output_type": "execute_result",
          "data": {
            "text/plain": [
              "[IndexStats(contig='chr1', mapped=126463885, unmapped=1598253, total=128062138),\n",
              " IndexStats(contig='chr2', mapped=124492435, unmapped=575950, total=125068385),\n",
              " IndexStats(contig='chr3', mapped=103395180, unmapped=512526, total=103907706),\n",
              " IndexStats(contig='chr4', mapped=97936331, unmapped=536818, total=98473149),\n",
              " IndexStats(contig='chr5', mapped=92970740, unmapped=350892, total=93321632),\n",
              " IndexStats(contig='chr6', mapped=87828075, unmapped=256775, total=88084850),\n",
              " IndexStats(contig='chr7', mapped=80428289, unmapped=363571, total=80791860),\n",
              " IndexStats(contig='chr8', mapped=74106809, unmapped=433366, total=74540175),\n",
              " IndexStats(contig='chr9', mapped=63244582, unmapped=566664, total=63811246),\n",
              " IndexStats(contig='chr10', mapped=68877874, unmapped=518683, total=69396557),\n",
              " IndexStats(contig='chr11', mapped=67601644, unmapped=310641, total=67912285),\n",
              " IndexStats(contig='chr12', mapped=67848661, unmapped=333850, total=68182511),\n",
              " IndexStats(contig='chr13', mapped=51737916, unmapped=207031, total=51944947),\n",
              " IndexStats(contig='chr14', mapped=45670485, unmapped=139115, total=45809600),\n",
              " IndexStats(contig='chr15', mapped=42291369, unmapped=302645, total=42594014),\n",
              " IndexStats(contig='chr16', mapped=45342430, unmapped=387230, total=45729660),\n",
              " IndexStats(contig='chr17', mapped=40898643, unmapped=353168, total=41251811),\n",
              " IndexStats(contig='chr18', mapped=39139290, unmapped=299041, total=39438331),\n",
              " IndexStats(contig='chr19', mapped=27644879, unmapped=112767, total=27757646),\n",
              " IndexStats(contig='chr20', mapped=32654519, unmapped=447068, total=33101587),\n",
              " IndexStats(contig='chr21', mapped=22464940, unmapped=265591, total=22730531),\n",
              " IndexStats(contig='chr22', mapped=18932431, unmapped=125025, total=19057456),\n",
              " IndexStats(contig='chrX', mapped=75897391, unmapped=426088, total=76323479),\n",
              " IndexStats(contig='chrY', mapped=484281, unmapped=49191, total=533472),\n",
              " IndexStats(contig='chrM', mapped=3355376, unmapped=6307, total=3361683),\n",
              " IndexStats(contig='chr1_KI270706v1_random', mapped=129716, unmapped=2725, total=132441),\n",
              " IndexStats(contig='chr1_KI270707v1_random', mapped=19339, unmapped=600, total=19939),\n",
              " IndexStats(contig='chr1_KI270708v1_random', mapped=72106, unmapped=913, total=73019),\n",
              " IndexStats(contig='chr1_KI270709v1_random', mapped=567627, unmapped=9987, total=577614),\n",
              " IndexStats(contig='chr1_KI270710v1_random', mapped=32512, unmapped=693, total=33205),\n",
              " IndexStats(contig='chr1_KI270711v1_random', mapped=67981, unmapped=876, total=68857),\n",
              " IndexStats(contig='chr1_KI270712v1_random', mapped=96823, unmapped=3360, total=100183),\n",
              " IndexStats(contig='chr1_KI270713v1_random', mapped=61516, unmapped=1087, total=62603),\n",
              " IndexStats(contig='chr1_KI270714v1_random', mapped=21965, unmapped=573, total=22538),\n",
              " IndexStats(contig='chr2_KI270715v1_random', mapped=29405, unmapped=9028, total=38433),\n",
              " IndexStats(contig='chr2_KI270716v1_random', mapped=22868, unmapped=5496, total=28364),\n",
              " IndexStats(contig='chr3_GL000221v1_random', mapped=158281, unmapped=5574, total=163855),\n",
              " IndexStats(contig='chr4_GL000008v2_random', mapped=175523, unmapped=6533, total=182056),\n",
              " IndexStats(contig='chr5_GL000208v1_random', mapped=60898, unmapped=1117, total=62015),\n",
              " IndexStats(contig='chr9_KI270717v1_random', mapped=20260, unmapped=389, total=20649),\n",
              " IndexStats(contig='chr9_KI270718v1_random', mapped=31696, unmapped=1598, total=33294),\n",
              " IndexStats(contig='chr9_KI270719v1_random', mapped=124224, unmapped=2444, total=126668),\n",
              " IndexStats(contig='chr9_KI270720v1_random', mapped=33620, unmapped=821, total=34441),\n",
              " IndexStats(contig='chr11_KI270721v1_random', mapped=20750, unmapped=591, total=21341),\n",
              " IndexStats(contig='chr14_GL000009v2_random', mapped=191597, unmapped=3954, total=195551),\n",
              " IndexStats(contig='chr14_GL000225v1_random', mapped=450329, unmapped=51304, total=501633),\n",
              " IndexStats(contig='chr14_KI270722v1_random', mapped=97495, unmapped=1495, total=98990),\n",
              " IndexStats(contig='chr14_GL000194v1_random', mapped=148402, unmapped=4323, total=152725),\n",
              " IndexStats(contig='chr14_KI270723v1_random', mapped=27383, unmapped=419, total=27802),\n",
              " IndexStats(contig='chr14_KI270724v1_random', mapped=31518, unmapped=488, total=32006),\n",
              " IndexStats(contig='chr14_KI270725v1_random', mapped=91896, unmapped=1840, total=93736),\n",
              " IndexStats(contig='chr14_KI270726v1_random', mapped=2485, unmapped=121, total=2606),\n",
              " IndexStats(contig='chr15_KI270727v1_random', mapped=86347, unmapped=2331, total=88678),\n",
              " IndexStats(contig='chr16_KI270728v1_random', mapped=671347, unmapped=20508, total=691855),\n",
              " IndexStats(contig='chr17_GL000205v2_random', mapped=256356, unmapped=2529, total=258885),\n",
              " IndexStats(contig='chr17_KI270729v1_random', mapped=246084, unmapped=20006, total=266090),\n",
              " IndexStats(contig='chr17_KI270730v1_random', mapped=54464, unmapped=8196, total=62660),\n",
              " IndexStats(contig='chr22_KI270731v1_random', mapped=68122, unmapped=2345, total=70467),\n",
              " IndexStats(contig='chr22_KI270732v1_random', mapped=89744, unmapped=689, total=90433),\n",
              " IndexStats(contig='chr22_KI270733v1_random', mapped=1225041, unmapped=55436, total=1280477),\n",
              " IndexStats(contig='chr22_KI270734v1_random', mapped=78943, unmapped=2332, total=81275),\n",
              " IndexStats(contig='chr22_KI270735v1_random', mapped=76611, unmapped=4805, total=81416),\n",
              " IndexStats(contig='chr22_KI270736v1_random', mapped=70309, unmapped=8299, total=78608),\n",
              " IndexStats(contig='chr22_KI270737v1_random', mapped=31329, unmapped=1837, total=33166),\n",
              " IndexStats(contig='chr22_KI270738v1_random', mapped=51590, unmapped=1504, total=53094),\n",
              " IndexStats(contig='chr22_KI270739v1_random', mapped=19096, unmapped=689, total=19785),\n",
              " IndexStats(contig='chrY_KI270740v1_random', mapped=0, unmapped=0, total=0),\n",
              " IndexStats(contig='chrUn_KI270302v1', mapped=1269, unmapped=26, total=1295),\n",
              " IndexStats(contig='chrUn_KI270304v1', mapped=947, unmapped=184, total=1131),\n",
              " IndexStats(contig='chrUn_KI270303v1', mapped=1668, unmapped=805, total=2473),\n",
              " IndexStats(contig='chrUn_KI270305v1', mapped=1155, unmapped=14, total=1169),\n",
              " IndexStats(contig='chrUn_KI270322v1', mapped=4735, unmapped=111, total=4846),\n",
              " IndexStats(contig='chrUn_KI270320v1', mapped=6477, unmapped=162, total=6639),\n",
              " IndexStats(contig='chrUn_KI270310v1', mapped=10514, unmapped=1794, total=12308),\n",
              " IndexStats(contig='chrUn_KI270316v1', mapped=1051, unmapped=478, total=1529),\n",
              " IndexStats(contig='chrUn_KI270315v1', mapped=987, unmapped=318, total=1305),\n",
              " IndexStats(contig='chrUn_KI270312v1', mapped=814, unmapped=205, total=1019),\n",
              " IndexStats(contig='chrUn_KI270311v1', mapped=12288, unmapped=2498, total=14786),\n",
              " IndexStats(contig='chrUn_KI270317v1', mapped=1335, unmapped=422, total=1757),\n",
              " IndexStats(contig='chrUn_KI270412v1', mapped=1962, unmapped=259, total=2221),\n",
              " IndexStats(contig='chrUn_KI270411v1', mapped=3735, unmapped=1083, total=4818),\n",
              " IndexStats(contig='chrUn_KI270414v1', mapped=1254, unmapped=133, total=1387),\n",
              " IndexStats(contig='chrUn_KI270419v1', mapped=624, unmapped=44, total=668),\n",
              " IndexStats(contig='chrUn_KI270418v1', mapped=1601, unmapped=128, total=1729),\n",
              " IndexStats(contig='chrUn_KI270420v1', mapped=1601, unmapped=63, total=1664),\n",
              " IndexStats(contig='chrUn_KI270424v1', mapped=2330, unmapped=56, total=2386),\n",
              " IndexStats(contig='chrUn_KI270417v1', mapped=547, unmapped=32, total=579),\n",
              " IndexStats(contig='chrUn_KI270422v1', mapped=680, unmapped=99, total=779),\n",
              " IndexStats(contig='chrUn_KI270423v1', mapped=413, unmapped=58, total=471),\n",
              " IndexStats(contig='chrUn_KI270425v1', mapped=605, unmapped=46, total=651),\n",
              " IndexStats(contig='chrUn_KI270429v1', mapped=696, unmapped=2, total=698),\n",
              " IndexStats(contig='chrUn_KI270442v1', mapped=406696, unmapped=10719, total=417415),\n",
              " IndexStats(contig='chrUn_KI270466v1', mapped=144612, unmapped=6269, total=150881),\n",
              " IndexStats(contig='chrUn_KI270465v1', mapped=5861, unmapped=143, total=6004),\n",
              " IndexStats(contig='chrUn_KI270467v1', mapped=390542, unmapped=12856, total=403398),\n",
              " IndexStats(contig='chrUn_KI270435v1', mapped=77891, unmapped=1663, total=79554),\n",
              " IndexStats(contig='chrUn_KI270438v1', mapped=2626146, unmapped=69010, total=2695156),\n",
              " IndexStats(contig='chrUn_KI270468v1', mapped=3988, unmapped=86, total=4074),\n",
              " IndexStats(contig='chrUn_KI270510v1', mapped=3529, unmapped=235, total=3764),\n",
              " IndexStats(contig='chrUn_KI270509v1', mapped=5429, unmapped=40, total=5469),\n",
              " IndexStats(contig='chrUn_KI270518v1', mapped=4822, unmapped=90, total=4912),\n",
              " IndexStats(contig='chrUn_KI270508v1', mapped=4521, unmapped=229, total=4750),\n",
              " IndexStats(contig='chrUn_KI270516v1', mapped=2951, unmapped=133, total=3084),\n",
              " IndexStats(contig='chrUn_KI270512v1', mapped=19106, unmapped=748, total=19854),\n",
              " IndexStats(contig='chrUn_KI270519v1', mapped=119710, unmapped=2576, total=122286),\n",
              " IndexStats(contig='chrUn_KI270522v1', mapped=2417, unmapped=111, total=2528),\n",
              " IndexStats(contig='chrUn_KI270511v1', mapped=7244, unmapped=105, total=7349),\n",
              " IndexStats(contig='chrUn_KI270515v1', mapped=14539, unmapped=182, total=14721),\n",
              " IndexStats(contig='chrUn_KI270507v1', mapped=9965, unmapped=92, total=10057),\n",
              " IndexStats(contig='chrUn_KI270517v1', mapped=8189, unmapped=189, total=8378),\n",
              " IndexStats(contig='chrUn_KI270529v1', mapped=1063, unmapped=26, total=1089),\n",
              " IndexStats(contig='chrUn_KI270528v1', mapped=2091, unmapped=59, total=2150),\n",
              " IndexStats(contig='chrUn_KI270530v1', mapped=368, unmapped=49, total=417),\n",
              " IndexStats(contig='chrUn_KI270539v1', mapped=324, unmapped=8, total=332),\n",
              " IndexStats(contig='chrUn_KI270538v1', mapped=87781, unmapped=1755, total=89536),\n",
              " IndexStats(contig='chrUn_KI270544v1', mapped=1572, unmapped=369, total=1941),\n",
              " IndexStats(contig='chrUn_KI270548v1', mapped=314, unmapped=8, total=322),\n",
              " IndexStats(contig='chrUn_KI270583v1', mapped=3174, unmapped=132, total=3306),\n",
              " IndexStats(contig='chrUn_KI270587v1', mapped=2077, unmapped=134, total=2211),\n",
              " IndexStats(contig='chrUn_KI270580v1', mapped=3153, unmapped=88, total=3241),\n",
              " IndexStats(contig='chrUn_KI270581v1', mapped=4010, unmapped=475, total=4485),\n",
              " IndexStats(contig='chrUn_KI270579v1', mapped=11020, unmapped=599, total=11619),\n",
              " IndexStats(contig='chrUn_KI270589v1', mapped=28282, unmapped=3117, total=31399),\n",
              " IndexStats(contig='chrUn_KI270590v1', mapped=11663, unmapped=755, total=12418),\n",
              " IndexStats(contig='chrUn_KI270584v1', mapped=9160, unmapped=164, total=9324),\n",
              " IndexStats(contig='chrUn_KI270582v1', mapped=3425, unmapped=109, total=3534),\n",
              " IndexStats(contig='chrUn_KI270588v1', mapped=6989, unmapped=64, total=7053),\n",
              " IndexStats(contig='chrUn_KI270593v1', mapped=4180, unmapped=42, total=4222),\n",
              " IndexStats(contig='chrUn_KI270591v1', mapped=9054, unmapped=759, total=9813),\n",
              " IndexStats(contig='chrUn_KI270330v1', mapped=15235, unmapped=267, total=15502),\n",
              " IndexStats(contig='chrUn_KI270329v1', mapped=1028, unmapped=6, total=1034),\n",
              " IndexStats(contig='chrUn_KI270334v1', mapped=354, unmapped=2, total=356),\n",
              " IndexStats(contig='chrUn_KI270333v1', mapped=81051, unmapped=2893, total=83944),\n",
              " IndexStats(contig='chrUn_KI270335v1', mapped=277, unmapped=13, total=290),\n",
              " IndexStats(contig='chrUn_KI270338v1', mapped=157, unmapped=4, total=161),\n",
              " IndexStats(contig='chrUn_KI270340v1', mapped=454, unmapped=11, total=465),\n",
              " IndexStats(contig='chrUn_KI270336v1', mapped=22066, unmapped=1032, total=23098),\n",
              " IndexStats(contig='chrUn_KI270337v1', mapped=73127, unmapped=5622, total=78749),\n",
              " IndexStats(contig='chrUn_KI270363v1', mapped=799, unmapped=56, total=855),\n",
              " IndexStats(contig='chrUn_KI270364v1', mapped=1030, unmapped=46, total=1076),\n",
              " IndexStats(contig='chrUn_KI270362v1', mapped=1956, unmapped=46, total=2002),\n",
              " IndexStats(contig='chrUn_KI270366v1', mapped=4058, unmapped=214, total=4272),\n",
              " IndexStats(contig='chrUn_KI270378v1', mapped=353, unmapped=21, total=374),\n",
              " IndexStats(contig='chrUn_KI270379v1', mapped=67, unmapped=59, total=126),\n",
              " IndexStats(contig='chrUn_KI270389v1', mapped=485, unmapped=85, total=570),\n",
              " IndexStats(contig='chrUn_KI270390v1', mapped=508, unmapped=177, total=685),\n",
              " IndexStats(contig='chrUn_KI270387v1', mapped=230, unmapped=134, total=364),\n",
              " IndexStats(contig='chrUn_KI270395v1', mapped=849, unmapped=362, total=1211),\n",
              " IndexStats(contig='chrUn_KI270396v1', mapped=3263, unmapped=810, total=4073),\n",
              " IndexStats(contig='chrUn_KI270388v1', mapped=259, unmapped=120, total=379),\n",
              " IndexStats(contig='chrUn_KI270394v1', mapped=190, unmapped=67, total=257),\n",
              " IndexStats(contig='chrUn_KI270386v1', mapped=456, unmapped=98, total=554),\n",
              " IndexStats(contig='chrUn_KI270391v1', mapped=523, unmapped=112, total=635),\n",
              " IndexStats(contig='chrUn_KI270383v1', mapped=140, unmapped=58, total=198),\n",
              " IndexStats(contig='chrUn_KI270393v1', mapped=212, unmapped=67, total=279),\n",
              " IndexStats(contig='chrUn_KI270384v1', mapped=1485, unmapped=266, total=1751),\n",
              " IndexStats(contig='chrUn_KI270392v1', mapped=133, unmapped=46, total=179),\n",
              " IndexStats(contig='chrUn_KI270381v1', mapped=798, unmapped=188, total=986),\n",
              " IndexStats(contig='chrUn_KI270385v1', mapped=258, unmapped=57, total=315),\n",
              " IndexStats(contig='chrUn_KI270382v1', mapped=951, unmapped=147, total=1098),\n",
              " IndexStats(contig='chrUn_KI270376v1', mapped=238, unmapped=9, total=247),\n",
              " IndexStats(contig='chrUn_KI270374v1', mapped=530, unmapped=3, total=533),\n",
              " IndexStats(contig='chrUn_KI270372v1', mapped=363, unmapped=5, total=368),\n",
              " IndexStats(contig='chrUn_KI270373v1', mapped=225, unmapped=46, total=271),\n",
              " IndexStats(contig='chrUn_KI270375v1', mapped=574, unmapped=4, total=578),\n",
              " IndexStats(contig='chrUn_KI270371v1', mapped=573, unmapped=10, total=583),\n",
              " IndexStats(contig='chrUn_KI270448v1', mapped=8322, unmapped=138, total=8460),\n",
              " IndexStats(contig='chrUn_KI270521v1', mapped=4100, unmapped=97, total=4197),\n",
              " IndexStats(contig='chrUn_GL000195v1', mapped=162940, unmapped=2081, total=165021),\n",
              " IndexStats(contig='chrUn_GL000219v1', mapped=132453, unmapped=2006, total=134459),\n",
              " IndexStats(contig='chrUn_GL000220v1', mapped=1098114, unmapped=56765, total=1154879),\n",
              " IndexStats(contig='chrUn_GL000224v1', mapped=336721, unmapped=4986, total=341707),\n",
              " IndexStats(contig='chrUn_KI270741v1', mapped=42810, unmapped=1895, total=44705),\n",
              " IndexStats(contig='chrUn_GL000226v1', mapped=56308, unmapped=1643, total=57951),\n",
              " IndexStats(contig='chrUn_GL000213v1', mapped=32305, unmapped=911, total=33216),\n",
              " IndexStats(contig='chrUn_KI270743v1', mapped=190570, unmapped=5101, total=195671),\n",
              " IndexStats(contig='chrUn_KI270744v1', mapped=360511, unmapped=6487, total=366998),\n",
              " IndexStats(contig='chrUn_KI270745v1', mapped=22081, unmapped=395, total=22476),\n",
              " IndexStats(contig='chrUn_KI270746v1', mapped=88685, unmapped=644, total=89329),\n",
              " IndexStats(contig='chrUn_KI270747v1', mapped=48284, unmapped=6724, total=55008),\n",
              " IndexStats(contig='chrUn_KI270748v1', mapped=42318, unmapped=1129, total=43447),\n",
              " IndexStats(contig='chrUn_KI270749v1', mapped=122401, unmapped=1517, total=123918),\n",
              " IndexStats(contig='chrUn_KI270750v1', mapped=114417, unmapped=2075, total=116492),\n",
              " IndexStats(contig='chrUn_KI270751v1', mapped=208816, unmapped=5013, total=213829),\n",
              " IndexStats(contig='chrUn_KI270752v1', mapped=0, unmapped=0, total=0),\n",
              " IndexStats(contig='chrUn_KI270753v1', mapped=42816, unmapped=565, total=43381),\n",
              " IndexStats(contig='chrUn_KI270754v1', mapped=55254, unmapped=1395, total=56649),\n",
              " IndexStats(contig='chrUn_KI270755v1', mapped=10074, unmapped=225, total=10299),\n",
              " IndexStats(contig='chrUn_KI270756v1', mapped=29742, unmapped=1854, total=31596),\n",
              " IndexStats(contig='chrUn_KI270757v1', mapped=80360, unmapped=4652, total=85012),\n",
              " IndexStats(contig='chrUn_GL000214v1', mapped=152159, unmapped=5009, total=157168),\n",
              " IndexStats(contig='chrUn_KI270742v1', mapped=255508, unmapped=6592, total=262100),\n",
              " IndexStats(contig='chrUn_GL000216v2', mapped=281681, unmapped=32887, total=314568),\n",
              " IndexStats(contig='chrUn_GL000218v1', mapped=244865, unmapped=2986, total=247851),\n",
              " IndexStats(contig='chrEBV', mapped=3459521, unmapped=34273, total=3493794),\n",
              " IndexStats(contig='KN707606.1', mapped=8, unmapped=2, total=10),\n",
              " IndexStats(contig='KN707607.1', mapped=6958, unmapped=131, total=7089),\n",
              " IndexStats(contig='KN707608.1', mapped=8027, unmapped=255, total=8282),\n",
              " IndexStats(contig='KN707609.1', mapped=3941, unmapped=61, total=4002),\n",
              " IndexStats(contig='KN707610.1', mapped=3138, unmapped=247, total=3385),\n",
              " IndexStats(contig='KN707611.1', mapped=2858, unmapped=109, total=2967),\n",
              " IndexStats(contig='KN707612.1', mapped=2459, unmapped=132, total=2591),\n",
              " IndexStats(contig='KN707613.1', mapped=4070, unmapped=242, total=4312),\n",
              " IndexStats(contig='KN707614.1', mapped=702, unmapped=116, total=818),\n",
              " IndexStats(contig='KN707615.1', mapped=397, unmapped=96, total=493),\n",
              " IndexStats(contig='KN707616.1', mapped=1394, unmapped=163, total=1557),\n",
              " IndexStats(contig='KN707617.1', mapped=667, unmapped=49, total=716),\n",
              " IndexStats(contig='KN707618.1', mapped=249, unmapped=20, total=269),\n",
              " IndexStats(contig='KN707619.1', mapped=223, unmapped=3, total=226),\n",
              " IndexStats(contig='KN707620.1', mapped=1, unmapped=0, total=1),\n",
              " IndexStats(contig='KN707621.1', mapped=2, unmapped=0, total=2),\n",
              " IndexStats(contig='KN707622.1', mapped=3, unmapped=0, total=3),\n",
              " IndexStats(contig='KN707623.1', mapped=1832, unmapped=239, total=2071),\n",
              " IndexStats(contig='KN707624.1', mapped=300, unmapped=21, total=321),\n",
              " IndexStats(contig='KN707625.1', mapped=617, unmapped=137, total=754),\n",
              " IndexStats(contig='KN707626.1', mapped=8580, unmapped=1332, total=9912),\n",
              " IndexStats(contig='KN707627.1', mapped=1476, unmapped=62, total=1538),\n",
              " IndexStats(contig='KN707628.1', mapped=1379, unmapped=73, total=1452),\n",
              " IndexStats(contig='KN707629.1', mapped=68, unmapped=3, total=71),\n",
              " IndexStats(contig='KN707630.1', mapped=93, unmapped=2, total=95),\n",
              " IndexStats(contig='KN707631.1', mapped=3665, unmapped=79, total=3744),\n",
              " IndexStats(contig='KN707632.1', mapped=426, unmapped=20, total=446),\n",
              " IndexStats(contig='KN707633.1', mapped=625, unmapped=26, total=651),\n",
              " IndexStats(contig='KN707634.1', mapped=0, unmapped=0, total=0),\n",
              " IndexStats(contig='KN707635.1', mapped=767, unmapped=53, total=820),\n",
              " IndexStats(contig='KN707636.1', mapped=1615, unmapped=108, total=1723),\n",
              " IndexStats(contig='KN707637.1', mapped=7817, unmapped=886, total=8703),\n",
              " IndexStats(contig='KN707638.1', mapped=3884, unmapped=367, total=4251),\n",
              " IndexStats(contig='KN707639.1', mapped=1106, unmapped=103, total=1209),\n",
              " IndexStats(contig='KN707640.1', mapped=1532, unmapped=55, total=1587),\n",
              " IndexStats(contig='KN707641.1', mapped=2500, unmapped=130, total=2630),\n",
              " IndexStats(contig='KN707642.1', mapped=5038, unmapped=278, total=5316),\n",
              " IndexStats(contig='KN707643.1', mapped=5153, unmapped=258, total=5411),\n",
              " IndexStats(contig='KN707644.1', mapped=1688, unmapped=66, total=1754),\n",
              " IndexStats(contig='KN707645.1', mapped=1810, unmapped=84, total=1894),\n",
              " IndexStats(contig='KN707646.1', mapped=2816, unmapped=248, total=3064),\n",
              " IndexStats(contig='KN707647.1', mapped=3777, unmapped=106, total=3883),\n",
              " IndexStats(contig='KN707648.1', mapped=2648, unmapped=245, total=2893),\n",
              " IndexStats(contig='KN707649.1', mapped=3152, unmapped=198, total=3350),\n",
              " IndexStats(contig='KN707650.1', mapped=2997, unmapped=73, total=3070),\n",
              " IndexStats(contig='KN707651.1', mapped=3681, unmapped=76, total=3757),\n",
              " IndexStats(contig='KN707652.1', mapped=2202, unmapped=37, total=2239),\n",
              " IndexStats(contig='KN707653.1', mapped=3433, unmapped=287, total=3720),\n",
              " IndexStats(contig='KN707654.1', mapped=487, unmapped=13, total=500),\n",
              " IndexStats(contig='KN707655.1', mapped=826, unmapped=61, total=887),\n",
              " IndexStats(contig='KN707656.1', mapped=743, unmapped=71, total=814),\n",
              " IndexStats(contig='KN707657.1', mapped=719, unmapped=70, total=789),\n",
              " IndexStats(contig='KN707658.1', mapped=770, unmapped=72, total=842),\n",
              " IndexStats(contig='KN707659.1', mapped=7227, unmapped=2807, total=10034),\n",
              " IndexStats(contig='KN707660.1', mapped=20042, unmapped=8907, total=28949),\n",
              " IndexStats(contig='KN707661.1', mapped=17451, unmapped=11714, total=29165),\n",
              " IndexStats(contig='KN707662.1', mapped=5758, unmapped=853, total=6611),\n",
              " IndexStats(contig='KN707663.1', mapped=87, unmapped=28, total=115),\n",
              " IndexStats(contig='KN707664.1', mapped=4973, unmapped=232, total=5205),\n",
              " IndexStats(contig='KN707665.1', mapped=3019, unmapped=105, total=3124),\n",
              " IndexStats(contig='KN707666.1', mapped=1395, unmapped=54, total=1449),\n",
              " IndexStats(contig='KN707667.1', mapped=878, unmapped=36, total=914),\n",
              " IndexStats(contig='KN707668.1', mapped=2695, unmapped=209, total=2904),\n",
              " IndexStats(contig='KN707669.1', mapped=921, unmapped=163, total=1084),\n",
              " IndexStats(contig='KN707670.1', mapped=2248, unmapped=81, total=2329),\n",
              " IndexStats(contig='KN707671.1', mapped=1258, unmapped=133, total=1391),\n",
              " IndexStats(contig='KN707672.1', mapped=1093, unmapped=227, total=1320),\n",
              " IndexStats(contig='KN707673.1', mapped=8878, unmapped=300, total=9178),\n",
              " IndexStats(contig='KN707674.1', mapped=4, unmapped=0, total=4),\n",
              " IndexStats(contig='KN707675.1', mapped=0, unmapped=0, total=0),\n",
              " IndexStats(contig='KN707676.1', mapped=0, unmapped=0, total=0),\n",
              " IndexStats(contig='KN707677.1', mapped=3715, unmapped=82, total=3797),\n",
              " IndexStats(contig='KN707678.1', mapped=1065, unmapped=19, total=1084),\n",
              " IndexStats(contig='KN707679.1', mapped=996, unmapped=75, total=1071),\n",
              " IndexStats(contig='KN707680.1', mapped=215, unmapped=29, total=244),\n",
              " IndexStats(contig='KN707681.1', mapped=1191, unmapped=13, total=1204),\n",
              " IndexStats(contig='KN707682.1', mapped=2222, unmapped=107, total=2329),\n",
              " IndexStats(contig='KN707683.1', mapped=3, unmapped=0, total=3),\n",
              " IndexStats(contig='KN707684.1', mapped=1, unmapped=0, total=1),\n",
              " IndexStats(contig='KN707685.1', mapped=2042, unmapped=68, total=2110),\n",
              " IndexStats(contig='KN707686.1', mapped=5676, unmapped=620, total=6296),\n",
              " IndexStats(contig='KN707687.1', mapped=3352, unmapped=240, total=3592),\n",
              " IndexStats(contig='KN707688.1', mapped=1900, unmapped=74, total=1974),\n",
              " IndexStats(contig='KN707689.1', mapped=0, unmapped=0, total=0),\n",
              " IndexStats(contig='KN707690.1', mapped=1, unmapped=1, total=2),\n",
              " IndexStats(contig='KN707691.1', mapped=2690, unmapped=53, total=2743),\n",
              " IndexStats(contig='KN707692.1', mapped=0, unmapped=0, total=0),\n",
              " IndexStats(contig='KN707693.1', mapped=1384, unmapped=21, total=1405),\n",
              " IndexStats(contig='KN707694.1', mapped=140, unmapped=8, total=148),\n",
              " IndexStats(contig='KN707695.1', mapped=1315, unmapped=180, total=1495),\n",
              " IndexStats(contig='KN707696.1', mapped=900, unmapped=87, total=987),\n",
              " IndexStats(contig='KN707697.1', mapped=606, unmapped=95, total=701),\n",
              " IndexStats(contig='KN707698.1', mapped=0, unmapped=0, total=0),\n",
              " IndexStats(contig='KN707699.1', mapped=1353, unmapped=83, total=1436),\n",
              " IndexStats(contig='KN707700.1', mapped=0, unmapped=0, total=0),\n",
              " IndexStats(contig='KN707701.1', mapped=3331, unmapped=56, total=3387),\n",
              " IndexStats(contig='KN707702.1', mapped=2966, unmapped=278, total=3244),\n",
              " IndexStats(contig='KN707703.1', mapped=1175, unmapped=12, total=1187),\n",
              " IndexStats(contig='KN707704.1', mapped=482, unmapped=19, total=501),\n",
              " IndexStats(contig='KN707705.1', mapped=22, unmapped=0, total=22),\n",
              " IndexStats(contig='KN707706.1', mapped=0, unmapped=0, total=0),\n",
              " IndexStats(contig='KN707707.1', mapped=1059, unmapped=11, total=1070),\n",
              " IndexStats(contig='KN707708.1', mapped=933, unmapped=150, total=1083),\n",
              " IndexStats(contig='KN707709.1', mapped=1095, unmapped=336, total=1431),\n",
              " IndexStats(contig='KN707710.1', mapped=2878, unmapped=79, total=2957),\n",
              " IndexStats(contig='KN707711.1', mapped=995, unmapped=93, total=1088),\n",
              " IndexStats(contig='KN707712.1', mapped=40, unmapped=1, total=41),\n",
              " IndexStats(contig='KN707713.1', mapped=8, unmapped=1, total=9),\n",
              " IndexStats(contig='KN707714.1', mapped=6, unmapped=1, total=7),\n",
              " IndexStats(contig='KN707715.1', mapped=1208, unmapped=183, total=1391),\n",
              " IndexStats(contig='KN707716.1', mapped=1256, unmapped=177, total=1433),\n",
              " IndexStats(contig='KN707717.1', mapped=1, unmapped=0, total=1),\n",
              " IndexStats(contig='KN707718.1', mapped=1, unmapped=1, total=2),\n",
              " IndexStats(contig='KN707719.1', mapped=9, unmapped=0, total=9),\n",
              " IndexStats(contig='KN707720.1', mapped=2627, unmapped=273, total=2900),\n",
              " IndexStats(contig='KN707721.1', mapped=1, unmapped=0, total=1),\n",
              " IndexStats(contig='KN707722.1', mapped=652, unmapped=16, total=668),\n",
              " IndexStats(contig='KN707723.1', mapped=593, unmapped=251, total=844),\n",
              " IndexStats(contig='KN707724.1', mapped=690, unmapped=97, total=787),\n",
              " IndexStats(contig='KN707725.1', mapped=1046, unmapped=134, total=1180),\n",
              " IndexStats(contig='KN707726.1', mapped=7, unmapped=1, total=8),\n",
              " IndexStats(contig='KN707727.1', mapped=129, unmapped=13, total=142),\n",
              " IndexStats(contig='KN707728.1', mapped=3943, unmapped=75, total=4018),\n",
              " IndexStats(contig='KN707729.1', mapped=1887, unmapped=48, total=1935),\n",
              " IndexStats(contig='KN707730.1', mapped=0, unmapped=0, total=0),\n",
              " IndexStats(contig='KN707731.1', mapped=1119, unmapped=123, total=1242),\n",
              " IndexStats(contig='KN707732.1', mapped=272, unmapped=4, total=276),\n",
              " IndexStats(contig='KN707733.1', mapped=3685, unmapped=235, total=3920),\n",
              " IndexStats(contig='KN707734.1', mapped=4870, unmapped=192, total=5062),\n",
              " IndexStats(contig='KN707735.1', mapped=403, unmapped=165, total=568),\n",
              " IndexStats(contig='KN707736.1', mapped=1125, unmapped=85, total=1210),\n",
              " IndexStats(contig='KN707737.1', mapped=524, unmapped=102, total=626),\n",
              " IndexStats(contig='KN707738.1', mapped=1118, unmapped=113, total=1231),\n",
              " IndexStats(contig='KN707739.1', mapped=2274, unmapped=26, total=2300),\n",
              " IndexStats(contig='KN707740.1', mapped=4349, unmapped=190, total=4539),\n",
              " IndexStats(contig='KN707741.1', mapped=2897, unmapped=74, total=2971),\n",
              " IndexStats(contig='KN707742.1', mapped=2597, unmapped=91, total=2688),\n",
              " IndexStats(contig='KN707743.1', mapped=675, unmapped=106, total=781),\n",
              " IndexStats(contig='KN707744.1', mapped=957, unmapped=96, total=1053),\n",
              " IndexStats(contig='KN707745.1', mapped=83, unmapped=40, total=123),\n",
              " IndexStats(contig='KN707746.1', mapped=2899, unmapped=121, total=3020),\n",
              " IndexStats(contig='KN707747.1', mapped=1355, unmapped=125, total=1480),\n",
              " IndexStats(contig='KN707748.1', mapped=2007, unmapped=31, total=2038),\n",
              " IndexStats(contig='KN707749.1', mapped=1837, unmapped=57, total=1894),\n",
              " IndexStats(contig='KN707750.1', mapped=1954, unmapped=304, total=2258),\n",
              " IndexStats(contig='KN707751.1', mapped=623, unmapped=6, total=629),\n",
              " IndexStats(contig='KN707752.1', mapped=1076, unmapped=18, total=1094),\n",
              " IndexStats(contig='KN707753.1', mapped=1031, unmapped=66, total=1097),\n",
              " IndexStats(contig='KN707754.1', mapped=576, unmapped=50, total=626),\n",
              " IndexStats(contig='KN707755.1', mapped=2831, unmapped=197, total=3028),\n",
              " IndexStats(contig='KN707756.1', mapped=2728, unmapped=24, total=2752),\n",
              " IndexStats(contig='KN707757.1', mapped=1107, unmapped=109, total=1216),\n",
              " IndexStats(contig='KN707758.1', mapped=0, unmapped=0, total=0),\n",
              " IndexStats(contig='KN707759.1', mapped=15, unmapped=0, total=15),\n",
              " IndexStats(contig='KN707760.1', mapped=0, unmapped=0, total=0),\n",
              " IndexStats(contig='KN707761.1', mapped=0, unmapped=0, total=0),\n",
              " IndexStats(contig='KN707762.1', mapped=1176, unmapped=87, total=1263),\n",
              " IndexStats(contig='KN707763.1', mapped=1116, unmapped=160, total=1276),\n",
              " IndexStats(contig='KN707764.1', mapped=3, unmapped=0, total=3),\n",
              " IndexStats(contig='KN707765.1', mapped=2775, unmapped=345, total=3120),\n",
              " IndexStats(contig='KN707766.1', mapped=517, unmapped=57, total=574),\n",
              " IndexStats(contig='KN707767.1', mapped=617, unmapped=80, total=697),\n",
              " IndexStats(contig='KN707768.1', mapped=69, unmapped=12, total=81),\n",
              " IndexStats(contig='KN707769.1', mapped=25, unmapped=10, total=35),\n",
              " IndexStats(contig='KN707770.1', mapped=192, unmapped=52, total=244),\n",
              " IndexStats(contig='KN707771.1', mapped=1432, unmapped=226, total=1658),\n",
              " IndexStats(contig='KN707772.1', mapped=0, unmapped=0, total=0),\n",
              " IndexStats(contig='KN707773.1', mapped=2476, unmapped=214, total=2690),\n",
              " IndexStats(contig='KN707774.1', mapped=1461, unmapped=27, total=1488),\n",
              " IndexStats(contig='KN707775.1', mapped=2638, unmapped=140, total=2778),\n",
              " IndexStats(contig='KN707776.1', mapped=660, unmapped=60, total=720),\n",
              " IndexStats(contig='KN707777.1', mapped=2144, unmapped=62, total=2206),\n",
              " IndexStats(contig='KN707778.1', mapped=638, unmapped=35, total=673),\n",
              " IndexStats(contig='KN707779.1', mapped=3160, unmapped=69, total=3229),\n",
              " IndexStats(contig='KN707780.1', mapped=2928, unmapped=103, total=3031),\n",
              " IndexStats(contig='KN707781.1', mapped=1310, unmapped=65, total=1375),\n",
              " IndexStats(contig='KN707782.1', mapped=2606, unmapped=30, total=2636),\n",
              " IndexStats(contig='KN707783.1', mapped=2211, unmapped=107, total=2318),\n",
              " IndexStats(contig='KN707784.1', mapped=1439, unmapped=207, total=1646),\n",
              " IndexStats(contig='KN707785.1', mapped=560, unmapped=57, total=617),\n",
              " IndexStats(contig='KN707786.1', mapped=0, unmapped=0, total=0),\n",
              " IndexStats(contig='KN707787.1', mapped=938, unmapped=15, total=953),\n",
              " IndexStats(contig='KN707788.1', mapped=185, unmapped=60, total=245),\n",
              " IndexStats(contig='KN707789.1', mapped=409, unmapped=48, total=457),\n",
              " IndexStats(contig='KN707790.1', mapped=307, unmapped=38, total=345),\n",
              " IndexStats(contig='KN707791.1', mapped=820, unmapped=39, total=859),\n",
              " IndexStats(contig='KN707792.1', mapped=803, unmapped=194, total=997),\n",
              " IndexStats(contig='KN707793.1', mapped=1, unmapped=0, total=1),\n",
              " IndexStats(contig='KN707794.1', mapped=0, unmapped=0, total=0),\n",
              " IndexStats(contig='KN707795.1', mapped=1, unmapped=0, total=1),\n",
              " IndexStats(contig='KN707796.1', mapped=847, unmapped=22, total=869),\n",
              " IndexStats(contig='KN707797.1', mapped=948, unmapped=28, total=976),\n",
              " IndexStats(contig='KN707798.1', mapped=20437, unmapped=4992, total=25429),\n",
              " IndexStats(contig='KN707799.1', mapped=1272, unmapped=55, total=1327),\n",
              " IndexStats(contig='KN707800.1', mapped=1203, unmapped=124, total=1327),\n",
              " IndexStats(contig='KN707801.1', mapped=1492, unmapped=50, total=1542),\n",
              " IndexStats(contig='KN707802.1', mapped=1577, unmapped=15, total=1592),\n",
              " IndexStats(contig='KN707803.1', mapped=1111, unmapped=47, total=1158),\n",
              " IndexStats(contig='KN707804.1', mapped=2317, unmapped=116, total=2433),\n",
              " IndexStats(contig='KN707805.1', mapped=2383, unmapped=28, total=2411),\n",
              " IndexStats(contig='KN707806.1', mapped=5, unmapped=0, total=5),\n",
              " IndexStats(contig='KN707807.1', mapped=2276, unmapped=185, total=2461),\n",
              " IndexStats(contig='KN707808.1', mapped=1401, unmapped=130, total=1531),\n",
              " IndexStats(contig='KN707809.1', mapped=1692, unmapped=251, total=1943),\n",
              " IndexStats(contig='KN707810.1', mapped=0, unmapped=0, total=0),\n",
              " IndexStats(contig='KN707811.1', mapped=719, unmapped=5, total=724),\n",
              " IndexStats(contig='KN707812.1', mapped=1893, unmapped=54, total=1947),\n",
              " IndexStats(contig='KN707813.1', mapped=1049, unmapped=121, total=1170),\n",
              " IndexStats(contig='KN707814.1', mapped=2339, unmapped=103, total=2442),\n",
              " IndexStats(contig='KN707815.1', mapped=1711, unmapped=16, total=1727),\n",
              " IndexStats(contig='KN707816.1', mapped=3306, unmapped=215, total=3521),\n",
              " IndexStats(contig='KN707817.1', mapped=889, unmapped=42, total=931),\n",
              " IndexStats(contig='KN707818.1', mapped=30, unmapped=7, total=37),\n",
              " IndexStats(contig='KN707819.1', mapped=1498, unmapped=19, total=1517),\n",
              " IndexStats(contig='KN707820.1', mapped=0, unmapped=0, total=0),\n",
              " IndexStats(contig='KN707821.1', mapped=1074, unmapped=13, total=1087),\n",
              " IndexStats(contig='KN707822.1', mapped=1087, unmapped=215, total=1302),\n",
              " IndexStats(contig='KN707823.1', mapped=2, unmapped=1, total=3),\n",
              " IndexStats(contig='KN707824.1', mapped=2, unmapped=1, total=3),\n",
              " IndexStats(contig='KN707825.1', mapped=1123, unmapped=20, total=1143),\n",
              " IndexStats(contig='KN707826.1', mapped=1082, unmapped=23, total=1105),\n",
              " IndexStats(contig='KN707827.1', mapped=1219, unmapped=82, total=1301),\n",
              " IndexStats(contig='KN707828.1', mapped=178287, unmapped=16224, total=194511),\n",
              " IndexStats(contig='KN707829.1', mapped=394, unmapped=81, total=475),\n",
              " IndexStats(contig='KN707830.1', mapped=1242, unmapped=60, total=1302),\n",
              " IndexStats(contig='KN707831.1', mapped=442, unmapped=12, total=454),\n",
              " IndexStats(contig='KN707832.1', mapped=319, unmapped=1, total=320),\n",
              " IndexStats(contig='KN707833.1', mapped=472, unmapped=15, total=487),\n",
              " IndexStats(contig='KN707834.1', mapped=491, unmapped=48, total=539),\n",
              " IndexStats(contig='KN707835.1', mapped=900, unmapped=76, total=976),\n",
              " IndexStats(contig='KN707836.1', mapped=1496, unmapped=84, total=1580),\n",
              " IndexStats(contig='KN707837.1', mapped=256, unmapped=42, total=298),\n",
              " IndexStats(contig='KN707838.1', mapped=650, unmapped=52, total=702),\n",
              " IndexStats(contig='KN707839.1', mapped=695, unmapped=14, total=709),\n",
              " IndexStats(contig='KN707840.1', mapped=1743, unmapped=90, total=1833),\n",
              " IndexStats(contig='KN707841.1', mapped=0, unmapped=0, total=0),\n",
              " IndexStats(contig='KN707842.1', mapped=3524, unmapped=233, total=3757),\n",
              " IndexStats(contig='KN707843.1', mapped=0, unmapped=0, total=0),\n",
              " IndexStats(contig='KN707844.1', mapped=804, unmapped=116, total=920),\n",
              " IndexStats(contig='KN707845.1', mapped=1442, unmapped=198, total=1640),\n",
              " IndexStats(contig='KN707846.1', mapped=943, unmapped=23, total=966),\n",
              " IndexStats(contig='KN707847.1', mapped=765, unmapped=5, total=770),\n",
              " IndexStats(contig='KN707848.1', mapped=991, unmapped=54, total=1045),\n",
              " IndexStats(contig='KN707849.1', mapped=1646, unmapped=14, total=1660),\n",
              " IndexStats(contig='KN707850.1', mapped=332, unmapped=102, total=434),\n",
              " IndexStats(contig='KN707851.1', mapped=0, unmapped=0, total=0),\n",
              " IndexStats(contig='KN707852.1', mapped=429, unmapped=46, total=475),\n",
              " IndexStats(contig='KN707853.1', mapped=2187, unmapped=260, total=2447),\n",
              " IndexStats(contig='KN707854.1', mapped=5123, unmapped=145, total=5268),\n",
              " IndexStats(contig='KN707855.1', mapped=1582, unmapped=58, total=1640),\n",
              " IndexStats(contig='KN707856.1', mapped=917, unmapped=120, total=1037),\n",
              " IndexStats(contig='KN707857.1', mapped=5942, unmapped=284, total=6226),\n",
              " IndexStats(contig='KN707858.1', mapped=0, unmapped=0, total=0),\n",
              " IndexStats(contig='KN707859.1', mapped=650, unmapped=146, total=796),\n",
              " IndexStats(contig='KN707860.1', mapped=10612, unmapped=6413, total=17025),\n",
              " IndexStats(contig='KN707861.1', mapped=2582, unmapped=1552, total=4134),\n",
              " IndexStats(contig='KN707862.1', mapped=12466, unmapped=7378, total=19844),\n",
              " IndexStats(contig='KN707863.1', mapped=9840, unmapped=6944, total=16784),\n",
              " IndexStats(contig='KN707864.1', mapped=2728, unmapped=80, total=2808),\n",
              " IndexStats(contig='KN707865.1', mapped=2189, unmapped=141, total=2330),\n",
              " IndexStats(contig='KN707866.1', mapped=3874, unmapped=137, total=4011),\n",
              " IndexStats(contig='KN707867.1', mapped=1346, unmapped=48, total=1394),\n",
              " IndexStats(contig='KN707868.1', mapped=81, unmapped=23, total=104),\n",
              " IndexStats(contig='KN707869.1', mapped=0, unmapped=0, total=0),\n",
              " IndexStats(contig='KN707870.1', mapped=475, unmapped=12, total=487),\n",
              " IndexStats(contig='KN707871.1', mapped=4719, unmapped=78, total=4797),\n",
              " IndexStats(contig='KN707872.1', mapped=2089, unmapped=192, total=2281),\n",
              " IndexStats(contig='KN707873.1', mapped=8015, unmapped=513, total=8528),\n",
              " IndexStats(contig='KN707874.1', mapped=4544, unmapped=582, total=5126),\n",
              " IndexStats(contig='KN707875.1', mapped=4338, unmapped=643, total=4981),\n",
              " IndexStats(contig='KN707876.1', mapped=3815, unmapped=587, total=4402),\n",
              " IndexStats(contig='KN707877.1', mapped=3891, unmapped=1441, total=5332),\n",
              " IndexStats(contig='KN707878.1', mapped=2058, unmapped=148, total=2206),\n",
              " IndexStats(contig='KN707879.1', mapped=11625, unmapped=647, total=12272),\n",
              " IndexStats(contig='KN707880.1', mapped=18, unmapped=0, total=18),\n",
              " IndexStats(contig='KN707881.1', mapped=4843, unmapped=795, total=5638),\n",
              " IndexStats(contig='KN707882.1', mapped=10220, unmapped=2318, total=12538),\n",
              " IndexStats(contig='KN707883.1', mapped=2605, unmapped=299, total=2904),\n",
              " IndexStats(contig='KN707884.1', mapped=6811, unmapped=2028, total=8839),\n",
              " IndexStats(contig='KN707885.1', mapped=5290, unmapped=556, total=5846),\n",
              " IndexStats(contig='KN707886.1', mapped=8267, unmapped=639, total=8906),\n",
              " IndexStats(contig='KN707887.1', mapped=10493, unmapped=1136, total=11629),\n",
              " IndexStats(contig='KN707888.1', mapped=7502, unmapped=734, total=8236),\n",
              " IndexStats(contig='KN707889.1', mapped=4101, unmapped=840, total=4941),\n",
              " IndexStats(contig='KN707890.1', mapped=2283, unmapped=909, total=3192),\n",
              " IndexStats(contig='KN707891.1', mapped=2816, unmapped=312, total=3128),\n",
              " IndexStats(contig='KN707892.1', mapped=7478, unmapped=607, total=8085),\n",
              " IndexStats(contig='KN707893.1', mapped=6, unmapped=0, total=6),\n",
              " IndexStats(contig='KN707894.1', mapped=371, unmapped=12, total=383),\n",
              " IndexStats(contig='KN707895.1', mapped=2987, unmapped=171, total=3158),\n",
              " IndexStats(contig='KN707896.1', mapped=3014563, unmapped=889187, total=3903750),\n",
              " IndexStats(contig='KN707897.1', mapped=1690, unmapped=84, total=1774),\n",
              " IndexStats(contig='KN707898.1', mapped=1123, unmapped=50, total=1173),\n",
              " IndexStats(contig='KN707899.1', mapped=2633, unmapped=116, total=2749),\n",
              " IndexStats(contig='KN707900.1', mapped=1546, unmapped=58, total=1604),\n",
              " IndexStats(contig='KN707901.1', mapped=6257, unmapped=560, total=6817),\n",
              " IndexStats(contig='KN707902.1', mapped=3960, unmapped=418, total=4378),\n",
              " IndexStats(contig='KN707903.1', mapped=6686, unmapped=656, total=7342),\n",
              " IndexStats(contig='KN707904.1', mapped=10834, unmapped=1247, total=12081),\n",
              " IndexStats(contig='KN707905.1', mapped=4852, unmapped=314, total=5166),\n",
              " IndexStats(contig='KN707906.1', mapped=2765, unmapped=85, total=2850),\n",
              " IndexStats(contig='KN707907.1', mapped=0, unmapped=0, total=0),\n",
              " IndexStats(contig='KN707908.1', mapped=33, unmapped=5, total=38),\n",
              " IndexStats(contig='KN707909.1', mapped=969, unmapped=25, total=994),\n",
              " IndexStats(contig='KN707910.1', mapped=554, unmapped=6, total=560),\n",
              " IndexStats(contig='KN707911.1', mapped=955, unmapped=33, total=988),\n",
              " IndexStats(contig='KN707912.1', mapped=609, unmapped=52, total=661),\n",
              " IndexStats(contig='KN707913.1', mapped=1074, unmapped=17, total=1091),\n",
              " IndexStats(contig='KN707914.1', mapped=1182, unmapped=18, total=1200),\n",
              " IndexStats(contig='KN707915.1', mapped=1033, unmapped=172, total=1205),\n",
              " IndexStats(contig='KN707916.1', mapped=1288, unmapped=189, total=1477),\n",
              " IndexStats(contig='KN707917.1', mapped=23, unmapped=5, total=28),\n",
              " IndexStats(contig='KN707918.1', mapped=49, unmapped=2, total=51),\n",
              " IndexStats(contig='KN707919.1', mapped=1192, unmapped=22, total=1214),\n",
              " IndexStats(contig='KN707920.1', mapped=1527, unmapped=262, total=1789),\n",
              " IndexStats(contig='KN707921.1', mapped=5, unmapped=0, total=5),\n",
              " IndexStats(contig='KN707922.1', mapped=8, unmapped=0, total=8),\n",
              " IndexStats(contig='KN707923.1', mapped=682, unmapped=10, total=692),\n",
              " IndexStats(contig='KN707924.1', mapped=952, unmapped=21, total=973),\n",
              " IndexStats(contig='KN707925.1', mapped=3219, unmapped=65, total=3284),\n",
              " IndexStats(contig='KN707926.1', mapped=337, unmapped=42, total=379),\n",
              " IndexStats(contig='KN707927.1', mapped=15, unmapped=1, total=16),\n",
              " IndexStats(contig='KN707928.1', mapped=6, unmapped=1, total=7),\n",
              " IndexStats(contig='KN707929.1', mapped=12, unmapped=0, total=12),\n",
              " IndexStats(contig='KN707930.1', mapped=1, unmapped=0, total=1),\n",
              " IndexStats(contig='KN707931.1', mapped=0, unmapped=0, total=0),\n",
              " IndexStats(contig='KN707932.1', mapped=2, unmapped=0, total=2),\n",
              " IndexStats(contig='KN707933.1', mapped=1124, unmapped=117, total=1241),\n",
              " IndexStats(contig='KN707934.1', mapped=513, unmapped=88, total=601),\n",
              " IndexStats(contig='KN707935.1', mapped=719, unmapped=26, total=745),\n",
              " IndexStats(contig='KN707936.1', mapped=1908, unmapped=138, total=2046),\n",
              " IndexStats(contig='KN707937.1', mapped=0, unmapped=0, total=0),\n",
              " IndexStats(contig='KN707938.1', mapped=789, unmapped=19, total=808),\n",
              " IndexStats(contig='KN707939.1', mapped=2966, unmapped=183, total=3149),\n",
              " IndexStats(contig='KN707940.1', mapped=925, unmapped=58, total=983),\n",
              " IndexStats(contig='KN707941.1', mapped=588, unmapped=41, total=629),\n",
              " IndexStats(contig='KN707942.1', mapped=647, unmapped=59, total=706),\n",
              " IndexStats(contig='KN707943.1', mapped=6, unmapped=0, total=6),\n",
              " IndexStats(contig='KN707944.1', mapped=308, unmapped=122, total=430),\n",
              " IndexStats(contig='KN707945.1', mapped=124, unmapped=13, total=137),\n",
              " IndexStats(contig='KN707946.1', mapped=668, unmapped=15, total=683),\n",
              " IndexStats(contig='KN707947.1', mapped=230, unmapped=7, total=237),\n",
              " IndexStats(contig='KN707948.1', mapped=501, unmapped=24, total=525),\n",
              " IndexStats(contig='KN707949.1', mapped=32, unmapped=0, total=32),\n",
              " IndexStats(contig='KN707950.1', mapped=191, unmapped=42, total=233),\n",
              " IndexStats(contig='KN707951.1', mapped=440, unmapped=42, total=482),\n",
              " IndexStats(contig='KN707952.1', mapped=275, unmapped=21, total=296),\n",
              " IndexStats(contig='KN707953.1', mapped=5429, unmapped=538, total=5967),\n",
              " IndexStats(contig='KN707954.1', mapped=800, unmapped=14, total=814),\n",
              " IndexStats(contig='KN707955.1', mapped=1109, unmapped=52, total=1161),\n",
              " IndexStats(contig='KN707956.1', mapped=628, unmapped=7, total=635),\n",
              " IndexStats(contig='KN707957.1', mapped=2923, unmapped=169, total=3092),\n",
              " IndexStats(contig='KN707958.1', mapped=1392, unmapped=54, total=1446),\n",
              " IndexStats(contig='KN707959.1', mapped=2199, unmapped=446, total=2645),\n",
              " IndexStats(contig='KN707960.1', mapped=701, unmapped=22, total=723),\n",
              " IndexStats(contig='KN707961.1', mapped=1746, unmapped=53, total=1799),\n",
              " IndexStats(contig='KN707962.1', mapped=875, unmapped=18, total=893),\n",
              " IndexStats(contig='KN707963.1', mapped=119290, unmapped=25873, total=145163),\n",
              " IndexStats(contig='KN707964.1', mapped=9253, unmapped=2455, total=11708),\n",
              " IndexStats(contig='KN707965.1', mapped=2536, unmapped=258, total=2794),\n",
              " IndexStats(contig='KN707966.1', mapped=7970, unmapped=1048, total=9018),\n",
              " IndexStats(contig='KN707967.1', mapped=24711, unmapped=3319, total=28030),\n",
              " IndexStats(contig='KN707968.1', mapped=16508, unmapped=2315, total=18823),\n",
              " IndexStats(contig='KN707969.1', mapped=13286, unmapped=2517, total=15803),\n",
              " IndexStats(contig='KN707970.1', mapped=9406, unmapped=1468, total=10874),\n",
              " IndexStats(contig='KN707971.1', mapped=26208, unmapped=3207, total=29415),\n",
              " IndexStats(contig='KN707972.1', mapped=14056, unmapped=2804, total=16860),\n",
              " IndexStats(contig='KN707973.1', mapped=6250, unmapped=355, total=6605),\n",
              " IndexStats(contig='KN707974.1', mapped=5977, unmapped=183, total=6160),\n",
              " IndexStats(contig='KN707975.1', mapped=10982, unmapped=772, total=11754),\n",
              " IndexStats(contig='KN707976.1', mapped=3050, unmapped=449, total=3499),\n",
              " IndexStats(contig='KN707977.1', mapped=1, unmapped=0, total=1),\n",
              " IndexStats(contig='KN707978.1', mapped=334, unmapped=128, total=462),\n",
              " IndexStats(contig='KN707979.1', mapped=2704, unmapped=430, total=3134),\n",
              " IndexStats(contig='KN707980.1', mapped=2388, unmapped=204, total=2592),\n",
              " IndexStats(contig='KN707981.1', mapped=1209, unmapped=224, total=1433),\n",
              " IndexStats(contig='KN707982.1', mapped=2104, unmapped=124, total=2228),\n",
              " IndexStats(contig='KN707983.1', mapped=1191, unmapped=84, total=1275),\n",
              " IndexStats(contig='KN707984.1', mapped=1977, unmapped=196, total=2173),\n",
              " IndexStats(contig='KN707985.1', mapped=3057, unmapped=240, total=3297),\n",
              " IndexStats(contig='KN707986.1', mapped=3601, unmapped=329, total=3930),\n",
              " IndexStats(contig='KN707987.1', mapped=526, unmapped=13, total=539),\n",
              " IndexStats(contig='KN707988.1', mapped=2257, unmapped=70, total=2327),\n",
              " IndexStats(contig='KN707989.1', mapped=636, unmapped=42, total=678),\n",
              " IndexStats(contig='KN707990.1', mapped=2837, unmapped=200, total=3037),\n",
              " IndexStats(contig='KN707991.1', mapped=1229, unmapped=96, total=1325),\n",
              " IndexStats(contig='KN707992.1', mapped=549, unmapped=14, total=563),\n",
              " IndexStats(contig='JTFH01000001.1', mapped=11503, unmapped=255, total=11758),\n",
              " IndexStats(contig='JTFH01000002.1', mapped=9088, unmapped=249, total=9337),\n",
              " IndexStats(contig='JTFH01000003.1', mapped=7287, unmapped=209, total=7496),\n",
              " IndexStats(contig='JTFH01000004.1', mapped=7488, unmapped=366, total=7854),\n",
              " IndexStats(contig='JTFH01000005.1', mapped=1, unmapped=0, total=1),\n",
              " IndexStats(contig='JTFH01000006.1', mapped=0, unmapped=0, total=0),\n",
              " IndexStats(contig='JTFH01000007.1', mapped=3800, unmapped=93, total=3893),\n",
              " IndexStats(contig='JTFH01000008.1', mapped=4800, unmapped=142, total=4942),\n",
              " IndexStats(contig='JTFH01000009.1', mapped=3168, unmapped=72, total=3240),\n",
              " IndexStats(contig='JTFH01000010.1', mapped=5124, unmapped=102, total=5226),\n",
              " IndexStats(contig='JTFH01000011.1', mapped=4, unmapped=0, total=4),\n",
              " IndexStats(contig='JTFH01000012.1', mapped=2288, unmapped=98, total=2386),\n",
              " IndexStats(contig='JTFH01000013.1', mapped=3362, unmapped=154, total=3516),\n",
              " IndexStats(contig='JTFH01000014.1', mapped=21, unmapped=0, total=21),\n",
              " IndexStats(contig='JTFH01000015.1', mapped=4181, unmapped=45, total=4226),\n",
              " IndexStats(contig='JTFH01000016.1', mapped=4189, unmapped=92, total=4281),\n",
              " IndexStats(contig='JTFH01000017.1', mapped=3523, unmapped=69, total=3592),\n",
              " IndexStats(contig='JTFH01000018.1', mapped=5645, unmapped=247, total=5892),\n",
              " IndexStats(contig='JTFH01000019.1', mapped=1, unmapped=0, total=1),\n",
              " IndexStats(contig='JTFH01000020.1', mapped=3491, unmapped=114, total=3605),\n",
              " IndexStats(contig='JTFH01000021.1', mapped=1, unmapped=0, total=1),\n",
              " IndexStats(contig='JTFH01000022.1', mapped=3269, unmapped=127, total=3396),\n",
              " IndexStats(contig='JTFH01000023.1', mapped=2953, unmapped=130, total=3083),\n",
              " IndexStats(contig='JTFH01000024.1', mapped=2, unmapped=0, total=2),\n",
              " IndexStats(contig='JTFH01000025.1', mapped=42, unmapped=5, total=47),\n",
              " IndexStats(contig='JTFH01000026.1', mapped=3553, unmapped=20, total=3573),\n",
              " IndexStats(contig='JTFH01000027.1', mapped=637, unmapped=311, total=948),\n",
              " IndexStats(contig='JTFH01000028.1', mapped=0, unmapped=0, total=0),\n",
              " IndexStats(contig='JTFH01000029.1', mapped=2336, unmapped=81, total=2417),\n",
              " IndexStats(contig='JTFH01000030.1', mapped=2715, unmapped=135, total=2850),\n",
              " IndexStats(contig='JTFH01000031.1', mapped=2701, unmapped=143, total=2844),\n",
              " IndexStats(contig='JTFH01000032.1', mapped=3, unmapped=0, total=3),\n",
              " IndexStats(contig='JTFH01000033.1', mapped=2918, unmapped=27, total=2945),\n",
              " IndexStats(contig='JTFH01000034.1', mapped=4, unmapped=0, total=4),\n",
              " IndexStats(contig='JTFH01000035.1', mapped=7, unmapped=1, total=8),\n",
              " IndexStats(contig='JTFH01000036.1', mapped=8, unmapped=0, total=8),\n",
              " IndexStats(contig='JTFH01000037.1', mapped=4, unmapped=2, total=6),\n",
              " IndexStats(contig='JTFH01000038.1', mapped=3, unmapped=0, total=3),\n",
              " IndexStats(contig='JTFH01000039.1', mapped=1, unmapped=0, total=1),\n",
              " IndexStats(contig='JTFH01000040.1', mapped=6472, unmapped=273, total=6745),\n",
              " IndexStats(contig='JTFH01000041.1', mapped=1960, unmapped=67, total=2027),\n",
              " IndexStats(contig='JTFH01000042.1', mapped=662, unmapped=21, total=683),\n",
              " IndexStats(contig='JTFH01000043.1', mapped=0, unmapped=0, total=0),\n",
              " IndexStats(contig='JTFH01000044.1', mapped=2110, unmapped=110, total=2220),\n",
              " IndexStats(contig='JTFH01000045.1', mapped=2310, unmapped=62, total=2372),\n",
              " IndexStats(contig='JTFH01000046.1', mapped=1250, unmapped=18, total=1268),\n",
              " IndexStats(contig='JTFH01000047.1', mapped=9, unmapped=2, total=11),\n",
              " IndexStats(contig='JTFH01000048.1', mapped=2233, unmapped=65, total=2298),\n",
              " IndexStats(contig='JTFH01000049.1', mapped=6, unmapped=0, total=6),\n",
              " IndexStats(contig='JTFH01000050.1', mapped=17039, unmapped=7205, total=24244),\n",
              " IndexStats(contig='JTFH01000051.1', mapped=0, unmapped=0, total=0),\n",
              " IndexStats(contig='JTFH01000052.1', mapped=992, unmapped=27, total=1019),\n",
              " IndexStats(contig='JTFH01000053.1', mapped=0, unmapped=0, total=0),\n",
              " IndexStats(contig='JTFH01000054.1', mapped=2111, unmapped=51, total=2162),\n",
              " IndexStats(contig='JTFH01000055.1', mapped=1, unmapped=0, total=1),\n",
              " IndexStats(contig='JTFH01000056.1', mapped=16, unmapped=0, total=16),\n",
              " IndexStats(contig='JTFH01000057.1', mapped=7, unmapped=1, total=8),\n",
              " IndexStats(contig='JTFH01000058.1', mapped=950, unmapped=3, total=953),\n",
              " IndexStats(contig='JTFH01000059.1', mapped=2060, unmapped=112, total=2172),\n",
              " IndexStats(contig='JTFH01000060.1', mapped=1999, unmapped=144, total=2143),\n",
              " IndexStats(contig='JTFH01000061.1', mapped=1021, unmapped=15, total=1036),\n",
              " IndexStats(contig='JTFH01000062.1', mapped=3, unmapped=0, total=3),\n",
              " IndexStats(contig='JTFH01000063.1', mapped=2023, unmapped=78, total=2101),\n",
              " IndexStats(contig='JTFH01000064.1', mapped=8004, unmapped=917, total=8921),\n",
              " IndexStats(contig='JTFH01000065.1', mapped=0, unmapped=0, total=0),\n",
              " IndexStats(contig='JTFH01000066.1', mapped=1824, unmapped=103, total=1927),\n",
              " IndexStats(contig='JTFH01000067.1', mapped=52, unmapped=2, total=54),\n",
              " IndexStats(contig='JTFH01000068.1', mapped=5161, unmapped=943, total=6104),\n",
              " IndexStats(contig='JTFH01000069.1', mapped=1, unmapped=0, total=1),\n",
              " IndexStats(contig='JTFH01000070.1', mapped=1028, unmapped=4, total=1032),\n",
              " IndexStats(contig='JTFH01000071.1', mapped=3341, unmapped=171, total=3512),\n",
              " IndexStats(contig='JTFH01000072.1', mapped=4213, unmapped=1036, total=5249),\n",
              " IndexStats(contig='JTFH01000073.1', mapped=0, unmapped=0, total=0),\n",
              " IndexStats(contig='JTFH01000074.1', mapped=3321, unmapped=138, total=3459),\n",
              " IndexStats(contig='JTFH01000075.1', mapped=0, unmapped=0, total=0),\n",
              " IndexStats(contig='JTFH01000076.1', mapped=4, unmapped=1, total=5),\n",
              " IndexStats(contig='JTFH01000077.1', mapped=3640, unmapped=717, total=4357),\n",
              " IndexStats(contig='JTFH01000078.1', mapped=1, unmapped=0, total=1),\n",
              " IndexStats(contig='JTFH01000079.1', mapped=2089, unmapped=21, total=2110),\n",
              " IndexStats(contig='JTFH01000080.1', mapped=978, unmapped=36, total=1014),\n",
              " IndexStats(contig='JTFH01000081.1', mapped=1850, unmapped=93, total=1943),\n",
              " IndexStats(contig='JTFH01000082.1', mapped=854, unmapped=13, total=867),\n",
              " IndexStats(contig='JTFH01000083.1', mapped=9, unmapped=1, total=10),\n",
              " IndexStats(contig='JTFH01000084.1', mapped=12, unmapped=4, total=16),\n",
              " IndexStats(contig='JTFH01000085.1', mapped=0, unmapped=0, total=0),\n",
              " IndexStats(contig='JTFH01000086.1', mapped=4, unmapped=3, total=7),\n",
              " IndexStats(contig='JTFH01000087.1', mapped=1332, unmapped=12, total=1344),\n",
              " IndexStats(contig='JTFH01000088.1', mapped=19, unmapped=1, total=20),\n",
              " IndexStats(contig='JTFH01000089.1', mapped=1655, unmapped=59, total=1714),\n",
              " IndexStats(contig='JTFH01000090.1', mapped=5831, unmapped=1638, total=7469),\n",
              " IndexStats(contig='JTFH01000091.1', mapped=1, unmapped=0, total=1),\n",
              " IndexStats(contig='JTFH01000092.1', mapped=1467, unmapped=31, total=1498),\n",
              " IndexStats(contig='JTFH01000093.1', mapped=3013, unmapped=480, total=3493),\n",
              " IndexStats(contig='JTFH01000094.1', mapped=2, unmapped=1, total=3),\n",
              " IndexStats(contig='JTFH01000095.1', mapped=1, unmapped=0, total=1),\n",
              " IndexStats(contig='JTFH01000096.1', mapped=5493, unmapped=1321, total=6814),\n",
              " IndexStats(contig='JTFH01000097.1', mapped=1863, unmapped=76, total=1939),\n",
              " IndexStats(contig='JTFH01000098.1', mapped=3667, unmapped=225, total=3892),\n",
              " IndexStats(contig='JTFH01000099.1', mapped=5425, unmapped=1298, total=6723),\n",
              " IndexStats(contig='JTFH01000100.1', mapped=0, unmapped=0, total=0),\n",
              " IndexStats(contig='JTFH01000101.1', mapped=855, unmapped=172, total=1027),\n",
              " IndexStats(contig='JTFH01000102.1', mapped=2427, unmapped=505, total=2932),\n",
              " IndexStats(contig='JTFH01000103.1', mapped=1, unmapped=0, total=1),\n",
              " IndexStats(contig='JTFH01000104.1', mapped=900, unmapped=24, total=924),\n",
              " IndexStats(contig='JTFH01000105.1', mapped=1832, unmapped=62, total=1894),\n",
              " IndexStats(contig='JTFH01000106.1', mapped=1669, unmapped=15, total=1684),\n",
              " IndexStats(contig='JTFH01000107.1', mapped=1598, unmapped=124, total=1722),\n",
              " IndexStats(contig='JTFH01000108.1', mapped=0, unmapped=0, total=0),\n",
              " IndexStats(contig='JTFH01000109.1', mapped=0, unmapped=0, total=0),\n",
              " IndexStats(contig='JTFH01000110.1', mapped=957, unmapped=4, total=961),\n",
              " IndexStats(contig='JTFH01000111.1', mapped=2391, unmapped=411, total=2802),\n",
              " IndexStats(contig='JTFH01000112.1', mapped=2295, unmapped=433, total=2728),\n",
              " IndexStats(contig='JTFH01000113.1', mapped=1682, unmapped=106, total=1788),\n",
              " IndexStats(contig='JTFH01000114.1', mapped=1553, unmapped=85, total=1638),\n",
              " IndexStats(contig='JTFH01000115.1', mapped=1633, unmapped=21, total=1654),\n",
              " IndexStats(contig='JTFH01000116.1', mapped=2973, unmapped=462, total=3435),\n",
              " IndexStats(contig='JTFH01000117.1', mapped=1534, unmapped=141, total=1675),\n",
              " IndexStats(contig='JTFH01000118.1', mapped=727, unmapped=76, total=803),\n",
              " IndexStats(contig='JTFH01000119.1', mapped=855, unmapped=11, total=866),\n",
              " IndexStats(contig='JTFH01000120.1', mapped=3, unmapped=0, total=3),\n",
              " IndexStats(contig='JTFH01000121.1', mapped=1, unmapped=0, total=1),\n",
              " IndexStats(contig='JTFH01000122.1', mapped=3, unmapped=2, total=5),\n",
              " IndexStats(contig='JTFH01000123.1', mapped=4348, unmapped=899, total=5247),\n",
              " IndexStats(contig='JTFH01000124.1', mapped=1747, unmapped=301, total=2048),\n",
              " IndexStats(contig='JTFH01000125.1', mapped=1510, unmapped=85, total=1595),\n",
              " IndexStats(contig='JTFH01000126.1', mapped=3418, unmapped=836, total=4254),\n",
              " IndexStats(contig='JTFH01000127.1', mapped=2800, unmapped=370, total=3170),\n",
              " IndexStats(contig='JTFH01000128.1', mapped=9, unmapped=1, total=10),\n",
              " IndexStats(contig='JTFH01000129.1', mapped=2612, unmapped=354, total=2966),\n",
              " IndexStats(contig='JTFH01000130.1', mapped=3, unmapped=1, total=4),\n",
              " IndexStats(contig='JTFH01000131.1', mapped=2, unmapped=2, total=4),\n",
              " IndexStats(contig='JTFH01000132.1', mapped=5187, unmapped=1342, total=6529),\n",
              " IndexStats(contig='JTFH01000133.1', mapped=2612, unmapped=429, total=3041),\n",
              " IndexStats(contig='JTFH01000134.1', mapped=1631, unmapped=163, total=1794),\n",
              " IndexStats(contig='JTFH01000135.1', mapped=4248, unmapped=938, total=5186),\n",
              " IndexStats(contig='JTFH01000136.1', mapped=2206, unmapped=215, total=2421),\n",
              " IndexStats(contig='JTFH01000137.1', mapped=761, unmapped=25, total=786),\n",
              " IndexStats(contig='JTFH01000138.1', mapped=2, unmapped=0, total=2),\n",
              " IndexStats(contig='JTFH01000139.1', mapped=7, unmapped=1, total=8),\n",
              " IndexStats(contig='JTFH01000140.1', mapped=2070, unmapped=538, total=2608),\n",
              " IndexStats(contig='JTFH01000141.1', mapped=670, unmapped=18, total=688),\n",
              " IndexStats(contig='JTFH01000142.1', mapped=854, unmapped=9, total=863),\n",
              " IndexStats(contig='JTFH01000143.1', mapped=2, unmapped=0, total=2),\n",
              " IndexStats(contig='JTFH01000144.1', mapped=3915, unmapped=888, total=4803),\n",
              " IndexStats(contig='JTFH01000145.1', mapped=7273, unmapped=2286, total=9559),\n",
              " IndexStats(contig='JTFH01000146.1', mapped=2866, unmapped=438, total=3304),\n",
              " IndexStats(contig='JTFH01000147.1', mapped=1, unmapped=0, total=1),\n",
              " IndexStats(contig='JTFH01000148.1', mapped=2669, unmapped=332, total=3001),\n",
              " IndexStats(contig='JTFH01000149.1', mapped=1, unmapped=0, total=1),\n",
              " IndexStats(contig='JTFH01000150.1', mapped=6580, unmapped=577, total=7157),\n",
              " IndexStats(contig='JTFH01000151.1', mapped=2748, unmapped=434, total=3182),\n",
              " IndexStats(contig='JTFH01000152.1', mapped=717, unmapped=8, total=725),\n",
              " IndexStats(contig='JTFH01000153.1', mapped=6123, unmapped=1574, total=7697),\n",
              " IndexStats(contig='JTFH01000154.1', mapped=2251, unmapped=320, total=2571),\n",
              " IndexStats(contig='JTFH01000155.1', mapped=1457, unmapped=48, total=1505),\n",
              " IndexStats(contig='JTFH01000156.1', mapped=1418, unmapped=53, total=1471),\n",
              " IndexStats(contig='JTFH01000157.1', mapped=9, unmapped=2, total=11),\n",
              " IndexStats(contig='JTFH01000158.1', mapped=4565, unmapped=899, total=5464),\n",
              " IndexStats(contig='JTFH01000159.1', mapped=2718, unmapped=489, total=3207),\n",
              " IndexStats(contig='JTFH01000160.1', mapped=0, unmapped=0, total=0),\n",
              " IndexStats(contig='JTFH01000161.1', mapped=1443, unmapped=63, total=1506),\n",
              " IndexStats(contig='JTFH01000162.1', mapped=628, unmapped=7, total=635),\n",
              " IndexStats(contig='JTFH01000163.1', mapped=1490, unmapped=23, total=1513),\n",
              " IndexStats(contig='JTFH01000164.1', mapped=1982, unmapped=297, total=2279),\n",
              " IndexStats(contig='JTFH01000165.1', mapped=752, unmapped=10, total=762),\n",
              " IndexStats(contig='JTFH01000166.1', mapped=3, unmapped=2, total=5),\n",
              " IndexStats(contig='JTFH01000167.1', mapped=1250, unmapped=191, total=1441),\n",
              " IndexStats(contig='JTFH01000168.1', mapped=1335, unmapped=81, total=1416),\n",
              " IndexStats(contig='JTFH01000169.1', mapped=425, unmapped=25, total=450),\n",
              " IndexStats(contig='JTFH01000170.1', mapped=0, unmapped=0, total=0),\n",
              " IndexStats(contig='JTFH01000171.1', mapped=1, unmapped=0, total=1),\n",
              " IndexStats(contig='JTFH01000172.1', mapped=4, unmapped=1, total=5),\n",
              " IndexStats(contig='JTFH01000173.1', mapped=0, unmapped=0, total=0),\n",
              " IndexStats(contig='JTFH01000174.1', mapped=1268, unmapped=67, total=1335),\n",
              " IndexStats(contig='JTFH01000175.1', mapped=1, unmapped=1, total=2),\n",
              " IndexStats(contig='JTFH01000176.1', mapped=2, unmapped=2, total=4),\n",
              " IndexStats(contig='JTFH01000177.1', mapped=0, unmapped=0, total=0),\n",
              " IndexStats(contig='JTFH01000178.1', mapped=1240, unmapped=67, total=1307),\n",
              " IndexStats(contig='JTFH01000179.1', mapped=3628, unmapped=279, total=3907),\n",
              " IndexStats(contig='JTFH01000180.1', mapped=2207, unmapped=356, total=2563),\n",
              " IndexStats(contig='JTFH01000181.1', mapped=3202, unmapped=766, total=3968),\n",
              " IndexStats(contig='JTFH01000182.1', mapped=3086, unmapped=90, total=3176),\n",
              " IndexStats(contig='JTFH01000183.1', mapped=489, unmapped=22, total=511),\n",
              " IndexStats(contig='JTFH01000184.1', mapped=17, unmapped=0, total=17),\n",
              " IndexStats(contig='JTFH01000185.1', mapped=4517, unmapped=994, total=5511),\n",
              " IndexStats(contig='JTFH01000186.1', mapped=4, unmapped=1, total=5),\n",
              " IndexStats(contig='JTFH01000187.1', mapped=747, unmapped=29, total=776),\n",
              " IndexStats(contig='JTFH01000188.1', mapped=2, unmapped=1, total=3),\n",
              " IndexStats(contig='JTFH01000189.1', mapped=14, unmapped=1, total=15),\n",
              " IndexStats(contig='JTFH01000190.1', mapped=1111, unmapped=26, total=1137),\n",
              " IndexStats(contig='JTFH01000191.1', mapped=3150, unmapped=106, total=3256),\n",
              " IndexStats(contig='JTFH01000192.1', mapped=1902, unmapped=277, total=2179),\n",
              " IndexStats(contig='JTFH01000193.1', mapped=6, unmapped=0, total=6),\n",
              " IndexStats(contig='JTFH01000194.1', mapped=2351, unmapped=99, total=2450),\n",
              " IndexStats(contig='JTFH01000195.1', mapped=1142, unmapped=105, total=1247),\n",
              " IndexStats(contig='JTFH01000196.1', mapped=2094, unmapped=351, total=2445),\n",
              " IndexStats(contig='JTFH01000197.1', mapped=1352, unmapped=14, total=1366),\n",
              " IndexStats(contig='JTFH01000198.1', mapped=5, unmapped=0, total=5),\n",
              " IndexStats(contig='JTFH01000199.1', mapped=1338, unmapped=20, total=1358),\n",
              " IndexStats(contig='JTFH01000200.1', mapped=1221, unmapped=69, total=1290),\n",
              " IndexStats(contig='JTFH01000201.1', mapped=3, unmapped=2, total=5),\n",
              " IndexStats(contig='JTFH01000202.1', mapped=3958, unmapped=347, total=4305),\n",
              " IndexStats(contig='JTFH01000203.1', mapped=635, unmapped=16, total=651),\n",
              " IndexStats(contig='JTFH01000204.1', mapped=714, unmapped=9, total=723),\n",
              " IndexStats(contig='JTFH01000205.1', mapped=1393, unmapped=138, total=1531),\n",
              " IndexStats(contig='JTFH01000206.1', mapped=2440, unmapped=196, total=2636),\n",
              " IndexStats(contig='JTFH01000207.1', mapped=1786, unmapped=245, total=2031),\n",
              " IndexStats(contig='JTFH01000208.1', mapped=1180, unmapped=45, total=1225),\n",
              " IndexStats(contig='JTFH01000209.1', mapped=2, unmapped=0, total=2),\n",
              " IndexStats(contig='JTFH01000210.1', mapped=1, unmapped=0, total=1),\n",
              " IndexStats(contig='JTFH01000211.1', mapped=3, unmapped=1, total=4),\n",
              " IndexStats(contig='JTFH01000212.1', mapped=2154, unmapped=504, total=2658),\n",
              " IndexStats(contig='JTFH01000213.1', mapped=0, unmapped=0, total=0),\n",
              " IndexStats(contig='JTFH01000214.1', mapped=210, unmapped=80, total=290),\n",
              " IndexStats(contig='JTFH01000215.1', mapped=1424, unmapped=67, total=1491),\n",
              " IndexStats(contig='JTFH01000216.1', mapped=1499, unmapped=101, total=1600),\n",
              " IndexStats(contig='JTFH01000217.1', mapped=1506, unmapped=192, total=1698),\n",
              " IndexStats(contig='JTFH01000218.1', mapped=1828, unmapped=314, total=2142),\n",
              " IndexStats(contig='JTFH01000219.1', mapped=0, unmapped=0, total=0),\n",
              " IndexStats(contig='JTFH01000220.1', mapped=1, unmapped=0, total=1),\n",
              " IndexStats(contig='JTFH01000221.1', mapped=682, unmapped=115, total=797),\n",
              " IndexStats(contig='JTFH01000222.1', mapped=1563, unmapped=194, total=1757),\n",
              " IndexStats(contig='JTFH01000223.1', mapped=4090, unmapped=1300, total=5390),\n",
              " IndexStats(contig='JTFH01000224.1', mapped=3, unmapped=0, total=3),\n",
              " IndexStats(contig='JTFH01000225.1', mapped=1006, unmapped=55, total=1061),\n",
              " IndexStats(contig='JTFH01000226.1', mapped=3102, unmapped=321, total=3423),\n",
              " IndexStats(contig='JTFH01000227.1', mapped=1964, unmapped=384, total=2348),\n",
              " IndexStats(contig='JTFH01000228.1', mapped=651, unmapped=23, total=674),\n",
              " IndexStats(contig='JTFH01000229.1', mapped=2, unmapped=0, total=2),\n",
              " IndexStats(contig='JTFH01000230.1', mapped=1700, unmapped=279, total=1979),\n",
              " IndexStats(contig='JTFH01000231.1', mapped=562, unmapped=235, total=797),\n",
              " IndexStats(contig='JTFH01000232.1', mapped=1032, unmapped=127, total=1159),\n",
              " IndexStats(contig='JTFH01000233.1', mapped=609, unmapped=24, total=633),\n",
              " IndexStats(contig='JTFH01000234.1', mapped=1909, unmapped=113, total=2022),\n",
              " IndexStats(contig='JTFH01000235.1', mapped=1, unmapped=1, total=2),\n",
              " IndexStats(contig='JTFH01000236.1', mapped=641, unmapped=29, total=670),\n",
              " IndexStats(contig='JTFH01000237.1', mapped=604, unmapped=32, total=636),\n",
              " IndexStats(contig='JTFH01000238.1', mapped=5, unmapped=3, total=8),\n",
              " IndexStats(contig='JTFH01000239.1', mapped=1, unmapped=0, total=1),\n",
              " IndexStats(contig='JTFH01000240.1', mapped=67, unmapped=9, total=76),\n",
              " IndexStats(contig='JTFH01000241.1', mapped=2672, unmapped=583, total=3255),\n",
              " IndexStats(contig='JTFH01000242.1', mapped=812, unmapped=49, total=861),\n",
              " IndexStats(contig='JTFH01000243.1', mapped=1079, unmapped=75, total=1154),\n",
              " IndexStats(contig='JTFH01000244.1', mapped=1210, unmapped=126, total=1336),\n",
              " IndexStats(contig='JTFH01000245.1', mapped=1248, unmapped=79, total=1327),\n",
              " IndexStats(contig='JTFH01000246.1', mapped=516, unmapped=14, total=530),\n",
              " IndexStats(contig='JTFH01000247.1', mapped=120, unmapped=7, total=127),\n",
              " IndexStats(contig='JTFH01000248.1', mapped=612, unmapped=53, total=665),\n",
              " IndexStats(contig='JTFH01000249.1', mapped=1444, unmapped=166, total=1610),\n",
              " IndexStats(contig='JTFH01000250.1', mapped=0, unmapped=0, total=0),\n",
              " IndexStats(contig='JTFH01000251.1', mapped=570, unmapped=32, total=602),\n",
              " IndexStats(contig='JTFH01000252.1', mapped=2, unmapped=0, total=2),\n",
              " IndexStats(contig='JTFH01000253.1', mapped=680, unmapped=5, total=685),\n",
              " IndexStats(contig='JTFH01000254.1', mapped=379, unmapped=51, total=430),\n",
              " IndexStats(contig='JTFH01000255.1', mapped=2, unmapped=0, total=2),\n",
              " IndexStats(contig='JTFH01000256.1', mapped=10, unmapped=3, total=13),\n",
              " IndexStats(contig='JTFH01000257.1', mapped=3652, unmapped=389, total=4041),\n",
              " IndexStats(contig='JTFH01000258.1', mapped=6770, unmapped=1059, total=7829),\n",
              " IndexStats(contig='JTFH01000259.1', mapped=6, unmapped=2, total=8),\n",
              " IndexStats(contig='JTFH01000260.1', mapped=1120, unmapped=21, total=1141),\n",
              " IndexStats(contig='JTFH01000261.1', mapped=103, unmapped=4, total=107),\n",
              " IndexStats(contig='JTFH01000262.1', mapped=406, unmapped=236, total=642),\n",
              " IndexStats(contig='JTFH01000263.1', mapped=2540, unmapped=561, total=3101),\n",
              " IndexStats(contig='JTFH01000264.1', mapped=602, unmapped=73, total=675),\n",
              " IndexStats(contig='JTFH01000265.1', mapped=0, unmapped=0, total=0),\n",
              " IndexStats(contig='JTFH01000266.1', mapped=2279, unmapped=161, total=2440),\n",
              " IndexStats(contig='JTFH01000267.1', mapped=1058, unmapped=69, total=1127),\n",
              " IndexStats(contig='JTFH01000268.1', mapped=1277, unmapped=131, total=1408),\n",
              " IndexStats(contig='JTFH01000269.1', mapped=2303, unmapped=217, total=2520),\n",
              " IndexStats(contig='JTFH01000270.1', mapped=3, unmapped=0, total=3),\n",
              " IndexStats(contig='JTFH01000271.1', mapped=566, unmapped=8, total=574),\n",
              " IndexStats(contig='JTFH01000272.1', mapped=831, unmapped=49, total=880),\n",
              " IndexStats(contig='JTFH01000273.1', mapped=17187, unmapped=6279, total=23466),\n",
              " IndexStats(contig='JTFH01000274.1', mapped=1867, unmapped=319, total=2186),\n",
              " IndexStats(contig='JTFH01000275.1', mapped=4, unmapped=1, total=5),\n",
              " IndexStats(contig='JTFH01000276.1', mapped=72, unmapped=37, total=109),\n",
              " IndexStats(contig='JTFH01000277.1', mapped=1626, unmapped=167, total=1793),\n",
              " IndexStats(contig='JTFH01000278.1', mapped=1, unmapped=0, total=1),\n",
              " IndexStats(contig='JTFH01000279.1', mapped=626, unmapped=35, total=661),\n",
              " IndexStats(contig='JTFH01000280.1', mapped=18495, unmapped=7957, total=26452),\n",
              " IndexStats(contig='JTFH01000281.1', mapped=730, unmapped=113, total=843),\n",
              " IndexStats(contig='JTFH01000282.1', mapped=372, unmapped=12, total=384),\n",
              " IndexStats(contig='JTFH01000283.1', mapped=3, unmapped=0, total=3),\n",
              " IndexStats(contig='JTFH01000284.1', mapped=531, unmapped=47, total=578),\n",
              " IndexStats(contig='JTFH01000285.1', mapped=1385, unmapped=86, total=1471),\n",
              " IndexStats(contig='JTFH01000286.1', mapped=27, unmapped=0, total=27),\n",
              " IndexStats(contig='JTFH01000287.1', mapped=618, unmapped=46, total=664),\n",
              " IndexStats(contig='JTFH01000288.1', mapped=2705, unmapped=250, total=2955),\n",
              " IndexStats(contig='JTFH01000289.1', mapped=6, unmapped=0, total=6),\n",
              " IndexStats(contig='JTFH01000290.1', mapped=510, unmapped=26, total=536),\n",
              " IndexStats(contig='JTFH01000291.1', mapped=1076, unmapped=58, total=1134),\n",
              " IndexStats(contig='JTFH01000292.1', mapped=1106, unmapped=33, total=1139),\n",
              " IndexStats(contig='JTFH01000293.1', mapped=501, unmapped=37, total=538),\n",
              " IndexStats(contig='JTFH01000294.1', mapped=5, unmapped=1, total=6),\n",
              " IndexStats(contig='JTFH01000295.1', mapped=2796, unmapped=600, total=3396),\n",
              " IndexStats(contig='JTFH01000296.1', mapped=0, unmapped=0, total=0),\n",
              " IndexStats(contig='JTFH01000297.1', mapped=1737, unmapped=79, total=1816),\n",
              " IndexStats(contig='JTFH01000298.1', mapped=912, unmapped=58, total=970),\n",
              " IndexStats(contig='JTFH01000299.1', mapped=400, unmapped=73, total=473),\n",
              " IndexStats(contig='JTFH01000300.1', mapped=6, unmapped=2, total=8),\n",
              " IndexStats(contig='JTFH01000301.1', mapped=0, unmapped=0, total=0),\n",
              " IndexStats(contig='JTFH01000302.1', mapped=1741, unmapped=326, total=2067),\n",
              " IndexStats(contig='JTFH01000303.1', mapped=1015, unmapped=23, total=1038),\n",
              " IndexStats(contig='JTFH01000304.1', mapped=396, unmapped=11, total=407),\n",
              " IndexStats(contig='JTFH01000305.1', mapped=499, unmapped=9, total=508),\n",
              " IndexStats(contig='JTFH01000306.1', mapped=2252, unmapped=141, total=2393),\n",
              " IndexStats(contig='JTFH01000307.1', mapped=891, unmapped=77, total=968),\n",
              " IndexStats(contig='JTFH01000308.1', mapped=999, unmapped=152, total=1151),\n",
              " IndexStats(contig='JTFH01000309.1', mapped=1, unmapped=0, total=1),\n",
              " IndexStats(contig='JTFH01000310.1', mapped=23, unmapped=0, total=23),\n",
              " IndexStats(contig='JTFH01000311.1', mapped=362, unmapped=134, total=496),\n",
              " IndexStats(contig='JTFH01000312.1', mapped=454, unmapped=92, total=546),\n",
              " IndexStats(contig='JTFH01000313.1', mapped=474, unmapped=21, total=495),\n",
              " IndexStats(contig='JTFH01000314.1', mapped=3, unmapped=0, total=3),\n",
              " IndexStats(contig='JTFH01000315.1', mapped=1600, unmapped=170, total=1770),\n",
              " IndexStats(contig='JTFH01000316.1', mapped=1023, unmapped=41, total=1064),\n",
              " IndexStats(contig='JTFH01000317.1', mapped=1600, unmapped=334, total=1934),\n",
              " IndexStats(contig='JTFH01000318.1', mapped=964, unmapped=103, total=1067),\n",
              " IndexStats(contig='JTFH01000319.1', mapped=708, unmapped=37, total=745),\n",
              " IndexStats(contig='JTFH01000320.1', mapped=440, unmapped=12, total=452),\n",
              " IndexStats(contig='JTFH01000321.1', mapped=5, unmapped=0, total=5),\n",
              " IndexStats(contig='JTFH01000322.1', mapped=1, unmapped=0, total=1),\n",
              " IndexStats(contig='JTFH01000323.1', mapped=1725, unmapped=325, total=2050),\n",
              " IndexStats(contig='JTFH01000324.1', mapped=1073, unmapped=243, total=1316),\n",
              " IndexStats(contig='JTFH01000325.1', mapped=918, unmapped=101, total=1019),\n",
              " IndexStats(contig='JTFH01000326.1', mapped=3746, unmapped=706, total=4452),\n",
              " IndexStats(contig='JTFH01000327.1', mapped=8, unmapped=1, total=9),\n",
              " IndexStats(contig='JTFH01000328.1', mapped=0, unmapped=0, total=0),\n",
              " IndexStats(contig='JTFH01000329.1', mapped=2436, unmapped=705, total=3141),\n",
              " IndexStats(contig='JTFH01000330.1', mapped=18, unmapped=0, total=18),\n",
              " IndexStats(contig='JTFH01000331.1', mapped=751, unmapped=80, total=831),\n",
              " IndexStats(contig='JTFH01000332.1', mapped=909, unmapped=82, total=991),\n",
              " IndexStats(contig='JTFH01000333.1', mapped=15, unmapped=0, total=15),\n",
              " IndexStats(contig='JTFH01000334.1', mapped=973, unmapped=64, total=1037),\n",
              " IndexStats(contig='JTFH01000335.1', mapped=1, unmapped=1, total=2),\n",
              " IndexStats(contig='JTFH01000336.1', mapped=49, unmapped=0, total=49),\n",
              " IndexStats(contig='JTFH01000337.1', mapped=516, unmapped=3, total=519),\n",
              " IndexStats(contig='JTFH01000338.1', mapped=1, unmapped=0, total=1),\n",
              " IndexStats(contig='JTFH01000339.1', mapped=810, unmapped=45, total=855),\n",
              " IndexStats(contig='JTFH01000340.1', mapped=2607, unmapped=336, total=2943),\n",
              " IndexStats(contig='JTFH01000341.1', mapped=962, unmapped=33, total=995),\n",
              " IndexStats(contig='JTFH01000342.1', mapped=916, unmapped=50, total=966),\n",
              " IndexStats(contig='JTFH01000343.1', mapped=2028, unmapped=81, total=2109),\n",
              " IndexStats(contig='JTFH01000344.1', mapped=997, unmapped=44, total=1041),\n",
              " IndexStats(contig='JTFH01000345.1', mapped=1153, unmapped=131, total=1284),\n",
              " IndexStats(contig='JTFH01000346.1', mapped=1755, unmapped=327, total=2082),\n",
              " IndexStats(contig='JTFH01000347.1', mapped=937, unmapped=156, total=1093),\n",
              " IndexStats(contig='JTFH01000348.1', mapped=2212, unmapped=487, total=2699),\n",
              " IndexStats(contig='JTFH01000349.1', mapped=3496, unmapped=620, total=4116),\n",
              " IndexStats(contig='JTFH01000350.1', mapped=974, unmapped=15, total=989),\n",
              " IndexStats(contig='JTFH01000351.1', mapped=1444, unmapped=313, total=1757),\n",
              " IndexStats(contig='JTFH01000352.1', mapped=960, unmapped=50, total=1010),\n",
              " IndexStats(contig='JTFH01000353.1', mapped=0, unmapped=0, total=0),\n",
              " IndexStats(contig='JTFH01000354.1', mapped=1, unmapped=1, total=2),\n",
              " IndexStats(contig='JTFH01000355.1', mapped=0, unmapped=0, total=0),\n",
              " IndexStats(contig='JTFH01000356.1', mapped=8, unmapped=8, total=16),\n",
              " IndexStats(contig='JTFH01000357.1', mapped=1205, unmapped=15, total=1220),\n",
              " IndexStats(contig='JTFH01000358.1', mapped=721, unmapped=49, total=770),\n",
              " IndexStats(contig='JTFH01000359.1', mapped=15, unmapped=2, total=17),\n",
              " IndexStats(contig='JTFH01000360.1', mapped=760, unmapped=68, total=828),\n",
              " IndexStats(contig='JTFH01000361.1', mapped=2625, unmapped=315, total=2940),\n",
              " IndexStats(contig='JTFH01000362.1', mapped=0, unmapped=0, total=0),\n",
              " IndexStats(contig='JTFH01000363.1', mapped=0, unmapped=0, total=0),\n",
              " IndexStats(contig='JTFH01000364.1', mapped=0, unmapped=0, total=0),\n",
              " IndexStats(contig='JTFH01000365.1', mapped=0, unmapped=0, total=0),\n",
              " IndexStats(contig='JTFH01000366.1', mapped=803, unmapped=157, total=960),\n",
              " IndexStats(contig='JTFH01000367.1', mapped=2, unmapped=0, total=2),\n",
              " IndexStats(contig='JTFH01000368.1', mapped=947, unmapped=22, total=969),\n",
              " IndexStats(contig='JTFH01000369.1', mapped=1, unmapped=0, total=1),\n",
              " IndexStats(contig='JTFH01000370.1', mapped=4, unmapped=0, total=4),\n",
              " IndexStats(contig='JTFH01000371.1', mapped=462, unmapped=80, total=542),\n",
              " IndexStats(contig='JTFH01000372.1', mapped=1064, unmapped=41, total=1105),\n",
              " IndexStats(contig='JTFH01000373.1', mapped=484, unmapped=4, total=488),\n",
              " IndexStats(contig='JTFH01000374.1', mapped=0, unmapped=0, total=0),\n",
              " IndexStats(contig='JTFH01000375.1', mapped=42, unmapped=3, total=45),\n",
              " IndexStats(contig='JTFH01000376.1', mapped=6, unmapped=4, total=10),\n",
              " IndexStats(contig='JTFH01000377.1', mapped=331, unmapped=1, total=332),\n",
              " IndexStats(contig='JTFH01000378.1', mapped=2187, unmapped=210, total=2397),\n",
              " IndexStats(contig='JTFH01000379.1', mapped=2, unmapped=2, total=4),\n",
              " IndexStats(contig='JTFH01000380.1', mapped=871, unmapped=11, total=882),\n",
              " IndexStats(contig='JTFH01000381.1', mapped=843, unmapped=123, total=966),\n",
              " IndexStats(contig='JTFH01000382.1', mapped=106, unmapped=2, total=108),\n",
              " IndexStats(contig='JTFH01000383.1', mapped=2362, unmapped=247, total=2609),\n",
              " IndexStats(contig='JTFH01000384.1', mapped=471, unmapped=58, total=529),\n",
              " IndexStats(contig='JTFH01000385.1', mapped=1, unmapped=1, total=2),\n",
              " IndexStats(contig='JTFH01000386.1', mapped=448, unmapped=32, total=480),\n",
              " IndexStats(contig='JTFH01000387.1', mapped=438, unmapped=14, total=452),\n",
              " IndexStats(contig='JTFH01000388.1', mapped=7, unmapped=0, total=7),\n",
              " IndexStats(contig='JTFH01000389.1', mapped=2, unmapped=0, total=2),\n",
              " IndexStats(contig='JTFH01000390.1', mapped=895, unmapped=59, total=954),\n",
              " IndexStats(contig='JTFH01000391.1', mapped=145, unmapped=15, total=160),\n",
              " IndexStats(contig='JTFH01000392.1', mapped=999, unmapped=144, total=1143),\n",
              " IndexStats(contig='JTFH01000393.1', mapped=49, unmapped=2, total=51),\n",
              " IndexStats(contig='JTFH01000394.1', mapped=819, unmapped=105, total=924),\n",
              " IndexStats(contig='JTFH01000395.1', mapped=1055, unmapped=143, total=1198),\n",
              " IndexStats(contig='JTFH01000396.1', mapped=1644, unmapped=484, total=2128),\n",
              " IndexStats(contig='JTFH01000397.1', mapped=1281, unmapped=201, total=1482),\n",
              " IndexStats(contig='JTFH01000398.1', mapped=412, unmapped=3, total=415),\n",
              " IndexStats(contig='JTFH01000399.1', mapped=975, unmapped=99, total=1074),\n",
              " IndexStats(contig='JTFH01000400.1', mapped=2, unmapped=1, total=3),\n",
              " IndexStats(contig='JTFH01000401.1', mapped=2269, unmapped=180, total=2449),\n",
              " IndexStats(contig='JTFH01000402.1', mapped=1271, unmapped=181, total=1452),\n",
              " IndexStats(contig='JTFH01000403.1', mapped=527, unmapped=9, total=536),\n",
              " IndexStats(contig='JTFH01000404.1', mapped=495, unmapped=38, total=533),\n",
              " IndexStats(contig='JTFH01000405.1', mapped=463, unmapped=2, total=465),\n",
              " IndexStats(contig='JTFH01000406.1', mapped=0, unmapped=0, total=0),\n",
              " IndexStats(contig='JTFH01000407.1', mapped=1931, unmapped=339, total=2270),\n",
              " IndexStats(contig='JTFH01000408.1', mapped=4, unmapped=0, total=4),\n",
              " IndexStats(contig='JTFH01000409.1', mapped=804, unmapped=116, total=920),\n",
              " IndexStats(contig='JTFH01000410.1', mapped=1157, unmapped=86, total=1243),\n",
              " IndexStats(contig='JTFH01000411.1', mapped=2161, unmapped=312, total=2473),\n",
              " IndexStats(contig='JTFH01000412.1', mapped=1384, unmapped=11, total=1395),\n",
              " IndexStats(contig='JTFH01000413.1', mapped=5, unmapped=1, total=6),\n",
              " IndexStats(contig='JTFH01000414.1', mapped=0, unmapped=0, total=0),\n",
              " IndexStats(contig='JTFH01000415.1', mapped=924, unmapped=7, total=931),\n",
              " IndexStats(contig='JTFH01000416.1', mapped=1, unmapped=1, total=2),\n",
              " IndexStats(contig='JTFH01000417.1', mapped=2439, unmapped=643, total=3082),\n",
              " IndexStats(contig='JTFH01000418.1', mapped=1740, unmapped=417, total=2157),\n",
              " ...]"
            ]
          },
          "metadata": {},
          "execution_count": 15
        }
      ],
      "source": [
        "NA12878_S1_samfile.get_index_statistics()\n",
        "\n",
        "# output of interest:\n",
        " #IndexStats(contig='chr1', mapped=126463885, unmapped=1598253, total=128062138),\n",
        " #IndexStats(contig='chr2', mapped=124492435, unmapped=575950, total=125068385),\n",
        " #IndexStats(contig='chr3', mapped=103395180, unmapped=512526, total=103907706),\n",
        " #IndexStats(contig='chr4', mapped=97936331, unmapped=536818, total=98473149)\n",
        " # ..."
      ]
    },
    {
      "cell_type": "markdown",
      "metadata": {
        "id": "Xh49PfEtT2Y-"
      },
      "source": [
        "## Creating Functions: Make Image Tensors of Aligned Reads & SNPs to feed into Neural Network\n",
        "Inspiration for this project stemmed from both DeepVariant and VarNet models. Both these models use RGB images as inputs to Convolutional Neural Networks to learn variants. DeepVariant is for any sample. VarNet compares tumor to normal samples and identifies tumor specific variants.\n",
        "\n",
        "DeepVariant is an analysis pipeline that uses a deep neural network to call genetic variants from next-generation DNA sequencing data.\n",
        "\n",
        "google/deepvariant public [Github](https://github.com/google/deepvariant)\n",
        "\n",
        "Poplin, R., Chang, PC., Alexander, D. et al. A universal SNP and small-indel variant caller using deep neural networks. Nat Biotechnol 36, 983–987 [(2018)](https://www.nature.com/articles/nbt.4235#citeas)\n",
        "\n",
        "VarNet is a pre-trained deep learning model trained on vast amounts of next generate sequencing data for accurate and robust detection of somatic variants across samples. It takes as input raw read information in the form of matched (tumor and normal) BAM files and outputs a VCF file containing somatic variants.\n",
        "\n",
        "skandlab/VarNet public [Github](https://github.com/skandlab/VarNet).\n",
        "\n",
        "Krishnamachari, K., Lu, D., Swift-Scott, A. et al. Accurate somatic variant detection using weakly supervised deep learning. Nat Commun 13, 4248 [(2022)](https://www.nature.com/articles/s41467-022-31765-8#citeas)."
      ]
    },
    {
      "cell_type": "code",
      "execution_count": null,
      "metadata": {
        "id": "PkWXyO_YUsAd"
      },
      "outputs": [],
      "source": [
        "import joblib\n",
        "import os\n",
        "import numpy as np\n",
        "import pandas as pd\n",
        "import pysam\n",
        "import re\n",
        "import argparse\n",
        "\n",
        "#from PIL import Image\n",
        "from time import time\n",
        "from joblib import Parallel, delayed, __version__\n",
        "\n",
        "#import snvs.constants as c\n",
        "import datetime\n",
        "import random"
      ]
    },
    {
      "cell_type": "code",
      "execution_count": null,
      "metadata": {
        "id": "CRNBt3835oPE"
      },
      "outputs": [],
      "source": [
        "# functions for getting aligned reads between start and end positions\n",
        "\n",
        "def fetch_reads_from_bam(bamfile, chrX, start_pos, end_pos, sample_reads=False):\n",
        "    # fetch is 0-indexed, inclusive of start_pos, exclusive of end_pos\n",
        "    \"\"\"\n",
        "    Args:\n",
        "        bamfile - Pysam Alignment File to get reads of.\n",
        "        \"chrX\" - Chromosome/section string to get reads of.\n",
        "        start - Start place to fetch reads.\n",
        "        end - End place to fetch reads.\n",
        "    Returns:\n",
        "        pysam alignmentfile\n",
        "    \"\"\"\n",
        "    try:\n",
        "        bam_file = bamfile.fetch(chrX, start_pos if start_pos >= 0 else 0, end_pos, multiple_iterators=True)\n",
        "    except ValueError:\n",
        "        chrX = \"chr%s\" % chrX\n",
        "        bam_file = bamfile.fetch(chrX, start_pos if start_pos >= 0 else 0, end_pos, multiple_iterators=True)\n",
        "\n",
        "    return bam_file\n",
        "\n",
        "\n",
        "def is_usable_read(read):\n",
        "    \"\"\"\n",
        "    Let's not filter reads with bad mapping quality. We'll let the net learn to use mapping quality values appropriately.\n",
        "    There is no clarity on the range of mapping quality values that alignment software produce and they don't appear to comply with the SAM specification.\n",
        "    \"\"\"\n",
        "    usable_read = (not (read.is_duplicate or read.is_supplementary or read.is_unmapped or read.is_secondary))\n",
        "    return usable_read\n",
        "    \n",
        "\n",
        "def get_reads(bamfile, chrX, start, end):\n",
        "    \"\"\"\n",
        "    Gets all reads in bam that are not duplicate, supplementary,\n",
        "    unmapped, secondary or repeated.\n",
        "    Args:\n",
        "        bamfile - Pysam Alignment File to get reads of.\n",
        "        chrX - Chromosome/section string to get reads of.\n",
        "        start - Start place to fetch reads.\n",
        "        end - End place to fetch reads.\n",
        "    Returns:\n",
        "        usable_reads - The list of usable reads.\n",
        "    \"\"\"\n",
        "\n",
        "    usable_reads = []\n",
        "    try:\n",
        "      reads = fetch_reads_from_bam(bamfile, chrX, start, end) # fetch returns an iterator, which you can go through only once so convert to list()\n",
        "    except ValueError:\n",
        "      chrX = \"chr%s\" % chrX\n",
        "      reads = fetch_reads_from_bam(bamfile, chrX, start, end)\n",
        "\n",
        "    names_of_stacked_reads = {}\n",
        "\n",
        "    for read in reads:\n",
        "        if is_usable_read(read) and read.query_name not in names_of_stacked_reads:\n",
        "            names_of_stacked_reads[read.query_name] = True\n",
        "            usable_reads.append(read)\n",
        "\n",
        "    return usable_reads"
      ]
    },
    {
      "cell_type": "markdown",
      "source": [
        "[SUPER HELPFUL documentation](https://google.github.io/deepvariant/posts/2020-02-20-looking-through-deepvariants-eyes/)  written by DeepVariant authors to aid in understanding the way an image is created to help neural networks classify variants."
      ],
      "metadata": {
        "id": "tavkWvoCPchN"
      }
    },
    {
      "cell_type": "code",
      "execution_count": null,
      "metadata": {
        "id": "LhF-uEVjT7DZ"
      },
      "outputs": [],
      "source": [
        "# Some constants are defined first, followed by helper functions, \n",
        "\n",
        "# then the generate_image function at the very end.\n",
        "\n",
        "\n",
        "\n",
        "CTR_DUP = 5 # Duplicate the center column, which is to be predicted. \n",
        "# In my project I'm using the whole image and predicting whether there is a variant y/n. \n",
        "# This is an easy task obviously. For future works, with more time and developement to make this model predict types of variants.\n",
        "\n",
        "SEQ_LENGTH = 31 # must be odd!! length of sequence. DeepVariant uses 221. This is the width of the image.\n",
        "# 31 worked best for me in visualization and keeping the image sizes within Colab reason.\n",
        "\n",
        "# SEQ_LENGTH needs to be ODD; or assertion wont pass.\n",
        "assert SEQ_LENGTH % 2\n",
        "\n",
        "PER_IMAGE_WIDTH = SEQ_LENGTH + CTR_DUP - 1\n",
        "\n",
        "FLANK = int((SEQ_LENGTH-1)/2)\n",
        "NUM_READS = 100 # max number of reads to include / array height. \n",
        "#DeepVariant uses 100. This is the height of the image.\n",
        "\n",
        "NUM_CHANNELS_PER_IMAGE = 4\n",
        "# 0 == first channel are the aligned reads. each base has been set to a color: {'A': 245, 'G': 175, 'T': 105, 'C': 35}. \n",
        "# 1 == second channel is the base quality of the read\n",
        "# 2 == strand direction (forward or backwards)\n",
        "# 3 == mapping quality\n",
        "\n",
        "SAMPLE_READS = True # sample reads and sort by CO. don't use this when generating training data if you don't want sampling, or set SAMPLE_READS_COUNT to 1. \n",
        "SAMPLE_READS_COUNT = 1 # default 1. for use with SAMPLE_READS\n",
        "\n",
        "VARIABLE_INPUT_SIZE = False # if True, all reads at candidate sites are used\n",
        "\n",
        "MAX_READS = 500 # max reads to use if all reads are used during prediction (when VARIABLE_INPUT_SIZE=True)\n",
        "\n",
        "ENCODE_INSERTIONS = False\n",
        "\n",
        "# if True, compares bases to the reference base. Encodes 0 if they are the same\n",
        "COMPARE_REF_BASE = False\n",
        "\n",
        "\n",
        "\n",
        "\n",
        "def set_input_encoding(af):\n",
        "    global NUM_CHANNELS_PER_IMAGE\n",
        "    NUM_CHANNELS_PER_IMAGE = 4\n",
        "\n",
        "    if af:\n",
        "        NUM_CHANNELS_PER_IMAGE += 4 # one channel for each base\n",
        "\n",
        "    global INCLUDE_ALLELE_FREQUENCY\n",
        "    INCLUDE_ALLELE_FREQUENCY = af\n",
        "\n",
        "    global NUM_CHANNELS\n",
        "    global INPUT_SHAPE\n",
        "\n",
        "    if TUMOR_NORMAL_ADJACENT:\n",
        "        if REMOVE_REFERENCE_CHANNEL:\n",
        "            NUM_CHANNELS = NUM_CHANNELS_PER_IMAGE\n",
        "        else:\n",
        "            NUM_CHANNELS = NUM_CHANNELS_PER_IMAGE + 1 # add one for reference channel\n",
        "\n",
        "        if ADD_NORMAL_TUMOR_FLAG_CHANNEL:\n",
        "            NUM_CHANNELS += 1\n",
        "\n",
        "        INPUT_SHAPE = [ NUM_READS, 2*(SEQ_LENGTH + CTR_DUP - 1), NUM_CHANNELS]\n",
        "    else:\n",
        "        NUM_CHANNELS = NUM_CHANNELS_PER_IMAGE + NUM_CHANNELS_PER_IMAGE + 1 # tumor + normal + 1 for ref channel\n",
        "        INPUT_SHAPE = [ NUM_READS, SEQ_LENGTH + CTR_DUP - 1, NUM_CHANNELS]\n",
        "\n",
        "\n",
        "\n",
        "def aligned_pair_for_reference_position(ref_pos, read):\n",
        "    for pair in read.get_aligned_pairs():\n",
        "        if pair[1] == ref_pos:\n",
        "            return pair\n",
        "    return (None, None)\n",
        "\n",
        "\n",
        "\n",
        "\n",
        "def stack_read_in_image(read, img, row_num, col_i, start_pos, end_pos, chrX, ref_dict=None):\n",
        "    sequence, encoded_bases, base_qualities, read_starts_at, insert_indices = get_bases_to_fill(read, chrX, start_pos, end_pos)\n",
        "    encoded_quals = encode_base_qualities(base_qualities)\n",
        "\n",
        "    processed_read_length = len(encoded_bases)\n",
        "    \n",
        "    assert(len(encoded_bases) == len(encoded_quals))\n",
        "\n",
        "    img[row_num, read_starts_at : read_starts_at + processed_read_length, 0] = encoded_bases\n",
        "    img[row_num, read_starts_at : read_starts_at + processed_read_length, 1] = encoded_quals\n",
        "    img[row_num, read_starts_at : read_starts_at + processed_read_length, 2] = encode_strand_dir(not read.is_reverse, processed_read_length)\n",
        "    img[row_num, read_starts_at : read_starts_at + processed_read_length, 3] = encode_mapping_quality(read.mapping_quality, processed_read_length)\n",
        "\n",
        "\n",
        "\n",
        "def get_average_neighbouring_base_quality(read, ref_pos):\n",
        "    \"\"\"Calculates average base quality of bases on either side of a deletion in a read\"\"\"\n",
        "    neighbouring_base_quality_amount, neighbouring_bases_count = 0.0, 0.0\n",
        "\n",
        "    # get base quality of nearest available base on the left (not inserted base)\n",
        "    pos = ref_pos - 1\n",
        "    while(pos >= read.reference_start):\n",
        "        pair = aligned_pair_for_reference_position(pos, read)\n",
        "        if pair[0]: # check that it's not another deletion to the left\n",
        "            neighbouring_base_quality_amount += read.query_qualities[pair[0]] \n",
        "            neighbouring_bases_count += 1\n",
        "            break\n",
        "        pos -= 1\n",
        "\n",
        "    # get base quality of nearest available base on the right (not inserted base)\n",
        "    pos = ref_pos + 1\n",
        "    while(pos < read.reference_end):\n",
        "        pair = aligned_pair_for_reference_position(pos, read)\n",
        "        if pair[0]: # check that it's not another deletion to the left\n",
        "            neighbouring_base_quality_amount += read.query_qualities[pair[0]] \n",
        "            neighbouring_bases_count += 1\n",
        "            break\n",
        "        pos += 1\n",
        "\n",
        "    return neighbouring_base_quality_amount/neighbouring_bases_count\n",
        "\n",
        "\n",
        "\n",
        "def get_bases_to_fill(read, chromosome, reference_start, reference_end, mutate=None):\n",
        "    seq = ''\n",
        "    encoded_seq = []\n",
        "    quals = []\n",
        "\n",
        "    all_pairs = get_positions_to_fill(read) # list of read/query and reference positions, soft clip bases removed\n",
        "    read_starts_at = 0\n",
        "\n",
        "    insert_indices = []\n",
        "\n",
        "    'query_qualities is missing in reads sometimes. Fill it up with 45 (min base qual)'\n",
        "    if read.query_qualities is None:\n",
        "        read.query_qualities = [45 for u in range(len(read.query_sequence))]\n",
        "\n",
        "    for i, pair in enumerate(all_pairs):\n",
        "        read_pos = pair[0]\n",
        "        ref_pos = pair[1]\n",
        "\n",
        "        if ref_pos is None: # Ref pos is None for insertions\n",
        "            # what is the best way to encode insertions for SNV calling?\n",
        "            if ENCODE_INSERTIONS:\n",
        "                # modify preceeding base\n",
        "                if len(encoded_seq):\n",
        "                    if all_pairs[i-1][1]: # this is the previous position's ref_pos. don't modify the preceeding base more once per insertion\n",
        "                        encoded_seq[-1] += 20\n",
        "                    \n",
        "            # insert_indices += [ read_pos - 1 ] if read_pos != 0 else []\n",
        "\n",
        "        elif ref_pos >= reference_start and ref_pos < reference_end:\n",
        "            \n",
        "            if not len(encoded_seq): # if this is the first base we are adding to the encoded read\n",
        "                read_starts_at = ref_pos - reference_start\n",
        "\n",
        "            if read_pos is None: # This means that there is a deletion\n",
        "                seq += 'D'\n",
        "                \n",
        "                encoded_seq.append(get_match_val('D', None, None)) # ref_base not needed unless COMPARE_REF_BASE=TRUE. get_ref_base(ref_pos, chromosome)))\n",
        "\n",
        "                # base quality for deletions\n",
        "                # use average of the base qualities neighbouring it\n",
        "                quals.append(get_average_neighbouring_base_quality(read, ref_pos))\n",
        "\n",
        "            else:\n",
        "                seq += read.query_sequence[read_pos]\n",
        "                \n",
        "                encoded_seq.append(get_match_val('M', read.query_sequence[read_pos], None)) # ref_base not needed unless COMPARE_REF_BASE=TRUE. get_ref_base(ref_pos, chromosome)))\n",
        "    \n",
        "                quals.append(read.query_qualities[read_pos])\n",
        "\n",
        "    assert(len(seq) == len(quals))\n",
        "    return seq, encoded_seq, quals, read_starts_at, insert_indices\n",
        "\n",
        "\n",
        "\n",
        "def get_positions_to_fill(read):\n",
        "    \"\"\"\n",
        "    This function removes soft clip bases from the beginning and end of the read.\n",
        "    Soft clip bases are likely from sequencing errors and are not used by variant callers\n",
        "    \"\"\"\n",
        "    # list of read/query and reference positions\n",
        "    all_positions = read.get_aligned_pairs()\n",
        "    \n",
        "    soft_clip_bases_on_the_left = read.cigartuples[0][1] if read.cigartuples[0][0] == 4 else 0\n",
        "    soft_clip_bases_on_the_right = read.cigartuples[-1][1] if read.cigartuples[-1][0] == 4 else 0\n",
        "\n",
        "    if soft_clip_bases_on_the_right:\n",
        "        all_positions = all_positions[soft_clip_bases_on_the_left:-soft_clip_bases_on_the_right]\n",
        "    else:\n",
        "        all_positions = all_positions[soft_clip_bases_on_the_left:]\n",
        "\n",
        "    return all_positions\n",
        "\n",
        "\n",
        "\n",
        "def encode_base_qualities(quals):\n",
        "    out_arr = np.array([get_base_quality_color(qual) for qual in quals], dtype=np.float32)\n",
        "    return out_arr\n",
        "\n",
        "def encode_strand_dir(on_positive_strand, length):\n",
        "    return np.ones((length,)) * get_strand_color(on_positive_strand)\n",
        "\n",
        "def encode_mapping_quality(mapping_qual, length):\n",
        "    return np.ones((length,)) * get_mapping_quality_color(mapping_qual)\n",
        "\n",
        "def get_mapping_quality_color(map_quality):\n",
        "    if np.isclose(map_quality, 255.): # 255. means no available mapping quality\n",
        "        return 0.\n",
        "    else:\n",
        "        return float(int(255.0 * (min(45, map_quality) / 45.0)))\n",
        "\n",
        "def get_base_quality_color(quality):\n",
        "    return int(255.0 * (min(45, quality) / 45.0))\n",
        "\n",
        "def get_strand_color(on_positive_strand):\n",
        "    return 125 if on_positive_strand else 250\n",
        "\n",
        "def get_match_val(cigar_tag, read_base, ref_base):\n",
        "    if (cigar_tag == 'M'):  # this means that this base aligns to reference\n",
        "        if COMPARE_REF_BASE:\n",
        "            if (read_base == ref_base): # base match\n",
        "                return 0.\n",
        "            else: # base mismatch\n",
        "                return get_base_val(read_base)\n",
        "        else:\n",
        "            return get_base_val(read_base)\n",
        "\n",
        "    elif (cigar_tag == 'S'): # soft clip\n",
        "        return get_base_val(read_base) # this is okay, MQ will be 0\n",
        "    elif (cigar_tag == 'D'): # deletion\n",
        "        return 10.\n",
        "    else:\n",
        "        print((cigar_tag, read_base, ref_base))\n",
        "        raise KeyboardInterrupt\n",
        "        return\n",
        "\n",
        "\n",
        "def get_base_val(base):\n",
        "    # NOTE: could make the degenerate bases that encode 2 bases get a value of 10 and those that encode 3 bases get a value of 5, whereas any results in a value of 0\n",
        "    base_to_color = {'A': 245, 'G': 175, 'T': 105, 'C': 35, 'D': 0, 'N': 0, 'W': 0,\n",
        "                     'S': 0, 'M': 0, 'K': 0, 'R': 0, 'Y': 0, 'B': 0, 'H': 0, 'V': 0} #remove all these extra letters by seting to 0\n",
        "    if base not in list(base_to_color.keys()):\n",
        "        raise KeyboardInterrupt\n",
        "    return base_to_color.get(base, 0)\n",
        "\n",
        "\n",
        "def sample_reads_fn(reads, n, seed=1):\n",
        "    num_reads = len(reads)\n",
        "    # don't sample if there are less than or equal to n reads\n",
        "    if num_reads <=n: return reads\n",
        "    # sample n items from reads list while preserving relative order of sampled reads in original list\n",
        "    read_indices = list(range(num_reads)) # [0,1,2,3...len(reads)-1]\n",
        "    random.seed(seed) # use same random seed for every site. easier to debug\n",
        "    sample_indices = random.sample(read_indices, n) # sample n reads\n",
        "    sample_indices.sort() # sort reads by order in original list\n",
        "    output = [reads[_] for _ in sample_indices]\n",
        "    return output\n",
        "\n",
        "\n",
        "\n",
        "def generate_image(chrX, position, bamfile, ref, reads, ref_dict=None, is_negative_gen=False, sample_reads=False, mutate=None, seed=1):\n",
        "    \"\"\"\n",
        "    chrX : input in the form of 'ch#'\n",
        "    position : center of image. this should be variant, doesnt have to be. window around is it (SEQ_LENGTH/2)\n",
        "    bamfile : bamfile or samfile with aligned reads\n",
        "    ref : reference genome\n",
        "\n",
        "    CREATES IMAGE WITH CHANNELS:\n",
        "    0 == aligned reads\n",
        "    1 == base quality\n",
        "    2 == strand direction\n",
        "    3 == mapping quality\n",
        "\n",
        "    \"\"\"\n",
        "    \n",
        "    row_i = 0\n",
        "    col_i = 0\n",
        "\n",
        "    fetch_region_flank =  int((SEQ_LENGTH - 1) / 2)\n",
        "    fetch_region_start = position - fetch_region_flank\n",
        "    fetch_region_end = position + fetch_region_flank + 1\n",
        "\n",
        "    num_usable_reads = len(reads)\n",
        "\n",
        "    if SAMPLE_READS and len(reads) > NUM_READS: # sample only if there are more than c.NUM_READS reads\n",
        "        assert not VARIABLE_INPUT_SIZE\n",
        "        reads = sample_reads_fn(reads, NUM_READS, seed=seed) # sample reads while preserving order in reads list\n",
        "\n",
        "    if VARIABLE_INPUT_SIZE:\n",
        "        '''\n",
        "        Minimum input height is still c.NUM_READS (100). so if there are less than 100 usable reads, the input height will be 100. \n",
        "        '''\n",
        "        if len(reads) > MAX_READS:\n",
        "            reads = sample_reads_fn(reads, MAX_READS) # upper limit for reads\n",
        "\n",
        "        INPUT_HEIGHT = max(NUM_READS, len(reads))\n",
        "        img = np.zeros((INPUT_HEIGHT, SEQ_LENGTH, NUM_CHANNELS_PER_IMAGE), dtype=np.float32)\n",
        "\n",
        "    else:\n",
        "        img = np.zeros((NUM_READS, SEQ_LENGTH, NUM_CHANNELS_PER_IMAGE), dtype=np.float32)\n",
        "        \n",
        "    if mutate is not None:\n",
        "        coverage = len(reads)\n",
        " \n",
        "        vaf = np.random.beta(2,5)\n",
        "\n",
        "        num_variant_reads = int(round(vaf*coverage))\n",
        "        num_normal_reads = coverage - num_variant_reads\n",
        "\n",
        "        N=0\n",
        "\n",
        "        # MODIFY READS TO INSERT MUTATION\n",
        "        for read in reads:\n",
        "            for pos in read.get_aligned_pairs():\n",
        "                if pos[1] == mutate['ref_pos'] and pos[0] is not None:\n",
        "                    prev_base = read.query_sequence[pos[0]]\n",
        "                    if read.query_sequence[pos[0]] == mutate['normal_allele']:\n",
        "                        if N >= num_normal_reads:\n",
        "                            read.query_sequence = read.query_sequence[:pos[0]] + mutate['variant_allele'] + read.query_sequence[pos[0]+1:]\n",
        "                        else:\n",
        "                            N+=1\n",
        "                    #print '%s -> %s' % (prev_base, read.query_sequence[pos[0]])\n",
        "                    break\n",
        "\n",
        "    if sample_reads:\n",
        "        num_reads = 0\n",
        "\n",
        "        for read in reads:\n",
        "            num_reads+=1\n",
        "\n",
        "        if num_reads < 100:\n",
        "            sample_reads = False\n",
        "        else:\n",
        "            read_indices = list(range(num_reads))\n",
        "            sample_read_indices = random.sample(read_indices, NUM_READS)\n",
        "            sample_read_indices.sort()\n",
        "    \n",
        "    for idx, read in enumerate(reads):\n",
        "        if sample_reads: #randomly skip reads\n",
        "            if idx not in sample_read_indices:\n",
        "                continue        \n",
        "\n",
        "        stack_read_in_image(read, img, row_i, col_i, fetch_region_start, fetch_region_end, chrX, ref_dict)\n",
        "        row_i += 1\n",
        "        col_i += 1\n",
        "\n",
        "        if row_i >= NUM_READS and not VARIABLE_INPUT_SIZE:\n",
        "            break\n",
        "\n",
        "\n",
        "        try:\n",
        "            coverage = bamfile.count_coverage(chrX, fetch_region_start, fetch_region_end)\n",
        "        except ValueError:\n",
        "            chrX = 'chr%s' % chrX\n",
        "            coverage = bamfile.count_coverage(chrX, fetch_region_start, fetch_region_end)\n",
        "\n",
        "\n",
        "        # [ (#A, #C, #G, #T), (#A, #C, #G, #T), (#A, #C, #G, #T), ] at each position in normal\n",
        "        coverage_list = [(coverage[0][i], coverage[1][i], coverage[2][i], coverage[3][i]) \n",
        "            for i in range(len(coverage[0]))]\n",
        "        del coverage\n",
        "\n",
        "        for idx, p in enumerate(coverage_list):\n",
        "            DEPTH_AT_POSITION = sum(p)\n",
        "            A_AF, C_AF, G_AF, T_AF = 0., 0., 0., 0.\n",
        "        \n",
        "            if DEPTH_AT_POSITION>0:        \n",
        "                A_AF = float(p[0])/DEPTH_AT_POSITION\n",
        "                C_AF = float(p[1])/DEPTH_AT_POSITION\n",
        "                G_AF = float(p[2])/DEPTH_AT_POSITION\n",
        "                T_AF = float(p[3])/DEPTH_AT_POSITION\n",
        "\n",
        "\n",
        "    return img\n"
      ]
    },
    {
      "cell_type": "markdown",
      "source": [
        "**Small test for if the function works properly:**"
      ],
      "metadata": {
        "id": "qqoC42KVk2BF"
      }
    },
    {
      "cell_type": "code",
      "source": [
        "# use input: chr1, pos : 3317067 ( checked VCF file to grab this variant )\n",
        "# add 16 subtract 15 for a 31 bp window\n",
        "reads = get_reads(NA12878_S1_samfile, \"chr1\", 3317067-15, (3317067+16))\n",
        "print(np.shape(reads))"
      ],
      "metadata": {
        "colab": {
          "base_uri": "https://localhost:8080/"
        },
        "id": "P9wlpQVsbfE4",
        "outputId": "04dff0f2-854b-4f8a-c2cf-c9e78d4472df"
      },
      "execution_count": null,
      "outputs": [
        {
          "output_type": "stream",
          "name": "stdout",
          "text": [
            "(36,)\n"
          ]
        }
      ]
    },
    {
      "cell_type": "code",
      "source": [
        "# chromosome of interest, position of center (usually the variant position), reference genome, reads around the position of interest\n",
        "img = generate_image(chrX = 'chr1', position = 3317067\n",
        "                     , bamfile = NA12878_S1_samfile, ref = ref, reads = reads )"
      ],
      "metadata": {
        "id": "O4Iq2Q3qfIus"
      },
      "execution_count": null,
      "outputs": []
    },
    {
      "cell_type": "code",
      "source": [
        "# check shape\n",
        "img.shape"
      ],
      "metadata": {
        "colab": {
          "base_uri": "https://localhost:8080/"
        },
        "id": "-1MacF2PvAtP",
        "outputId": "143e7fb4-5598-4c8d-a3c9-f0ff3bbcfa38"
      },
      "execution_count": null,
      "outputs": [
        {
          "output_type": "execute_result",
          "data": {
            "text/plain": [
              "(100, 31, 4)"
            ]
          },
          "metadata": {},
          "execution_count": 17
        }
      ]
    },
    {
      "cell_type": "markdown",
      "source": [
        "Shape should be [100,31,4] if used image generator function without changes.\n",
        "\n",
        "or [NUM_READS, SEQ_LENGTH, 4]\n"
      ],
      "metadata": {
        "id": "Rsb5-SBampd7"
      }
    },
    {
      "cell_type": "code",
      "source": [
        "# let's see the image it created\n",
        "# channel 1\n",
        "plt.figure(figsize=(15,10))\n",
        "plt.imshow(img[:,:,0], cmap='Accent')#  interpolation='none')\n",
        "plt.show()"
      ],
      "metadata": {
        "id": "gEP1aS6jR-tH",
        "colab": {
          "base_uri": "https://localhost:8080/",
          "height": 592
        },
        "outputId": "cf411adf-470d-4042-baf1-297416d32fbf"
      },
      "execution_count": null,
      "outputs": [
        {
          "output_type": "display_data",
          "data": {
            "text/plain": [
              "<Figure size 1080x720 with 1 Axes>"
            ],
            "image/png": "[encoded data removed]"
          },
          "metadata": {
            "needs_background": "light"
          }
        }
      ]
    },
    {
      "cell_type": "markdown",
      "source": [
        "From this sample image, looking at the first channel, we can see the aligned reads! In the center (where there is a checkerboard stripe) is the varaint. Sometimes it is not this easily visible if you dont have the reference though."
      ],
      "metadata": {
        "id": "x6eEpOSWg99w"
      }
    },
    {
      "cell_type": "code",
      "source": [
        "# now lets look at quality of base reads\n",
        "# channel 2\n",
        "plt.figure(figsize=(15,10))\n",
        "plt.imshow(img[:,:,1], cmap='Accent')#  interpolation='none')\n",
        "plt.show()"
      ],
      "metadata": {
        "colab": {
          "base_uri": "https://localhost:8080/",
          "height": 592
        },
        "id": "K5yXIy3hjkZy",
        "outputId": "604ddb02-1f12-43c0-a0cf-af1dd634b961"
      },
      "execution_count": null,
      "outputs": [
        {
          "output_type": "display_data",
          "data": {
            "text/plain": [
              "<Figure size 1080x720 with 1 Axes>"
            ],
            "image/png": "[encoded data removed]"
          },
          "metadata": {
            "needs_background": "light"
          }
        }
      ]
    },
    {
      "cell_type": "code",
      "source": [
        "# now lets look at strand direction\n",
        "# channel 3\n",
        "plt.figure(figsize=(15,10))\n",
        "plt.imshow(img[:,:,2], cmap='Accent')#  interpolation='none')\n",
        "plt.show()"
      ],
      "metadata": {
        "colab": {
          "base_uri": "https://localhost:8080/",
          "height": 592
        },
        "id": "G86q2_vPj8xo",
        "outputId": "d1ac9d3f-35e1-4985-a358-a767242d4fcc"
      },
      "execution_count": null,
      "outputs": [
        {
          "output_type": "display_data",
          "data": {
            "text/plain": [
              "<Figure size 1080x720 with 1 Axes>"
            ],
            "image/png": "[encoded data removed]"
          },
          "metadata": {
            "needs_background": "light"
          }
        }
      ]
    },
    {
      "cell_type": "code",
      "source": [
        "# now lets look at mapping quality\n",
        "# channel 4\n",
        "plt.figure(figsize=(15,10))\n",
        "plt.imshow(img[:,:,3], cmap='Accent')#  interpolation='none')\n",
        "plt.show()"
      ],
      "metadata": {
        "colab": {
          "base_uri": "https://localhost:8080/",
          "height": 592
        },
        "id": "6_RmevookYj1",
        "outputId": "29272d35-d835-43d8-d9d9-4ad6c3baf701"
      },
      "execution_count": null,
      "outputs": [
        {
          "output_type": "display_data",
          "data": {
            "text/plain": [
              "<Figure size 1080x720 with 1 Axes>"
            ],
            "image/png": "[encoded data removed]"
          },
          "metadata": {
            "needs_background": "light"
          }
        }
      ]
    },
    {
      "cell_type": "markdown",
      "source": [
        "# Create Training, Test & Validation sets"
      ],
      "metadata": {
        "id": "t_EwOYluZnSY"
      }
    },
    {
      "cell_type": "markdown",
      "source": [
        "I'm choosing to only work with chromosome 1. Pick SNPs in the middle because of soft clip mutations.\n",
        "\n",
        "Soft-clipped bases should not be used in variant calling. Soft clip bases are bases at the beginning or end of the read that do not align anywhere on the reference.\n",
        "These bases are likely introduced due to sequencing errors."
      ],
      "metadata": {
        "id": "R-YuBS-iaGuo"
      }
    },
    {
      "cell_type": "code",
      "source": [
        "# start at SNP pos: 3317052 arbitrarily picked. \n",
        "# to start window around SNP, minus 15 from 3317052 to create the window.\n",
        "\n",
        "# start loop at position 3317052\n",
        "\n",
        "# Remove rows from the VCF file that have more than one letter under 'REF', and more than one letter under 'ALT'. \n",
        "# For some reason, having multiple ref or alt messes up the image generated. Wasnt able to debug and fix this :(\n",
        "# subset chromosome 1 data in new dataframe\n",
        "\n",
        "new_vcf_dataframe = vcf_dataframe.loc[vcf_dataframe['REF'].isin(['G','C','A','T'])]\n",
        "\n",
        "single_vcf_dataframe = new_vcf_dataframe.loc[new_vcf_dataframe['ALT'].isin(['G','C','A','T'])]\n",
        "\n",
        "chr1_vcf_dataframe = single_vcf_dataframe.loc[single_vcf_dataframe['CHROM'].isin(['chr1'])]\n",
        "\n",
        "vcf_positions = chr1_vcf_dataframe['POS'].to_numpy()"
      ],
      "metadata": {
        "id": "xOks5HYBZqS1"
      },
      "execution_count": null,
      "outputs": []
    },
    {
      "cell_type": "code",
      "source": [
        "chr1_vcf_dataframe.loc[chr1_vcf_dataframe['POS'].isin(['3627052'])]"
      ],
      "metadata": {
        "colab": {
          "base_uri": "https://localhost:8080/",
          "height": 49
        },
        "id": "NpSNP5xWEIma",
        "outputId": "1cd9d4b3-3161-4175-f61d-e660f96ae646"
      },
      "execution_count": null,
      "outputs": [
        {
          "output_type": "execute_result",
          "data": {
            "text/plain": [
              "Empty DataFrame\n",
              "Columns: [CHROM, POS, ID, REF, ALT, QUAL, FILTER, INFO, FORMAT, NA12878]\n",
              "Index: []"
            ],
            "text/html": [
              "\n",
              "  <div id=\"df-430cd7aa-5d67-4bb0-bd06-81d0358efa82\">\n",
              "    <div class=\"colab-df-container\">\n",
              "      <div>\n",
              "<style scoped>\n",
              "    .dataframe tbody tr th:only-of-type {\n",
              "        vertical-align: middle;\n",
              "    }\n",
              "\n",
              "    .dataframe tbody tr th {\n",
              "        vertical-align: top;\n",
              "    }\n",
              "\n",
              "    .dataframe thead th {\n",
              "        text-align: right;\n",
              "    }\n",
              "</style>\n",
              "<table border=\"1\" class=\"dataframe\">\n",
              "  <thead>\n",
              "    <tr style=\"text-align: right;\">\n",
              "      <th></th>\n",
              "      <th>CHROM</th>\n",
              "      <th>POS</th>\n",
              "      <th>ID</th>\n",
              "      <th>REF</th>\n",
              "      <th>ALT</th>\n",
              "      <th>QUAL</th>\n",
              "      <th>FILTER</th>\n",
              "      <th>INFO</th>\n",
              "      <th>FORMAT</th>\n",
              "      <th>NA12878</th>\n",
              "    </tr>\n",
              "  </thead>\n",
              "  <tbody>\n",
              "  </tbody>\n",
              "</table>\n",
              "</div>\n",
              "      <button class=\"colab-df-convert\" onclick=\"convertToInteractive('df-430cd7aa-5d67-4bb0-bd06-81d0358efa82')\"\n",
              "              title=\"Convert this dataframe to an interactive table.\"\n",
              "              style=\"display:none;\">\n",
              "        \n",
              "  <svg xmlns=\"http://www.w3.org/2000/svg\" height=\"24px\"viewBox=\"0 0 24 24\"\n",
              "       width=\"24px\">\n",
              "    <path d=\"M0 0h24v24H0V0z\" fill=\"none\"/>\n",
              "    <path d=\"M18.56 5.44l.94 2.06.94-2.06 2.06-.94-2.06-.94-.94-2.06-.94 2.06-2.06.94zm-11 1L8.5 8.5l.94-2.06 2.06-.94-2.06-.94L8.5 2.5l-.94 2.06-2.06.94zm10 10l.94 2.06.94-2.06 2.06-.94-2.06-.94-.94-2.06-.94 2.06-2.06.94z\"/><path d=\"M17.41 7.96l-1.37-1.37c-.4-.4-.92-.59-1.43-.59-.52 0-1.04.2-1.43.59L10.3 9.45l-7.72 7.72c-.78.78-.78 2.05 0 2.83L4 21.41c.39.39.9.59 1.41.59.51 0 1.02-.2 1.41-.59l7.78-7.78 2.81-2.81c.8-.78.8-2.07 0-2.86zM5.41 20L4 18.59l7.72-7.72 1.47 1.35L5.41 20z\"/>\n",
              "  </svg>\n",
              "      </button>\n",
              "      \n",
              "  <style>\n",
              "    .colab-df-container {\n",
              "      display:flex;\n",
              "      flex-wrap:wrap;\n",
              "      gap: 12px;\n",
              "    }\n",
              "\n",
              "    .colab-df-convert {\n",
              "      background-color: #E8F0FE;\n",
              "      border: none;\n",
              "      border-radius: 50%;\n",
              "      cursor: pointer;\n",
              "      display: none;\n",
              "      fill: #1967D2;\n",
              "      height: 32px;\n",
              "      padding: 0 0 0 0;\n",
              "      width: 32px;\n",
              "    }\n",
              "\n",
              "    .colab-df-convert:hover {\n",
              "      background-color: #E2EBFA;\n",
              "      box-shadow: 0px 1px 2px rgba(60, 64, 67, 0.3), 0px 1px 3px 1px rgba(60, 64, 67, 0.15);\n",
              "      fill: #174EA6;\n",
              "    }\n",
              "\n",
              "    [theme=dark] .colab-df-convert {\n",
              "      background-color: #3B4455;\n",
              "      fill: #D2E3FC;\n",
              "    }\n",
              "\n",
              "    [theme=dark] .colab-df-convert:hover {\n",
              "      background-color: #434B5C;\n",
              "      box-shadow: 0px 1px 3px 1px rgba(0, 0, 0, 0.15);\n",
              "      filter: drop-shadow(0px 1px 2px rgba(0, 0, 0, 0.3));\n",
              "      fill: #FFFFFF;\n",
              "    }\n",
              "  </style>\n",
              "\n",
              "      <script>\n",
              "        const buttonEl =\n",
              "          document.querySelector('#df-430cd7aa-5d67-4bb0-bd06-81d0358efa82 button.colab-df-convert');\n",
              "        buttonEl.style.display =\n",
              "          google.colab.kernel.accessAllowed ? 'block' : 'none';\n",
              "\n",
              "        async function convertToInteractive(key) {\n",
              "          const element = document.querySelector('#df-430cd7aa-5d67-4bb0-bd06-81d0358efa82');\n",
              "          const dataTable =\n",
              "            await google.colab.kernel.invokeFunction('convertToInteractive',\n",
              "                                                     [key], {});\n",
              "          if (!dataTable) return;\n",
              "\n",
              "          const docLinkHtml = 'Like what you see? Visit the ' +\n",
              "            '<a target=\"_blank\" href=https://colab.research.google.com/notebooks/data_table.ipynb>data table notebook</a>'\n",
              "            + ' to learn more about interactive tables.';\n",
              "          element.innerHTML = '';\n",
              "          dataTable['output_type'] = 'display_data';\n",
              "          await google.colab.output.renderOutput(dataTable, element);\n",
              "          const docLink = document.createElement('div');\n",
              "          docLink.innerHTML = docLinkHtml;\n",
              "          element.appendChild(docLink);\n",
              "        }\n",
              "      </script>\n",
              "    </div>\n",
              "  </div>\n",
              "  "
            ]
          },
          "metadata": {},
          "execution_count": 24
        }
      ]
    },
    {
      "cell_type": "code",
      "source": [
        "# the following is for generating 1,000 images\n",
        "base_num = np.linspace(3317052, 3348052, num= 1001, dtype=int) # 1,000 images of 31 nucleotides each, need 31,000 nucleotide samples\n",
        "\n",
        "# the following is for generating 10,000 images\n",
        "#base_num = np.linspace(3317052, 3627052, num= 10001, dtype=int) # 10,000 images of 31 nucleotides each, need 310,000 nucleotide samples"
      ],
      "metadata": {
        "id": "HOUAJxGNO7v5"
      },
      "execution_count": null,
      "outputs": []
    },
    {
      "cell_type": "code",
      "source": [
        "# # function to make image and label pairs. center read only.\n",
        "# def make_list_of_images(bases_list):\n",
        "#   \"\"\"\n",
        "#   Creates a python list of the images that will be used for training/testing.\n",
        "\n",
        "#   Checks if center read has a variant or not.\n",
        "\n",
        "#   0 = No variant in image. Ground truth.\n",
        "#   1 = Variant is in image. Ground truth.\n",
        "#   \"\"\"\n",
        "\n",
        "#   img_variant_list = []\n",
        "  \n",
        "\n",
        "#   for pos in range(len(bases_list)-1):\n",
        "#     reads = get_reads(NA12878_S1_samfile, \"chr1\", bases_list[pos], bases_list[pos+1])\n",
        "#     img = generate_image(chrX = 'chr1', position= (bases_list[pos]+16), bamfile = NA12878_S1_samfile, ref = ref, reads = reads)\n",
        "    \n",
        "#     yes_list = [bases_list[pos]+16]\n",
        "#     # if theres an snp here, this is a variant image\n",
        "\n",
        "#     if any(item in yes_list for item in vcf_positions):\n",
        "#       img_variant_list.append(np.array(([img],[1]), dtype=object))# YES\n",
        "#       continue\n",
        "\n",
        "#     else:\n",
        "#       img_variant_list.append(np.array(([img],[0]), dtype=object))# NO\n",
        "#       continue\n",
        "\n",
        "#   return img_variant_list\n"
      ],
      "metadata": {
        "id": "6E69blaybGHP"
      },
      "execution_count": null,
      "outputs": []
    },
    {
      "cell_type": "code",
      "source": [
        "# function to make image and label pairs. looks for any read in the whole image.\n",
        "def make_list_of_images(bases_list):\n",
        "  \"\"\"\n",
        "  Creates a python list of the images that will be used for training/testing.\n",
        "\n",
        "  Checks if any read in the image has a variant or not.\n",
        "\n",
        "  0 = No variant in image. Ground truth.\n",
        "  1 = Variant is in image. Ground truth.\n",
        "  \"\"\"\n",
        "\n",
        "  img_variant_list = []\n",
        "  \n",
        "\n",
        "  for pos in range(len(bases_list)-1):\n",
        "    reads = get_reads(NA12878_S1_samfile, \"chr1\", bases_list[pos], bases_list[pos+1])\n",
        "    img = generate_image(chrX = 'chr1', position= (bases_list[pos]+16), bamfile = NA12878_S1_samfile, ref = ref, reads = reads)\n",
        "    \n",
        "    yes_list = list(range(bases_list[pos]+1,bases_list[pos+1]-1)) # dont include first and last read. later will get cut from img for resizing. \n",
        "    # if theres an snp here, this is a variant image\n",
        "\n",
        "    if any(item in yes_list for item in vcf_positions):\n",
        "      img_variant_list.append(np.array(([img],[1]), dtype=object))# YES\n",
        "      continue\n",
        "\n",
        "    else:\n",
        "      img_variant_list.append(np.array(([img],[0]), dtype=object))# NO\n",
        "      continue\n",
        "\n",
        "  return img_variant_list"
      ],
      "metadata": {
        "id": "H5jBZTc0PCtV"
      },
      "execution_count": null,
      "outputs": []
    },
    {
      "cell_type": "code",
      "source": [
        "img_variant_list = make_list_of_images(base_num)"
      ],
      "metadata": {
        "id": "SXa87JXz3duF"
      },
      "execution_count": null,
      "outputs": []
    },
    {
      "cell_type": "code",
      "source": [
        "## save to google drive!\n",
        "## 1,000 images\n",
        "# np.save(f'{DATAOUT}img_variant_list_1000.npy', img_variant_list)\n",
        "## 10,000 images\n",
        "# np.save(f'{DATAOUT}img_variant_list_10000.npy', img_variant_list)"
      ],
      "metadata": {
        "id": "lCfJOuDo4_fU"
      },
      "execution_count": null,
      "outputs": []
    },
    {
      "cell_type": "code",
      "source": [
        "# see if the function worked\n",
        "plt.imshow(img_variant_list[999][0][0][:,:,0], cmap='Accent')\n",
        "plt.show"
      ],
      "metadata": {
        "colab": {
          "base_uri": "https://localhost:8080/",
          "height": 283
        },
        "id": "N-1-_CAH_vx6",
        "outputId": "006f9b6a-1621-4497-d34d-822c9927b6ab"
      },
      "execution_count": null,
      "outputs": [
        {
          "output_type": "execute_result",
          "data": {
            "text/plain": [
              "<function matplotlib.pyplot.show(close=None, block=None)>"
            ]
          },
          "metadata": {},
          "execution_count": 53
        },
        {
          "output_type": "display_data",
          "data": {
            "text/plain": [
              "<Figure size 432x288 with 1 Axes>"
            ],
            "image/png": "[encoded data removed]"
          },
          "metadata": {
            "needs_background": "light"
          }
        }
      ]
    },
    {
      "cell_type": "markdown",
      "source": [
        "Since SNPs only occur once every ~1,000 base pairs, we cant just generate images from 30k bases in a row, because then the no variant images will outweigh the variant images. So here I'm generating more variant images for the classifier to train on. I'm pulling the sequence index directly from the VCF file."
      ],
      "metadata": {
        "id": "iSiwTYPq01tU"
      }
    },
    {
      "cell_type": "code",
      "source": [
        "## Enriching the training sample with examples of known SNPs present in the list\n",
        "\n",
        "# remove low quality reads for this\n",
        "enriched_df = chr1_vcf_dataframe.loc[chr1_vcf_dataframe['FILTER'] == 'PASS', 'POS'].to_numpy()\n",
        "\n",
        "## start index for 1,000 sample\n",
        "start_index = np.where(enriched_df == 3601923) # arbitrarily chose an index thats out of range from the previous sample generator and in the vcf file.\n",
        "\n",
        "## start index for 10,000 sample\n",
        "# start_index = np.where(enriched_df == 3620798) # arbitrarily chose an index thats out of range from the previous sample generator and in the vcf file.\n",
        "\n",
        "only_variants = enriched_df[start_index[0][0]:]\n",
        "\n",
        "# only_variants_pos = only_variants[:1001] # want 1,000 more samples\n",
        "only_variants_pos = only_variants[:10001] # want 10,000 more samples\n"
      ],
      "metadata": {
        "id": "YFnc2MIZP4Oo"
      },
      "execution_count": null,
      "outputs": []
    },
    {
      "cell_type": "code",
      "source": [
        "# This is a supplementary function\n",
        "\n",
        "def only_variant_images(bases_list, img_variant_list = img_variant_list):\n",
        "  \"\"\"\n",
        "  This function is supplementary to the one in the cell above. It adds to the list created by\n",
        "  the function above: img_variant_list.\n",
        "  \"\"\"\n",
        "  \n",
        "  for pos in range(len(bases_list)-1):\n",
        "\n",
        "    reads = get_reads(NA12878_S1_samfile, \"chr1\", (bases_list[pos]-16), (bases_list[pos]+15))\n",
        "    img = generate_image(chrX = 'chr1', position= bases_list[pos], bamfile = NA12878_S1_samfile, ref = ref, reads = reads)\n",
        "    \n",
        "    # append to list from before\n",
        "\n",
        "    img_variant_list.append(np.array(([img],[1]), dtype=object)) # YES\n",
        "\n",
        "\n",
        "  return img_variant_list"
      ],
      "metadata": {
        "id": "z29pIBwSIQTL"
      },
      "execution_count": null,
      "outputs": []
    },
    {
      "cell_type": "code",
      "source": [
        "img_variant_list = only_variant_images(only_variants_pos, img_variant_list)"
      ],
      "metadata": {
        "id": "AJ0QNyUvlGfF"
      },
      "execution_count": null,
      "outputs": []
    },
    {
      "cell_type": "code",
      "source": [
        "## save to google drive!\n",
        "## save 2,000 list\n",
        "# np.save(f'{DATAOUT}img_variant_list_2000.npy', img_variant_list)\n",
        "\n",
        "## save to google drive!\n",
        "## save 20,000 list\n",
        "np.save(f'{DATAOUT}img_variant_list_20000.npy', img_variant_list)"
      ],
      "metadata": {
        "id": "Hsbs4I8VwEmv"
      },
      "execution_count": null,
      "outputs": []
    },
    {
      "cell_type": "markdown",
      "source": [
        "Check to see if above code worked."
      ],
      "metadata": {
        "id": "2hd2JUPz4tyk"
      }
    },
    {
      "cell_type": "code",
      "source": [
        "plt.figure(figsize=(15,10))\n",
        "plt.imshow(img_variant_list[1500][0][0][:,:,0], cmap='Accent') #, interpolation='nearest'\n",
        "plt.show()"
      ],
      "metadata": {
        "colab": {
          "base_uri": "https://localhost:8080/",
          "height": 593
        },
        "id": "nDJ9pX6Gw4r0",
        "outputId": "e72b761d-64b8-484a-dc6f-510a11e2a1b4"
      },
      "execution_count": null,
      "outputs": [
        {
          "output_type": "display_data",
          "data": {
            "text/plain": [
              "<Figure size 1080x720 with 1 Axes>"
            ],
            "image/png": "[encoded data removed]"
          },
          "metadata": {
            "needs_background": "light"
          }
        }
      ]
    },
    {
      "cell_type": "code",
      "source": [
        "# only run if need to start from here\n",
        "# import numpy as np\n",
        "# img_variant_list = np.load(DATAOUT+'img_variant_list_2000.npy', allow_pickle = True)"
      ],
      "metadata": {
        "id": "NwaslJZmDose"
      },
      "execution_count": null,
      "outputs": []
    },
    {
      "cell_type": "code",
      "source": [
        "# Train, Val, Test split for 2,000 samples\n",
        "# 60:20:20 ratio\n",
        "\n",
        "# train_set = np.concatenate((img_variant_list[:600],img_variant_list[1000:1600]))\n",
        "# val_set = np.concatenate((img_variant_list[601:800], img_variant_list[1601:1800]))\n",
        "# test_set = np.concatenate((img_variant_list[801:1000],img_variant_list[1801:2000]))\n",
        "\n",
        "# train_size, _, _= np.shape(train_set[:])\n",
        "# val_size, _, _ = np.shape(val_set)\n",
        "# test_size,_,_ = np.shape(test_set)"
      ],
      "metadata": {
        "id": "RUMudQUE5PIR"
      },
      "execution_count": null,
      "outputs": []
    },
    {
      "cell_type": "code",
      "source": [
        "# Train, Val, Test split for 20,000 samples\n",
        "# 60:20:20 ratio\n",
        "train_set = np.concatenate((img_variant_list[:6000],img_variant_list[10000:16000]))\n",
        "val_set = np.concatenate((img_variant_list[6001:8000], img_variant_list[16001:18000]))\n",
        "test_set = np.concatenate((img_variant_list[8001:10000],img_variant_list[18001:20000]))\n",
        "\n",
        "train_size, _, _= np.shape(train_set[:])\n",
        "val_size, _, _ = np.shape(val_set)\n",
        "test_size,_,_ = np.shape(test_set)"
      ],
      "metadata": {
        "id": "CyxZsg7fbB47"
      },
      "execution_count": null,
      "outputs": []
    },
    {
      "cell_type": "code",
      "source": [
        "# separate image and labels for feeding into the model\n",
        "\n",
        "image_train = train_set[:,0,:]\n",
        "# turns object to float dtype (originally it is dtype= object):\n",
        "image_train = np.array(list(image_train[:, 0]), dtype=float)\n",
        "\n",
        "label_train = train_set[:,1,:]\n",
        "label_train = np.array(list(label_train[:, 0]), dtype=float)\n",
        "\n",
        "image_validation = val_set[:,0,:]\n",
        "image_validation = np.array(list(image_validation[:, 0]), dtype=float)\n",
        "\n",
        "label_validation = val_set[:,1,:]\n",
        "label_validation = np.array(list(label_validation[:, 0]), dtype=float)\n",
        "\n",
        "image_test = test_set[:,0,:]\n",
        "image_test = np.array(list(image_test[:, 0]), dtype=float)\n",
        "\n",
        "label_test = test_set[:,1,:]\n",
        "label_test = np.array(list(label_test[:, 0]), dtype=float)\n",
        "\n",
        "print('Images: train %d, validation %d, test %d \\nLabels: train %d, validation %d, test %d' % \\\n",
        "      (len(image_train), len(image_validation), len(image_test), len(label_train), len(label_validation), len(label_test)))"
      ],
      "metadata": {
        "colab": {
          "base_uri": "https://localhost:8080/"
        },
        "id": "UH1zSrrXZkOl",
        "outputId": "09810f6c-c28d-4d4f-dfaf-001b5da43d16"
      },
      "execution_count": null,
      "outputs": [
        {
          "output_type": "stream",
          "name": "stdout",
          "text": [
            "Images: train 12000, validation 3998, test 3998 \n",
            "Labels: train 12000, validation 3998, test 3998\n"
          ]
        }
      ]
    },
    {
      "cell_type": "code",
      "source": [
        "# plot data split distribution\n",
        "\n",
        "import seaborn as sns\n",
        "\n",
        "sns.set()\n",
        "set_stats = pd.DataFrame({'Data set': ['Train', 'Validation','Test'],\n",
        "                          '0': [np.count_nonzero(label_train==0), np.count_nonzero(label_validation==0), np.count_nonzero(label_test==0)],\n",
        "                          '1': [np.count_nonzero(label_train==1), np.count_nonzero(label_validation==1), np.count_nonzero(label_test==1)]})\n",
        "set_stats_long = set_stats.melt(id_vars='Data set')\n",
        "set_stats_long.rename(columns = {'value':'Number of Samples', 'variable':'Image label'}, inplace = True)\n",
        "\n",
        "ax = sns.barplot(data= set_stats_long, x='Data set', y='Number of Samples', hue='Image label', ci=None, palette= \"Accent_r\")\n",
        "ax.set_title(\"Data Distribution\")\n",
        "plt.show()\n"
      ],
      "metadata": {
        "colab": {
          "base_uri": "https://localhost:8080/",
          "height": 301
        },
        "id": "IIIaRTQOg-xF",
        "outputId": "86f32822-a410-4131-96fb-15000e1d42d7"
      },
      "execution_count": null,
      "outputs": [
        {
          "output_type": "display_data",
          "data": {
            "text/plain": [
              "<Figure size 432x288 with 1 Axes>"
            ],
            "image/png": "[encoded data removed]"
          },
          "metadata": {}
        }
      ]
    },
    {
      "cell_type": "code",
      "source": [
        "# In order to feed the image into the CNN, it must be a number that can be divisible. \n",
        "# So one column from the image vector is cropped to achieve size 100x30 which can be passed into a convolution.\n",
        "# this last column is not crucial for classification anyway.\n",
        "image_test_crop = image_test[:,:,:30,:]\n",
        "image_train_crop = image_train[:,:,:30,:]\n",
        "image_validation_crop = image_validation[:,:,:30,:]"
      ],
      "metadata": {
        "id": "OwxYu2H-MY01"
      },
      "execution_count": null,
      "outputs": []
    },
    {
      "cell_type": "code",
      "source": [
        "plt.figure(figsize=(15,10))\n",
        "plt.imshow(image_train[500,:,:,0], cmap='Accent')#  interpolation='none')\n",
        "plt.show()"
      ],
      "metadata": {
        "colab": {
          "base_uri": "https://localhost:8080/",
          "height": 595
        },
        "id": "m8UNUN4VJ1g7",
        "outputId": "4f3a9485-ecf5-4081-c0e8-ee18b86338d0"
      },
      "execution_count": null,
      "outputs": [
        {
          "output_type": "display_data",
          "data": {
            "text/plain": [
              "<Figure size 1080x720 with 1 Axes>"
            ],
            "image/png": "[encoded data removed]"
          },
          "metadata": {}
        }
      ]
    },
    {
      "cell_type": "markdown",
      "source": [
        "# NEURAL NETWORK MODEL\n",
        "\n",
        "\n",
        "\n"
      ],
      "metadata": {
        "id": "dXknOgGa45l1"
      }
    },
    {
      "cell_type": "code",
      "source": [
        "import numpy as np\n",
        "import matplotlib.pyplot as plt\n",
        "import pandas as pd\n",
        "import seaborn as sns\n",
        "\n",
        "import torch\n",
        "import torch.nn as nn\n",
        "import torch.nn.functional as F\n",
        "import torch.utils.data\n",
        "from torch.optim import Adam, SGD\n",
        "from torch.utils.data import TensorDataset, DataLoader, random_split\n",
        "assert(torch.cuda.is_available()) # if this fails go to Runtime -> Change runtime type -> Set \"Hardware Accelerator\"\n",
        "print(\"Torch version:\", torch.__version__)\n",
        "\n",
        "import torchvision\n",
        "import torchvision.transforms as transforms\n",
        "\n",
        "from sklearn.metrics import accuracy_score, f1_score, precision_recall_curve\n",
        "\n",
        "%config Completer.use_jedi = False"
      ],
      "metadata": {
        "colab": {
          "base_uri": "https://localhost:8080/"
        },
        "id": "tid7vHmx3nKV",
        "outputId": "916b68ed-456c-41be-c8c9-058a1fc8ff06"
      },
      "execution_count": null,
      "outputs": [
        {
          "output_type": "stream",
          "name": "stdout",
          "text": [
            "Torch version: 1.13.0+cu116\n"
          ]
        }
      ]
    },
    {
      "cell_type": "markdown",
      "source": [
        "## Dataloader\n",
        "Reformat the images and labels so that they can be fed into the data loader."
      ],
      "metadata": {
        "id": "wKYAnjEdeI8Z"
      }
    },
    {
      "cell_type": "code",
      "source": [
        "image_train_torch = torch.from_numpy(image_train_crop).type(torch.FloatTensor).view(-1, 4, 30, 100)\n",
        "label_train_torch = torch.from_numpy(label_train).type(torch.LongTensor)\n",
        "\n",
        "image_validation_torch = torch.from_numpy(image_validation_crop).type(torch.FloatTensor).view(-1, 4, 30, 100)\n",
        "label_validation_torch = torch.from_numpy(label_validation).type(torch.LongTensor)\n",
        "\n",
        "image_test_torch = torch.from_numpy(image_test_crop).type(torch.FloatTensor).view(-1, 4, 30, 100)\n",
        "label_test_torch = torch.from_numpy(label_test).type(torch.LongTensor)\n",
        "\n",
        "train_data = TensorDataset(image_train_torch, label_train_torch)\n",
        "train_loader = DataLoader(train_data, batch_size = 1, shuffle=True)\n",
        "\n",
        "val_data = TensorDataset(image_validation_torch, label_validation_torch)\n",
        "valid_loader = DataLoader(val_data, batch_size = 1, shuffle = True)\n",
        "\n",
        "test_data = TensorDataset(image_test_torch, label_test_torch)\n",
        "test_loader = DataLoader(test_data, batch_size = 1)"
      ],
      "metadata": {
        "id": "OMs0JUrreG3Y"
      },
      "execution_count": null,
      "outputs": []
    },
    {
      "cell_type": "markdown",
      "source": [
        "##CNN Model using PyTorch:\n",
        "\n",
        "In deep learning, a convolutional neural network (CNN, or ConvNet) is a class of artificial neural network (ANN), most commonly used for images. \n",
        "\n",
        "[Link](http://vision.stanford.edu/cs598_spring07/papers/Lecun98.pdf) to LeNet-5 original model used to classify MNIST dataset.\n",
        "\n",
        "\n",
        "Here I tried two different versions of the models. Their differences are quite small. Mostly in kernel size, and number of output nodes between layers."
      ],
      "metadata": {
        "id": "rdfI_6utvgCa"
      }
    },
    {
      "cell_type": "code",
      "source": [
        "# This CNN model is similar to the one used to classify MNIST dataset as well as CIFAR10\n",
        "# modified to fit a 100,30 or 100,30,4 image input.\n",
        "\n",
        "class LeNetModel(nn.Module):\n",
        "    '''ConvNet -> ReLU -> Max_Pool -> ConvNet -> ReLU -> Max_Pool -> Reshape -> FC -> Sigmoid -> FC -> Sigmoid -> FC -> SoftMax -> Cross-Entropy\n",
        "      \n",
        "      Output H = \n",
        "      (input H + (padding Hx2)- kernel H) / (stride)      + 1\n",
        "\n",
        "      Output W = \n",
        "      (output W + (padding Wx2)- kernel W) / (stride)      + 1\n",
        "    \n",
        "    '''\n",
        "    def __init__(self):\n",
        "        '''Define model modules.'''\n",
        "        super(LeNetModel, self).__init__()\n",
        "        self.conv1 = nn.Conv2d(4, 10, 5, stride =1, padding =0)#in_channels, out_channels, kernel_size, stride=1, padding=0,\n",
        "        self.conv2 = nn.Conv2d(10, 15, 10, stride=1, padding=1)# in features, out features\n",
        "        self.fc1 = nn.Linear(15 * 6 * 10, 50)\n",
        "        self.fc2 = nn.Linear(50, 10)\n",
        "        self.fc3 = nn.Linear(10, 2)\n",
        "\n",
        "    def forward(self, x):\n",
        "        '''Define the model architecture (the sequence to place the model modules).'''\n",
        "        x = F.relu(self.conv1(x))\n",
        "        x = F.max_pool2d(x, 2)\n",
        "        x = F.relu(self.conv2(x))\n",
        "        x = F.max_pool2d(x, 2)\n",
        "        x = x.view(-1, 15 * 6 * 10)\n",
        "        x = F.sigmoid(self.fc1(x))\n",
        "        x = F.sigmoid(self.fc2(x))\n",
        "        x = self.fc3(x)\n",
        "        return F.log_softmax(x, dim = 1)\n",
        "\n",
        "model = LeNetModel()\n",
        "model.cuda()\n",
        "\n",
        "# Adam optimizer with 0.001 learning rate\n",
        "optimizer = Adam(model.parameters(), lr = 0.01)\n",
        "print(model)"
      ],
      "metadata": {
        "colab": {
          "base_uri": "https://localhost:8080/"
        },
        "id": "Kr1nQUDkT7Go",
        "outputId": "47a06add-4f18-4b61-83d7-cb801b4fd498"
      },
      "execution_count": null,
      "outputs": [
        {
          "output_type": "stream",
          "name": "stdout",
          "text": [
            "LeNetModel(\n",
            "  (conv1): Conv2d(4, 10, kernel_size=(5, 5), stride=(1, 1))\n",
            "  (conv2): Conv2d(10, 15, kernel_size=(10, 10), stride=(1, 1), padding=(1, 1))\n",
            "  (fc1): Linear(in_features=900, out_features=50, bias=True)\n",
            "  (fc2): Linear(in_features=50, out_features=10, bias=True)\n",
            "  (fc3): Linear(in_features=10, out_features=2, bias=True)\n",
            ")\n"
          ]
        }
      ]
    },
    {
      "cell_type": "markdown",
      "source": [
        "This is the one I ended up using for testing:"
      ],
      "metadata": {
        "id": "9xuxsgYAfODN"
      }
    },
    {
      "cell_type": "code",
      "source": [
        "class LeNetModel(nn.Module):\n",
        "    '''ConvNet -> ReLU -> Max_Pool -> ConvNet -> ReLU -> Max_Pool -> Reshape -> Fully Connected -> Sigmoid -> Fully Connected -> Sigmoid -> FC -> SoftMax -> Cross-Entropy\n",
        "\n",
        "      Output H = \n",
        "      (input H + (padding Hx2)- kernel H) / (stride)      + 1\n",
        "\n",
        "      Output W = \n",
        "      (output W + (padding Wx2)- kernel W) / (stride)      + 1\n",
        "\n",
        "    '''\n",
        "    def __init__(self):\n",
        "        '''Define model modules.'''\n",
        "        super(LeNetModel, self).__init__()\n",
        "        self.conv1 = nn.Conv2d(4, 10, 7, stride =1, padding =0)#in_channels, out_channels, kernel_size, stride=1, padding=0,\n",
        "        self.conv2 = nn.Conv2d(10, 15, 3, stride=1, padding=1)\n",
        "        self.fc1 = nn.Linear(15 * 23 * 6, 50) # in features, out features\n",
        "        self.fc2 = nn.Linear(50, 10)\n",
        "        self.fc3 = nn.Linear(10, 2)\n",
        "\n",
        "    def forward(self, x):\n",
        "        '''Define the model architecture (the sequence to place the model modules).'''\n",
        "        x = F.relu(self.conv1(x))\n",
        "        x = F.max_pool2d(x, 2)\n",
        "        x = F.relu(self.conv2(x))\n",
        "        x = F.max_pool2d(x, 2)\n",
        "        x = x.view(-1, 15 * 23 * 6)\n",
        "        x = F.sigmoid(self.fc1(x))\n",
        "        x = F.sigmoid(self.fc2(x))\n",
        "        x = self.fc3(x)\n",
        "        return F.log_softmax(x, dim = 1)\n",
        "\n",
        "model = LeNetModel()\n",
        "model.cuda()\n",
        "print(model)\n",
        "\n",
        "# Adam optimizer with 0.001 learning rate\n",
        "optimizer = Adam(model.parameters(), lr = 0.001)"
      ],
      "metadata": {
        "colab": {
          "base_uri": "https://localhost:8080/"
        },
        "id": "WaFW4x5PiFyX",
        "outputId": "bff68413-4ff9-4e02-b123-17ea0517d1ed"
      },
      "execution_count": null,
      "outputs": [
        {
          "output_type": "stream",
          "name": "stdout",
          "text": [
            "LeNetModel(\n",
            "  (conv1): Conv2d(4, 10, kernel_size=(7, 7), stride=(1, 1))\n",
            "  (conv2): Conv2d(10, 15, kernel_size=(3, 3), stride=(1, 1), padding=(1, 1))\n",
            "  (fc1): Linear(in_features=2070, out_features=50, bias=True)\n",
            "  (fc2): Linear(in_features=50, out_features=10, bias=True)\n",
            "  (fc3): Linear(in_features=10, out_features=2, bias=True)\n",
            ")\n"
          ]
        }
      ]
    },
    {
      "cell_type": "markdown",
      "source": [
        "## Train & Validation"
      ],
      "metadata": {
        "id": "xsdFZKtEvVgX"
      }
    },
    {
      "cell_type": "code",
      "source": [
        "# Train model, 25 epochs\n",
        "EPOCHS = 25\n",
        "\n",
        "# Two lists to keep the losses at the end of each epoch.\n",
        "train_epoch_loss = list()\n",
        "validation_epoch_loss = list()\n",
        "\n",
        "for epoch in range(EPOCHS):\n",
        "    \n",
        "    # A dummy list to keep the losses at the end of each iteration (one batch forward and backward process).\n",
        "    train_loss = list()\n",
        "    valid_loss = list()\n",
        "    \n",
        "    #######################################################\n",
        "    ################### Training Loop #####################\n",
        "    #######################################################\n",
        "    \n",
        "    # Set the model to train mode so that the parameters can be updated.\n",
        "    model.train()\n",
        "    \n",
        "    for batch_index, (train_image, train_label) in enumerate(train_loader):\n",
        "        train_label_predicted = model(train_image.cuda())\n",
        "\n",
        "        # compute the loss\n",
        "        #loss_fun = \n",
        "        loss = F.cross_entropy(train_label_predicted, train_label.cuda())\n",
        "        train_loss.append(loss.cpu().data.item())\n",
        "\n",
        "        # reset the gradient \n",
        "        optimizer.zero_grad()\n",
        "        # backpropagate the loss\n",
        "        loss.backward()\n",
        "        # update the parameters\n",
        "        optimizer.step()\n",
        "        \n",
        "    # Take the average of iteration losses and append it to the epoch losses list\n",
        "    train_epoch_loss.append(np.mean(train_loss))\n",
        "\n",
        "            \n",
        "    #######################################################\n",
        "    #################### validation #######################\n",
        "    #######################################################\n",
        "    \n",
        "    # Set the model to evaluation mode so that parameters are fixed.\n",
        "    model.eval()\n",
        "    \n",
        "    # Since number of samples in validation is not that large, we can call the model on the whole set at once (No need for looping through samples!)\n",
        "    # I could not get the model to work without the for loop. This model runs very slow. I wonder if this loop causes the delay.\n",
        "    for batch_index, (valid_image, valid_label) in enumerate(valid_loader):\n",
        "\n",
        "        validation_label_predicted = model(valid_image.cuda())\n",
        "            \n",
        "        # compare the loss\n",
        "        loss = F.cross_entropy(validation_label_predicted, valid_label.cuda())\n",
        "        valid_loss.append(loss.cpu().data.item())\n",
        "        \n",
        "    # Take the average of iteration losses and append it to the epoch losses list\n",
        "    validation_epoch_loss.append(np.mean(valid_loss))\n",
        "    \n",
        "    # save models\n",
        "    torch.save(model.state_dict(),DATAOUT+'/Model_Epochs/checkpoint_epoch_%s.pth' % (epoch))\n",
        "\n",
        "    print(\"Epoch: {} | train_loss: {} | validation_loss: {}\".format(epoch, train_epoch_loss[-1], validation_epoch_loss[-1]))"
      ],
      "metadata": {
        "colab": {
          "base_uri": "https://localhost:8080/"
        },
        "id": "WgZLmzw-sEcY",
        "outputId": "de22d602-aa75-4a32-99c4-c2a80c2340e8"
      },
      "execution_count": null,
      "outputs": [
        {
          "output_type": "stream",
          "name": "stderr",
          "text": [
            "/usr/local/lib/python3.8/dist-packages/torch/nn/functional.py:1967: UserWarning: nn.functional.sigmoid is deprecated. Use torch.sigmoid instead.\n",
            "  warnings.warn(\"nn.functional.sigmoid is deprecated. Use torch.sigmoid instead.\")\n"
          ]
        },
        {
          "output_type": "stream",
          "name": "stdout",
          "text": [
            "Epoch: 0 | train_loss: 0.030464259860197976 | validation_loss: 4.0953427782874385\n",
            "Epoch: 1 | train_loss: 0.034551334492656675 | validation_loss: 4.653718556551487\n",
            "Epoch: 2 | train_loss: 0.026277829384178403 | validation_loss: 4.902673999651141\n",
            "Epoch: 3 | train_loss: 0.024223760530348044 | validation_loss: 5.05619874038501\n",
            "Epoch: 4 | train_loss: 0.023378639492009825 | validation_loss: 5.172029001209307\n",
            "Epoch: 5 | train_loss: 0.02294659460154359 | validation_loss: 5.266807366100596\n",
            "Epoch: 6 | train_loss: 0.022698778600034226 | validation_loss: 5.348043539445586\n",
            "Epoch: 7 | train_loss: 0.02254789272256509 | validation_loss: 5.419723434314531\n",
            "Epoch: 8 | train_loss: 0.02245308236580225 | validation_loss: 5.484240350081841\n",
            "Epoch: 9 | train_loss: 0.022392580449206435 | validation_loss: 5.54313650025216\n",
            "Epoch: 10 | train_loss: 0.022353901906895242 | validation_loss: 5.5974975168504715\n",
            "Epoch: 11 | train_loss: 0.022329691051156564 | validation_loss: 5.648114970552088\n",
            "Epoch: 12 | train_loss: 0.0223152788490313 | validation_loss: 5.695616482106465\n",
            "Epoch: 13 | train_loss: 0.02230776709836899 | validation_loss: 5.740409126369848\n",
            "Epoch: 14 | train_loss: 0.0223051090821632 | validation_loss: 5.782921782467004\n",
            "Epoch: 15 | train_loss: 0.022306113364465394 | validation_loss: 5.823410383857063\n",
            "Epoch: 16 | train_loss: 0.022309849396610237 | validation_loss: 5.862104174476873\n",
            "Epoch: 17 | train_loss: 0.022315656338400686 | validation_loss: 5.899263794137305\n",
            "Epoch: 18 | train_loss: 0.022323144493061893 | validation_loss: 5.9350417543971\n",
            "Epoch: 19 | train_loss: 0.022331989080972486 | validation_loss: 5.9695648901235066\n",
            "Epoch: 20 | train_loss: 0.02234190245197552 | validation_loss: 6.002968555324706\n",
            "Epoch: 21 | train_loss: 0.022352719924042353 | validation_loss: 6.03535754206317\n",
            "Epoch: 22 | train_loss: 0.022364281239485344 | validation_loss: 6.066854336184101\n",
            "Epoch: 23 | train_loss: 0.022376513514627164 | validation_loss: 6.097515176324929\n",
            "Epoch: 24 | train_loss: 0.02238927341804841 | validation_loss: 6.1274244800756925\n"
          ]
        }
      ]
    },
    {
      "cell_type": "code",
      "source": [
        "plt.figure(figsize = (5, 2), dpi = 100)\n",
        "plt.plot(train_epoch_loss, '-o', label = 'training loss', markersize = 3)\n",
        "#plt.plot(validation_epoch_loss, '-o', label = 'validation loss', markersize = 3)\n",
        "plt.legend(loc = 'upper right');"
      ],
      "metadata": {
        "colab": {
          "base_uri": "https://localhost:8080/",
          "height": 220
        },
        "id": "MAskPArMgfwh",
        "outputId": "c604df01-ab2a-44a7-e6d8-73a213d8127c"
      },
      "execution_count": null,
      "outputs": [
        {
          "output_type": "display_data",
          "data": {
            "text/plain": [
              "<Figure size 500x200 with 1 Axes>"
            ],
            "image/png": "[encoded data removed]"
          },
          "metadata": {}
        }
      ]
    },
    {
      "cell_type": "markdown",
      "source": [
        "## Test"
      ],
      "metadata": {
        "id": "N1PIMj43vJuq"
      }
    },
    {
      "cell_type": "code",
      "source": [
        "# Predict test set labels\n",
        "\n",
        "model.eval()\n",
        "label_predicted_all = []\n",
        "test_label_true = []\n",
        "    \n",
        "for batch_index, (test_image, test_label) in enumerate(test_loader):\n",
        "    label_predicted_one_hot = model(test_image.cuda())\n",
        "    label_predicted_probability, label_predicted_index = torch.max(label_predicted_one_hot.data, 1)\n",
        "    \n",
        "for current_prediction in label_predicted_index:\n",
        "    label_predicted_all.append(current_prediction.detach().cpu().numpy().item())\n",
        "\n",
        "#label_predicted_all\n",
        "\n",
        "# Accuracy\n",
        "accuracy = accuracy_score(test_label, label_predicted_all)\n",
        "print(\"Accuracy:\", accuracy * 100, \"%\")"
      ],
      "metadata": {
        "colab": {
          "base_uri": "https://localhost:8080/"
        },
        "id": "P7_BkD6Q5lYB",
        "outputId": "029bcf42-8f93-49f6-f06f-5cc6324b9dff"
      },
      "execution_count": null,
      "outputs": [
        {
          "output_type": "stream",
          "name": "stdout",
          "text": [
            "Accuracy: 100.0 %\n"
          ]
        }
      ]
    },
    {
      "cell_type": "markdown",
      "source": [
        "## Evaluation Metrics"
      ],
      "metadata": {
        "id": "o0jdTA_RvMZx"
      }
    },
    {
      "cell_type": "code",
      "source": [
        "# calculate f1_score\n",
        "f1score = f1_score(test_label, label_predicted_all)\n",
        "print(\"F1 Score:\", f1score)"
      ],
      "metadata": {
        "colab": {
          "base_uri": "https://localhost:8080/"
        },
        "id": "9hzWfeA_n3-o",
        "outputId": "a5ad00df-5b80-42c2-c637-741249d6356a"
      },
      "execution_count": null,
      "outputs": [
        {
          "output_type": "stream",
          "name": "stdout",
          "text": [
            "F1 Score: 1.0\n"
          ]
        }
      ]
    },
    {
      "cell_type": "code",
      "source": [
        "# precision recall curve\n",
        "precision, recall, thresholds = precision_recall_curve(test_label, label_predicted_all)\n",
        "print(\"Precision:\", precision)\n",
        "print(\"Recall:\", recall)\n",
        "print(\"Thresholds:\", thresholds)"
      ],
      "metadata": {
        "colab": {
          "base_uri": "https://localhost:8080/"
        },
        "id": "hJQ_ErmBtlbO",
        "outputId": "66aab3c4-e165-406d-91ad-8f39cc58d9ca"
      },
      "execution_count": null,
      "outputs": [
        {
          "output_type": "stream",
          "name": "stdout",
          "text": [
            "Precision: [1. 1.]\n",
            "Recall: [1. 0.]\n",
            "Thresholds: [1]\n"
          ]
        }
      ]
    },
    {
      "cell_type": "code",
      "source": [
        "# confusion matrix"
      ],
      "metadata": {
        "id": "7noUtq-F-yvj"
      },
      "execution_count": null,
      "outputs": []
    }
  ],
  "metadata": {
    "colab": {
      "provenance": [],
      "machine_shape": "hm",
      "toc_visible": true
    },
    "gpuClass": "standard",
    "kernelspec": {
      "display_name": "Python 3",
      "name": "python3"
    },
    "accelerator": "GPU"
  },
  "nbformat": 4,
  "nbformat_minor": 0
}